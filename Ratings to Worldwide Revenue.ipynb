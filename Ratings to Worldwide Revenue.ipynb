{
 "cells": [
  {
   "cell_type": "markdown",
   "metadata": {},
   "source": [
    "# CI for Rating to Revenue\n",
    "### This notebook will use IMDB and The Numbers data sets to determine how important rating is to a lucrative movie\n"
   ]
  },
  {
   "cell_type": "code",
   "execution_count": 61,
   "metadata": {},
   "outputs": [],
   "source": [
    "### Import libraries\n",
    "import pandas as pd\n",
    "import sqlite3 \n",
    "import matplotlib.pyplot as plt\n",
    "import numpy as np\n",
    "%matplotlib inline"
   ]
  },
  {
   "cell_type": "code",
   "execution_count": 7,
   "metadata": {},
   "outputs": [],
   "source": [
    "## Connect to Database\n",
    "conn = sqlite3.connect('im.db')"
   ]
  },
  {
   "cell_type": "code",
   "execution_count": 16,
   "metadata": {},
   "outputs": [
    {
     "data": {
      "text/html": [
       "<div>\n",
       "<style scoped>\n",
       "    .dataframe tbody tr th:only-of-type {\n",
       "        vertical-align: middle;\n",
       "    }\n",
       "\n",
       "    .dataframe tbody tr th {\n",
       "        vertical-align: top;\n",
       "    }\n",
       "\n",
       "    .dataframe thead th {\n",
       "        text-align: right;\n",
       "    }\n",
       "</style>\n",
       "<table border=\"1\" class=\"dataframe\">\n",
       "  <thead>\n",
       "    <tr style=\"text-align: right;\">\n",
       "      <th></th>\n",
       "      <th>Primary_Title</th>\n",
       "      <th>Original_Title</th>\n",
       "      <th>AVG_Rating</th>\n",
       "      <th>Num_Votes</th>\n",
       "    </tr>\n",
       "  </thead>\n",
       "  <tbody>\n",
       "    <tr>\n",
       "      <th>0</th>\n",
       "      <td>Laiye Je Yaarian</td>\n",
       "      <td>Laiye Je Yaarian</td>\n",
       "      <td>8.3</td>\n",
       "      <td>31</td>\n",
       "    </tr>\n",
       "    <tr>\n",
       "      <th>1</th>\n",
       "      <td>Borderless</td>\n",
       "      <td>Borderless</td>\n",
       "      <td>8.9</td>\n",
       "      <td>559</td>\n",
       "    </tr>\n",
       "    <tr>\n",
       "      <th>2</th>\n",
       "      <td>Just Inès</td>\n",
       "      <td>Just Inès</td>\n",
       "      <td>6.4</td>\n",
       "      <td>20</td>\n",
       "    </tr>\n",
       "    <tr>\n",
       "      <th>3</th>\n",
       "      <td>The Legend of Hercules</td>\n",
       "      <td>The Legend of Hercules</td>\n",
       "      <td>4.2</td>\n",
       "      <td>50352</td>\n",
       "    </tr>\n",
       "    <tr>\n",
       "      <th>4</th>\n",
       "      <td>Até Onde?</td>\n",
       "      <td>Até Onde?</td>\n",
       "      <td>6.5</td>\n",
       "      <td>21</td>\n",
       "    </tr>\n",
       "  </tbody>\n",
       "</table>\n",
       "</div>"
      ],
      "text/plain": [
       "            Primary_Title          Original_Title  AVG_Rating  Num_Votes\n",
       "0        Laiye Je Yaarian        Laiye Je Yaarian         8.3         31\n",
       "1              Borderless              Borderless         8.9        559\n",
       "2               Just Inès               Just Inès         6.4         20\n",
       "3  The Legend of Hercules  The Legend of Hercules         4.2      50352\n",
       "4               Até Onde?               Até Onde?         6.5         21"
      ]
     },
     "execution_count": 16,
     "metadata": {},
     "output_type": "execute_result"
    }
   ],
   "source": [
    "### Pull in IMDB rating table\n",
    "q = \"\"\"\n",
    "SELECT \n",
    "    primary_title AS Primary_Title,\n",
    "    original_title AS Original_Title,\n",
    "    averagerating AS AVG_Rating,\n",
    "    numvotes AS Num_Votes\n",
    "FROM movie_ratings\n",
    "JOIN movie_basics\n",
    "    USING(movie_id)\n",
    ";\n",
    "\"\"\"\n",
    "### Create Dataframe\n",
    "df_rating = pd.read_sql(q, conn)\n",
    "df_rating.head()"
   ]
  },
  {
   "cell_type": "code",
   "execution_count": 17,
   "metadata": {},
   "outputs": [
    {
     "data": {
      "text/html": [
       "<div>\n",
       "<style scoped>\n",
       "    .dataframe tbody tr th:only-of-type {\n",
       "        vertical-align: middle;\n",
       "    }\n",
       "\n",
       "    .dataframe tbody tr th {\n",
       "        vertical-align: top;\n",
       "    }\n",
       "\n",
       "    .dataframe thead th {\n",
       "        text-align: right;\n",
       "    }\n",
       "</style>\n",
       "<table border=\"1\" class=\"dataframe\">\n",
       "  <thead>\n",
       "    <tr style=\"text-align: right;\">\n",
       "      <th></th>\n",
       "      <th>id</th>\n",
       "      <th>release_date</th>\n",
       "      <th>movie</th>\n",
       "      <th>production_budget</th>\n",
       "      <th>domestic_gross</th>\n",
       "      <th>worldwide_gross</th>\n",
       "    </tr>\n",
       "  </thead>\n",
       "  <tbody>\n",
       "    <tr>\n",
       "      <th>0</th>\n",
       "      <td>1</td>\n",
       "      <td>Dec 18, 2009</td>\n",
       "      <td>Avatar</td>\n",
       "      <td>$425,000,000</td>\n",
       "      <td>$760,507,625</td>\n",
       "      <td>$2,776,345,279</td>\n",
       "    </tr>\n",
       "    <tr>\n",
       "      <th>1</th>\n",
       "      <td>2</td>\n",
       "      <td>May 20, 2011</td>\n",
       "      <td>Pirates of the Caribbean: On Stranger Tides</td>\n",
       "      <td>$410,600,000</td>\n",
       "      <td>$241,063,875</td>\n",
       "      <td>$1,045,663,875</td>\n",
       "    </tr>\n",
       "    <tr>\n",
       "      <th>2</th>\n",
       "      <td>3</td>\n",
       "      <td>Jun 7, 2019</td>\n",
       "      <td>Dark Phoenix</td>\n",
       "      <td>$350,000,000</td>\n",
       "      <td>$42,762,350</td>\n",
       "      <td>$149,762,350</td>\n",
       "    </tr>\n",
       "    <tr>\n",
       "      <th>3</th>\n",
       "      <td>4</td>\n",
       "      <td>May 1, 2015</td>\n",
       "      <td>Avengers: Age of Ultron</td>\n",
       "      <td>$330,600,000</td>\n",
       "      <td>$459,005,868</td>\n",
       "      <td>$1,403,013,963</td>\n",
       "    </tr>\n",
       "    <tr>\n",
       "      <th>4</th>\n",
       "      <td>5</td>\n",
       "      <td>Dec 15, 2017</td>\n",
       "      <td>Star Wars Ep. VIII: The Last Jedi</td>\n",
       "      <td>$317,000,000</td>\n",
       "      <td>$620,181,382</td>\n",
       "      <td>$1,316,721,747</td>\n",
       "    </tr>\n",
       "  </tbody>\n",
       "</table>\n",
       "</div>"
      ],
      "text/plain": [
       "   id  release_date                                        movie  \\\n",
       "0   1  Dec 18, 2009                                       Avatar   \n",
       "1   2  May 20, 2011  Pirates of the Caribbean: On Stranger Tides   \n",
       "2   3   Jun 7, 2019                                 Dark Phoenix   \n",
       "3   4   May 1, 2015                      Avengers: Age of Ultron   \n",
       "4   5  Dec 15, 2017            Star Wars Ep. VIII: The Last Jedi   \n",
       "\n",
       "  production_budget domestic_gross worldwide_gross  \n",
       "0      $425,000,000   $760,507,625  $2,776,345,279  \n",
       "1      $410,600,000   $241,063,875  $1,045,663,875  \n",
       "2      $350,000,000    $42,762,350    $149,762,350  \n",
       "3      $330,600,000   $459,005,868  $1,403,013,963  \n",
       "4      $317,000,000   $620,181,382  $1,316,721,747  "
      ]
     },
     "execution_count": 17,
     "metadata": {},
     "output_type": "execute_result"
    }
   ],
   "source": [
    "df_budgets = pd.read_csv('tn.movie_budgets.csv.gz')\n",
    "df_budgets.head()\n"
   ]
  },
  {
   "cell_type": "code",
   "execution_count": 62,
   "metadata": {},
   "outputs": [
    {
     "name": "stdout",
     "output_type": "stream",
     "text": [
      "<class 'pandas.core.frame.DataFrame'>\n",
      "Int64Index: 2875 entries, 0 to 2874\n",
      "Data columns (total 10 columns):\n",
      " #   Column             Non-Null Count  Dtype  \n",
      "---  ------             --------------  -----  \n",
      " 0   Primary_Title      2875 non-null   object \n",
      " 1   Original_Title     2875 non-null   object \n",
      " 2   AVG_Rating         2875 non-null   float64\n",
      " 3   Num_Votes          2875 non-null   int64  \n",
      " 4   id                 2875 non-null   int64  \n",
      " 5   release_date       2875 non-null   object \n",
      " 6   movie              2875 non-null   object \n",
      " 7   production_budget  2875 non-null   object \n",
      " 8   domestic_gross     2875 non-null   object \n",
      " 9   worldwide_gross    2875 non-null   object \n",
      "dtypes: float64(1), int64(2), object(7)\n",
      "memory usage: 247.1+ KB\n"
     ]
    }
   ],
   "source": [
    "### Merge on Primary Title\n",
    "df_combine_pt = pd.merge(df_rating, \n",
    "                         df_budgets, \n",
    "                         how='inner', \n",
    "                         left_on = 'Primary_Title', \n",
    "                         right_on='movie')\n",
    "df_combine_pt.info()"
   ]
  },
  {
   "cell_type": "code",
   "execution_count": 19,
   "metadata": {},
   "outputs": [
    {
     "name": "stdout",
     "output_type": "stream",
     "text": [
      "<class 'pandas.core.frame.DataFrame'>\n",
      "Int64Index: 2638 entries, 0 to 2637\n",
      "Data columns (total 10 columns):\n",
      " #   Column             Non-Null Count  Dtype  \n",
      "---  ------             --------------  -----  \n",
      " 0   Primary_Title      2638 non-null   object \n",
      " 1   Original_Title     2638 non-null   object \n",
      " 2   AVG_Rating         2638 non-null   float64\n",
      " 3   Num_Votes          2638 non-null   int64  \n",
      " 4   id                 2638 non-null   int64  \n",
      " 5   release_date       2638 non-null   object \n",
      " 6   movie              2638 non-null   object \n",
      " 7   production_budget  2638 non-null   object \n",
      " 8   domestic_gross     2638 non-null   object \n",
      " 9   worldwide_gross    2638 non-null   object \n",
      "dtypes: float64(1), int64(2), object(7)\n",
      "memory usage: 226.7+ KB\n"
     ]
    }
   ],
   "source": [
    "## Merge on Original Title\n",
    "df_combine_ot = pd.merge(df_rating, \n",
    "                         df_budgets, \n",
    "                         how='inner', \n",
    "                         left_on = 'Original_Title', \n",
    "                         right_on='movie')\n",
    "df_combine_ot.info()"
   ]
  },
  {
   "cell_type": "code",
   "execution_count": 66,
   "metadata": {},
   "outputs": [
    {
     "name": "stdout",
     "output_type": "stream",
     "text": [
      "2066 2126\n"
     ]
    }
   ],
   "source": [
    "### Checking to see the amount of unique values in both tables\n",
    "print(len(df_combine_ot.movie.unique()),\n",
    "      len(df_combine_pt.movie.unique()))\n",
    "# Looks like we should keep it on pt and remove the duplicate movies"
   ]
  },
  {
   "cell_type": "code",
   "execution_count": 67,
   "metadata": {},
   "outputs": [
    {
     "name": "stdout",
     "output_type": "stream",
     "text": [
      "<class 'pandas.core.frame.DataFrame'>\n",
      "Int64Index: 2126 entries, 0 to 2874\n",
      "Data columns (total 10 columns):\n",
      " #   Column             Non-Null Count  Dtype  \n",
      "---  ------             --------------  -----  \n",
      " 0   Primary_Title      2126 non-null   object \n",
      " 1   Original_Title     2126 non-null   object \n",
      " 2   AVG_Rating         2126 non-null   float64\n",
      " 3   Num_Votes          2126 non-null   int64  \n",
      " 4   id                 2126 non-null   int64  \n",
      " 5   release_date       2126 non-null   object \n",
      " 6   movie              2126 non-null   object \n",
      " 7   production_budget  2126 non-null   object \n",
      " 8   domestic_gross     2126 non-null   object \n",
      " 9   worldwide_gross    2126 non-null   object \n",
      "dtypes: float64(1), int64(2), object(7)\n",
      "memory usage: 182.7+ KB\n"
     ]
    }
   ],
   "source": [
    "### Dropping the duplicate movie values\n",
    "df_final = df_combine_pt.drop_duplicates(subset=['movie'],\n",
    "                                         inplace=False)\n",
    "df_final.info()"
   ]
  },
  {
   "cell_type": "code",
   "execution_count": 23,
   "metadata": {},
   "outputs": [],
   "source": [
    "import seaborn as sns"
   ]
  },
  {
   "cell_type": "code",
   "execution_count": 28,
   "metadata": {},
   "outputs": [
    {
     "data": {
      "text/html": [
       "<div>\n",
       "<style scoped>\n",
       "    .dataframe tbody tr th:only-of-type {\n",
       "        vertical-align: middle;\n",
       "    }\n",
       "\n",
       "    .dataframe tbody tr th {\n",
       "        vertical-align: top;\n",
       "    }\n",
       "\n",
       "    .dataframe thead th {\n",
       "        text-align: right;\n",
       "    }\n",
       "</style>\n",
       "<table border=\"1\" class=\"dataframe\">\n",
       "  <thead>\n",
       "    <tr style=\"text-align: right;\">\n",
       "      <th></th>\n",
       "      <th>Primary_Title</th>\n",
       "      <th>Original_Title</th>\n",
       "      <th>AVG_Rating</th>\n",
       "      <th>Num_Votes</th>\n",
       "      <th>id</th>\n",
       "      <th>release_date</th>\n",
       "      <th>movie</th>\n",
       "      <th>production_budget</th>\n",
       "      <th>domestic_gross</th>\n",
       "      <th>worldwide_gross</th>\n",
       "    </tr>\n",
       "  </thead>\n",
       "  <tbody>\n",
       "    <tr>\n",
       "      <th>0</th>\n",
       "      <td>The Legend of Hercules</td>\n",
       "      <td>The Legend of Hercules</td>\n",
       "      <td>4.2</td>\n",
       "      <td>50352</td>\n",
       "      <td>42</td>\n",
       "      <td>Jan 10, 2014</td>\n",
       "      <td>The Legend of Hercules</td>\n",
       "      <td>$70,000,000</td>\n",
       "      <td>$18,848,538</td>\n",
       "      <td>$58,953,319</td>\n",
       "    </tr>\n",
       "    <tr>\n",
       "      <th>1</th>\n",
       "      <td>The Hammer</td>\n",
       "      <td>Hamill</td>\n",
       "      <td>7.0</td>\n",
       "      <td>1613</td>\n",
       "      <td>50</td>\n",
       "      <td>Mar 21, 2008</td>\n",
       "      <td>The Hammer</td>\n",
       "      <td>$850,000</td>\n",
       "      <td>$442,638</td>\n",
       "      <td>$442,638</td>\n",
       "    </tr>\n",
       "    <tr>\n",
       "      <th>3</th>\n",
       "      <td>Baggage Claim</td>\n",
       "      <td>Baggage Claim</td>\n",
       "      <td>5.1</td>\n",
       "      <td>8296</td>\n",
       "      <td>38</td>\n",
       "      <td>Sep 27, 2013</td>\n",
       "      <td>Baggage Claim</td>\n",
       "      <td>$8,500,000</td>\n",
       "      <td>$21,569,509</td>\n",
       "      <td>$22,885,836</td>\n",
       "    </tr>\n",
       "    <tr>\n",
       "      <th>4</th>\n",
       "      <td>Moneyball</td>\n",
       "      <td>Moneyball</td>\n",
       "      <td>7.6</td>\n",
       "      <td>326657</td>\n",
       "      <td>15</td>\n",
       "      <td>Sep 23, 2011</td>\n",
       "      <td>Moneyball</td>\n",
       "      <td>$50,000,000</td>\n",
       "      <td>$75,605,492</td>\n",
       "      <td>$111,300,835</td>\n",
       "    </tr>\n",
       "    <tr>\n",
       "      <th>5</th>\n",
       "      <td>Hereafter</td>\n",
       "      <td>Hereafter</td>\n",
       "      <td>6.5</td>\n",
       "      <td>87288</td>\n",
       "      <td>61</td>\n",
       "      <td>Oct 15, 2010</td>\n",
       "      <td>Hereafter</td>\n",
       "      <td>$50,000,000</td>\n",
       "      <td>$32,746,941</td>\n",
       "      <td>$108,660,270</td>\n",
       "    </tr>\n",
       "  </tbody>\n",
       "</table>\n",
       "</div>"
      ],
      "text/plain": [
       "            Primary_Title          Original_Title  AVG_Rating  Num_Votes  id  \\\n",
       "0  The Legend of Hercules  The Legend of Hercules         4.2      50352  42   \n",
       "1              The Hammer                  Hamill         7.0       1613  50   \n",
       "3           Baggage Claim           Baggage Claim         5.1       8296  38   \n",
       "4               Moneyball               Moneyball         7.6     326657  15   \n",
       "5               Hereafter               Hereafter         6.5      87288  61   \n",
       "\n",
       "   release_date                   movie production_budget domestic_gross  \\\n",
       "0  Jan 10, 2014  The Legend of Hercules       $70,000,000    $18,848,538   \n",
       "1  Mar 21, 2008              The Hammer          $850,000       $442,638   \n",
       "3  Sep 27, 2013           Baggage Claim        $8,500,000    $21,569,509   \n",
       "4  Sep 23, 2011               Moneyball       $50,000,000    $75,605,492   \n",
       "5  Oct 15, 2010               Hereafter       $50,000,000    $32,746,941   \n",
       "\n",
       "  worldwide_gross  \n",
       "0     $58,953,319  \n",
       "1        $442,638  \n",
       "3     $22,885,836  \n",
       "4    $111,300,835  \n",
       "5    $108,660,270  "
      ]
     },
     "execution_count": 28,
     "metadata": {},
     "output_type": "execute_result"
    }
   ],
   "source": [
    "df_final.head()"
   ]
  },
  {
   "cell_type": "code",
   "execution_count": 68,
   "metadata": {},
   "outputs": [
    {
     "data": {
      "text/plain": [
       "<seaborn.axisgrid.FacetGrid at 0x1b0c7ea2f10>"
      ]
     },
     "execution_count": 68,
     "metadata": {},
     "output_type": "execute_result"
    },
    {
     "data": {
      "image/png": "[encoded data removed]",
      "text/plain": [
       "<Figure size 360x360 with 1 Axes>"
      ]
     },
     "metadata": {},
     "output_type": "display_data"
    }
   ],
   "source": [
    "## First Draft\n",
    "sns.set_theme()\n",
    "sns.relplot(\n",
    "            y=df_final.AVG_Rating, \n",
    "            x=df_final.worldwide_gross\n",
    "            )"
   ]
  },
  {
   "cell_type": "code",
   "execution_count": 69,
   "metadata": {},
   "outputs": [
    {
     "name": "stderr",
     "output_type": "stream",
     "text": [
      "<ipython-input-69-ed805b41c7c6>:1: SettingWithCopyWarning: \n",
      "A value is trying to be set on a copy of a slice from a DataFrame.\n",
      "Try using .loc[row_indexer,col_indexer] = value instead\n",
      "\n",
      "See the caveats in the documentation: https://pandas.pydata.org/pandas-docs/stable/user_guide/indexing.html#returning-a-view-versus-a-copy\n",
      "  df_final['worldwide_gross_numeric'] = pd.to_numeric(df_final['worldwide_gross'].str.replace(',', '').str.replace('$', ''))\n"
     ]
    },
    {
     "data": {
      "text/plain": [
       "<AxesSubplot:xlabel='worldwide_gross_numeric', ylabel='AVG_Rating'>"
      ]
     },
     "execution_count": 69,
     "metadata": {},
     "output_type": "execute_result"
    },
    {
     "data": {
      "image/png": "[encoded data removed]",
      "text/plain": [
       "<Figure size 432x288 with 1 Axes>"
      ]
     },
     "metadata": {},
     "output_type": "display_data"
    }
   ],
   "source": [
    "## Regression Data\n",
    "df_final['worldwide_gross_numeric'] = pd.to_numeric(df_final['worldwide_gross'].str.replace(',', '').str.replace('$', ''))\n",
    "sns.regplot(\n",
    "    y=df_final['AVG_Rating'],\n",
    "    x=df_final['worldwide_gross_numeric'],\n",
    "    scatter_kws={\"color\": \"blue\"},\n",
    "    line_kws={\"color\": \"red\"}\n",
    ")"
   ]
  }
 ],
 "metadata": {
  "kernelspec": {
   "display_name": "Python (learn-env)",
   "language": "python",
   "name": "learn-env"
  },
  "language_info": {
   "codemirror_mode": {
    "name": "ipython",
    "version": 3
   },
   "file_extension": ".py",
   "mimetype": "text/x-python",
   "name": "python",
   "nbconvert_exporter": "python",
   "pygments_lexer": "ipython3",
   "version": "3.8.5"
  }
 },
 "nbformat": 4,
 "nbformat_minor": 4
}
