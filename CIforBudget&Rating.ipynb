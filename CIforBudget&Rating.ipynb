{
 "cells": [
  {
   "cell_type": "markdown",
   "metadata": {},
   "source": [
    "# CI for Budget to Rating\n",
    "### This notebook will use IMDB and The Numbers data sets to derive an estimate for production budget to average rating\n",
    "\n",
    "### Notes:\n",
    "- IMDB has a column for rating\n",
    "- The Numbers has a column for the production budget\n",
    "- Combine both using the movie title as an index"
   ]
  },
  {
   "cell_type": "code",
   "execution_count": 2,
   "metadata": {},
   "outputs": [],
   "source": [
    "### Import the nessesary libraries\n",
    "import pandas as pd\n",
    "import sqlite3 \n",
    "import matplotlib.pyplot as plt\n",
    "import numpy as np\n",
    "%matplotlib inline"
   ]
  },
  {
   "cell_type": "markdown",
   "metadata": {},
   "source": [
    "## Getting the IMDB Ratings"
   ]
  },
  {
   "cell_type": "code",
   "execution_count": 3,
   "metadata": {},
   "outputs": [],
   "source": [
    "### Connect to the IMDB Database\n",
    "conn = sqlite3.connect('data/sqldata/im.db')"
   ]
  },
  {
   "cell_type": "code",
   "execution_count": 4,
   "metadata": {},
   "outputs": [
    {
     "data": {
      "text/html": [
       "<div>\n",
       "<style scoped>\n",
       "    .dataframe tbody tr th:only-of-type {\n",
       "        vertical-align: middle;\n",
       "    }\n",
       "\n",
       "    .dataframe tbody tr th {\n",
       "        vertical-align: top;\n",
       "    }\n",
       "\n",
       "    .dataframe thead th {\n",
       "        text-align: right;\n",
       "    }\n",
       "</style>\n",
       "<table border=\"1\" class=\"dataframe\">\n",
       "  <thead>\n",
       "    <tr style=\"text-align: right;\">\n",
       "      <th></th>\n",
       "      <th>Primary_Title</th>\n",
       "      <th>Original_Title</th>\n",
       "      <th>AVG_Rating</th>\n",
       "      <th>Num_Votes</th>\n",
       "    </tr>\n",
       "  </thead>\n",
       "  <tbody>\n",
       "    <tr>\n",
       "      <th>0</th>\n",
       "      <td>Laiye Je Yaarian</td>\n",
       "      <td>Laiye Je Yaarian</td>\n",
       "      <td>8.3</td>\n",
       "      <td>31</td>\n",
       "    </tr>\n",
       "    <tr>\n",
       "      <th>1</th>\n",
       "      <td>Borderless</td>\n",
       "      <td>Borderless</td>\n",
       "      <td>8.9</td>\n",
       "      <td>559</td>\n",
       "    </tr>\n",
       "    <tr>\n",
       "      <th>2</th>\n",
       "      <td>Just Inès</td>\n",
       "      <td>Just Inès</td>\n",
       "      <td>6.4</td>\n",
       "      <td>20</td>\n",
       "    </tr>\n",
       "    <tr>\n",
       "      <th>3</th>\n",
       "      <td>The Legend of Hercules</td>\n",
       "      <td>The Legend of Hercules</td>\n",
       "      <td>4.2</td>\n",
       "      <td>50352</td>\n",
       "    </tr>\n",
       "    <tr>\n",
       "      <th>4</th>\n",
       "      <td>Até Onde?</td>\n",
       "      <td>Até Onde?</td>\n",
       "      <td>6.5</td>\n",
       "      <td>21</td>\n",
       "    </tr>\n",
       "  </tbody>\n",
       "</table>\n",
       "</div>"
      ],
      "text/plain": [
       "            Primary_Title          Original_Title  AVG_Rating  Num_Votes\n",
       "0        Laiye Je Yaarian        Laiye Je Yaarian         8.3         31\n",
       "1              Borderless              Borderless         8.9        559\n",
       "2               Just Inès               Just Inès         6.4         20\n",
       "3  The Legend of Hercules  The Legend of Hercules         4.2      50352\n",
       "4               Até Onde?               Até Onde?         6.5         21"
      ]
     },
     "execution_count": 4,
     "metadata": {},
     "output_type": "execute_result"
    }
   ],
   "source": [
    "### Pull in IMDB rating table with the name of each film, both primary_title and original_title\n",
    "q = \"\"\"\n",
    "SELECT \n",
    "    primary_title AS Primary_Title,\n",
    "    original_title AS Original_Title,\n",
    "    averagerating AS AVG_Rating,\n",
    "    numvotes AS Num_Votes\n",
    "FROM movie_ratings\n",
    "JOIN movie_basics\n",
    "    USING(movie_id)\n",
    ";\n",
    "\"\"\"\n",
    "### Create Dataframe\n",
    "df_rating = pd.read_sql(q, conn)\n",
    "df_rating.head()"
   ]
  },
  {
   "cell_type": "markdown",
   "metadata": {},
   "source": [
    "## Getting The Numbers production budgets"
   ]
  },
  {
   "cell_type": "code",
   "execution_count": 5,
   "metadata": {},
   "outputs": [
    {
     "data": {
      "text/html": [
       "<div>\n",
       "<style scoped>\n",
       "    .dataframe tbody tr th:only-of-type {\n",
       "        vertical-align: middle;\n",
       "    }\n",
       "\n",
       "    .dataframe tbody tr th {\n",
       "        vertical-align: top;\n",
       "    }\n",
       "\n",
       "    .dataframe thead th {\n",
       "        text-align: right;\n",
       "    }\n",
       "</style>\n",
       "<table border=\"1\" class=\"dataframe\">\n",
       "  <thead>\n",
       "    <tr style=\"text-align: right;\">\n",
       "      <th></th>\n",
       "      <th>id</th>\n",
       "      <th>release_date</th>\n",
       "      <th>movie</th>\n",
       "      <th>production_budget</th>\n",
       "      <th>domestic_gross</th>\n",
       "      <th>worldwide_gross</th>\n",
       "    </tr>\n",
       "  </thead>\n",
       "  <tbody>\n",
       "    <tr>\n",
       "      <th>0</th>\n",
       "      <td>1</td>\n",
       "      <td>Dec 18, 2009</td>\n",
       "      <td>Avatar</td>\n",
       "      <td>$425,000,000</td>\n",
       "      <td>$760,507,625</td>\n",
       "      <td>$2,776,345,279</td>\n",
       "    </tr>\n",
       "    <tr>\n",
       "      <th>1</th>\n",
       "      <td>2</td>\n",
       "      <td>May 20, 2011</td>\n",
       "      <td>Pirates of the Caribbean: On Stranger Tides</td>\n",
       "      <td>$410,600,000</td>\n",
       "      <td>$241,063,875</td>\n",
       "      <td>$1,045,663,875</td>\n",
       "    </tr>\n",
       "    <tr>\n",
       "      <th>2</th>\n",
       "      <td>3</td>\n",
       "      <td>Jun 7, 2019</td>\n",
       "      <td>Dark Phoenix</td>\n",
       "      <td>$350,000,000</td>\n",
       "      <td>$42,762,350</td>\n",
       "      <td>$149,762,350</td>\n",
       "    </tr>\n",
       "    <tr>\n",
       "      <th>3</th>\n",
       "      <td>4</td>\n",
       "      <td>May 1, 2015</td>\n",
       "      <td>Avengers: Age of Ultron</td>\n",
       "      <td>$330,600,000</td>\n",
       "      <td>$459,005,868</td>\n",
       "      <td>$1,403,013,963</td>\n",
       "    </tr>\n",
       "    <tr>\n",
       "      <th>4</th>\n",
       "      <td>5</td>\n",
       "      <td>Dec 15, 2017</td>\n",
       "      <td>Star Wars Ep. VIII: The Last Jedi</td>\n",
       "      <td>$317,000,000</td>\n",
       "      <td>$620,181,382</td>\n",
       "      <td>$1,316,721,747</td>\n",
       "    </tr>\n",
       "  </tbody>\n",
       "</table>\n",
       "</div>"
      ],
      "text/plain": [
       "   id  release_date                                        movie  \\\n",
       "0   1  Dec 18, 2009                                       Avatar   \n",
       "1   2  May 20, 2011  Pirates of the Caribbean: On Stranger Tides   \n",
       "2   3   Jun 7, 2019                                 Dark Phoenix   \n",
       "3   4   May 1, 2015                      Avengers: Age of Ultron   \n",
       "4   5  Dec 15, 2017            Star Wars Ep. VIII: The Last Jedi   \n",
       "\n",
       "  production_budget domestic_gross worldwide_gross  \n",
       "0      $425,000,000   $760,507,625  $2,776,345,279  \n",
       "1      $410,600,000   $241,063,875  $1,045,663,875  \n",
       "2      $350,000,000    $42,762,350    $149,762,350  \n",
       "3      $330,600,000   $459,005,868  $1,403,013,963  \n",
       "4      $317,000,000   $620,181,382  $1,316,721,747  "
      ]
     },
     "execution_count": 5,
     "metadata": {},
     "output_type": "execute_result"
    }
   ],
   "source": [
    "df_budgets = pd.read_csv('data/tn.movie_budgets.csv.gz')\n",
    "df_budgets.head()"
   ]
  },
  {
   "cell_type": "code",
   "execution_count": 6,
   "metadata": {},
   "outputs": [
    {
     "data": {
      "text/html": [
       "<div>\n",
       "<style scoped>\n",
       "    .dataframe tbody tr th:only-of-type {\n",
       "        vertical-align: middle;\n",
       "    }\n",
       "\n",
       "    .dataframe tbody tr th {\n",
       "        vertical-align: top;\n",
       "    }\n",
       "\n",
       "    .dataframe thead th {\n",
       "        text-align: right;\n",
       "    }\n",
       "</style>\n",
       "<table border=\"1\" class=\"dataframe\">\n",
       "  <thead>\n",
       "    <tr style=\"text-align: right;\">\n",
       "      <th></th>\n",
       "      <th>id</th>\n",
       "      <th>release_date</th>\n",
       "      <th>movie</th>\n",
       "      <th>production_budget</th>\n",
       "      <th>domestic_gross</th>\n",
       "      <th>worldwide_gross</th>\n",
       "      <th>budget_millions</th>\n",
       "    </tr>\n",
       "  </thead>\n",
       "  <tbody>\n",
       "    <tr>\n",
       "      <th>0</th>\n",
       "      <td>1</td>\n",
       "      <td>Dec 18, 2009</td>\n",
       "      <td>Avatar</td>\n",
       "      <td>$425,000,000</td>\n",
       "      <td>$760,507,625</td>\n",
       "      <td>$2,776,345,279</td>\n",
       "      <td>425.0</td>\n",
       "    </tr>\n",
       "    <tr>\n",
       "      <th>1</th>\n",
       "      <td>2</td>\n",
       "      <td>May 20, 2011</td>\n",
       "      <td>Pirates of the Caribbean: On Stranger Tides</td>\n",
       "      <td>$410,600,000</td>\n",
       "      <td>$241,063,875</td>\n",
       "      <td>$1,045,663,875</td>\n",
       "      <td>410.6</td>\n",
       "    </tr>\n",
       "    <tr>\n",
       "      <th>2</th>\n",
       "      <td>3</td>\n",
       "      <td>Jun 7, 2019</td>\n",
       "      <td>Dark Phoenix</td>\n",
       "      <td>$350,000,000</td>\n",
       "      <td>$42,762,350</td>\n",
       "      <td>$149,762,350</td>\n",
       "      <td>350.0</td>\n",
       "    </tr>\n",
       "    <tr>\n",
       "      <th>3</th>\n",
       "      <td>4</td>\n",
       "      <td>May 1, 2015</td>\n",
       "      <td>Avengers: Age of Ultron</td>\n",
       "      <td>$330,600,000</td>\n",
       "      <td>$459,005,868</td>\n",
       "      <td>$1,403,013,963</td>\n",
       "      <td>330.6</td>\n",
       "    </tr>\n",
       "    <tr>\n",
       "      <th>4</th>\n",
       "      <td>5</td>\n",
       "      <td>Dec 15, 2017</td>\n",
       "      <td>Star Wars Ep. VIII: The Last Jedi</td>\n",
       "      <td>$317,000,000</td>\n",
       "      <td>$620,181,382</td>\n",
       "      <td>$1,316,721,747</td>\n",
       "      <td>317.0</td>\n",
       "    </tr>\n",
       "  </tbody>\n",
       "</table>\n",
       "</div>"
      ],
      "text/plain": [
       "   id  release_date                                        movie  \\\n",
       "0   1  Dec 18, 2009                                       Avatar   \n",
       "1   2  May 20, 2011  Pirates of the Caribbean: On Stranger Tides   \n",
       "2   3   Jun 7, 2019                                 Dark Phoenix   \n",
       "3   4   May 1, 2015                      Avengers: Age of Ultron   \n",
       "4   5  Dec 15, 2017            Star Wars Ep. VIII: The Last Jedi   \n",
       "\n",
       "  production_budget domestic_gross worldwide_gross  budget_millions  \n",
       "0      $425,000,000   $760,507,625  $2,776,345,279            425.0  \n",
       "1      $410,600,000   $241,063,875  $1,045,663,875            410.6  \n",
       "2      $350,000,000    $42,762,350    $149,762,350            350.0  \n",
       "3      $330,600,000   $459,005,868  $1,403,013,963            330.6  \n",
       "4      $317,000,000   $620,181,382  $1,316,721,747            317.0  "
      ]
     },
     "execution_count": 6,
     "metadata": {},
     "output_type": "execute_result"
    }
   ],
   "source": [
    "### Get the dataset into working condition\n",
    "# Get rid of non-numerics in production_budget\n",
    "df_budgets['budget_millions'] = df_budgets.production_budget.str.replace(',','')\n",
    "df_budgets['budget_millions'] = df_budgets.budget_millions.str.replace('$','')\n",
    "df_budgets['budget_millions'] = pd.to_numeric(df_budgets.budget_millions) / 1000000\n",
    "df_budgets.head()"
   ]
  },
  {
   "cell_type": "markdown",
   "metadata": {},
   "source": [
    "## Merging the two on movie title"
   ]
  },
  {
   "cell_type": "code",
   "execution_count": 7,
   "metadata": {},
   "outputs": [
    {
     "name": "stdout",
     "output_type": "stream",
     "text": [
      "<class 'pandas.core.frame.DataFrame'>\n",
      "Int64Index: 2875 entries, 0 to 2874\n",
      "Data columns (total 11 columns):\n",
      " #   Column             Non-Null Count  Dtype  \n",
      "---  ------             --------------  -----  \n",
      " 0   Primary_Title      2875 non-null   object \n",
      " 1   Original_Title     2875 non-null   object \n",
      " 2   AVG_Rating         2875 non-null   float64\n",
      " 3   Num_Votes          2875 non-null   int64  \n",
      " 4   id                 2875 non-null   int64  \n",
      " 5   release_date       2875 non-null   object \n",
      " 6   movie              2875 non-null   object \n",
      " 7   production_budget  2875 non-null   object \n",
      " 8   domestic_gross     2875 non-null   object \n",
      " 9   worldwide_gross    2875 non-null   object \n",
      " 10  budget_millions    2875 non-null   float64\n",
      "dtypes: float64(2), int64(2), object(7)\n",
      "memory usage: 269.5+ KB\n"
     ]
    }
   ],
   "source": [
    "### Merge on Primary Title\n",
    "df_combine_pt = pd.merge(df_rating, \n",
    "                         df_budgets, \n",
    "                         how='inner', \n",
    "                         left_on = 'Primary_Title', \n",
    "                         right_on='movie')\n",
    "df_combine_pt.info()"
   ]
  },
  {
   "cell_type": "code",
   "execution_count": 8,
   "metadata": {},
   "outputs": [
    {
     "name": "stdout",
     "output_type": "stream",
     "text": [
      "<class 'pandas.core.frame.DataFrame'>\n",
      "Int64Index: 2638 entries, 0 to 2637\n",
      "Data columns (total 11 columns):\n",
      " #   Column             Non-Null Count  Dtype  \n",
      "---  ------             --------------  -----  \n",
      " 0   Primary_Title      2638 non-null   object \n",
      " 1   Original_Title     2638 non-null   object \n",
      " 2   AVG_Rating         2638 non-null   float64\n",
      " 3   Num_Votes          2638 non-null   int64  \n",
      " 4   id                 2638 non-null   int64  \n",
      " 5   release_date       2638 non-null   object \n",
      " 6   movie              2638 non-null   object \n",
      " 7   production_budget  2638 non-null   object \n",
      " 8   domestic_gross     2638 non-null   object \n",
      " 9   worldwide_gross    2638 non-null   object \n",
      " 10  budget_millions    2638 non-null   float64\n",
      "dtypes: float64(2), int64(2), object(7)\n",
      "memory usage: 247.3+ KB\n"
     ]
    }
   ],
   "source": [
    "### Merge on Original Title\n",
    "df_combine_ot = pd.merge(df_rating, \n",
    "                         df_budgets, \n",
    "                         how='inner', \n",
    "                         left_on = 'Original_Title', \n",
    "                         right_on='movie')\n",
    "df_combine_ot.info()"
   ]
  },
  {
   "cell_type": "code",
   "execution_count": 9,
   "metadata": {},
   "outputs": [
    {
     "name": "stdout",
     "output_type": "stream",
     "text": [
      "2066 2126\n"
     ]
    }
   ],
   "source": [
    "### Checking to see the amount of unique values in both tables\n",
    "print(len(df_combine_ot.movie.unique()),\n",
    "      len(df_combine_pt.movie.unique()))\n",
    "# Looks like we should keep it on pt and remove the duplicate movies"
   ]
  },
  {
   "cell_type": "code",
   "execution_count": 10,
   "metadata": {},
   "outputs": [
    {
     "name": "stdout",
     "output_type": "stream",
     "text": [
      "<class 'pandas.core.frame.DataFrame'>\n",
      "Int64Index: 2126 entries, 0 to 2874\n",
      "Data columns (total 11 columns):\n",
      " #   Column             Non-Null Count  Dtype  \n",
      "---  ------             --------------  -----  \n",
      " 0   Primary_Title      2126 non-null   object \n",
      " 1   Original_Title     2126 non-null   object \n",
      " 2   AVG_Rating         2126 non-null   float64\n",
      " 3   Num_Votes          2126 non-null   int64  \n",
      " 4   id                 2126 non-null   int64  \n",
      " 5   release_date       2126 non-null   object \n",
      " 6   movie              2126 non-null   object \n",
      " 7   production_budget  2126 non-null   object \n",
      " 8   domestic_gross     2126 non-null   object \n",
      " 9   worldwide_gross    2126 non-null   object \n",
      " 10  budget_millions    2126 non-null   float64\n",
      "dtypes: float64(2), int64(2), object(7)\n",
      "memory usage: 199.3+ KB\n"
     ]
    }
   ],
   "source": [
    "### Dropping the duplicate movie values\n",
    "df_final = df_combine_pt.drop_duplicates(subset=['movie'],\n",
    "                                         inplace=False)\n",
    "df_final.info()\n"
   ]
  },
  {
   "cell_type": "code",
   "execution_count": 11,
   "metadata": {},
   "outputs": [
    {
     "data": {
      "text/html": [
       "<div>\n",
       "<style scoped>\n",
       "    .dataframe tbody tr th:only-of-type {\n",
       "        vertical-align: middle;\n",
       "    }\n",
       "\n",
       "    .dataframe tbody tr th {\n",
       "        vertical-align: top;\n",
       "    }\n",
       "\n",
       "    .dataframe thead th {\n",
       "        text-align: right;\n",
       "    }\n",
       "</style>\n",
       "<table border=\"1\" class=\"dataframe\">\n",
       "  <thead>\n",
       "    <tr style=\"text-align: right;\">\n",
       "      <th></th>\n",
       "      <th>Primary_Title</th>\n",
       "      <th>Original_Title</th>\n",
       "      <th>AVG_Rating</th>\n",
       "      <th>Num_Votes</th>\n",
       "      <th>id</th>\n",
       "      <th>release_date</th>\n",
       "      <th>movie</th>\n",
       "      <th>production_budget</th>\n",
       "      <th>domestic_gross</th>\n",
       "      <th>worldwide_gross</th>\n",
       "      <th>budget_millions</th>\n",
       "    </tr>\n",
       "  </thead>\n",
       "  <tbody>\n",
       "    <tr>\n",
       "      <th>0</th>\n",
       "      <td>The Legend of Hercules</td>\n",
       "      <td>The Legend of Hercules</td>\n",
       "      <td>4.2</td>\n",
       "      <td>50352</td>\n",
       "      <td>42</td>\n",
       "      <td>Jan 10, 2014</td>\n",
       "      <td>The Legend of Hercules</td>\n",
       "      <td>$70,000,000</td>\n",
       "      <td>$18,848,538</td>\n",
       "      <td>$58,953,319</td>\n",
       "      <td>70.00</td>\n",
       "    </tr>\n",
       "    <tr>\n",
       "      <th>1</th>\n",
       "      <td>The Hammer</td>\n",
       "      <td>Hamill</td>\n",
       "      <td>7.0</td>\n",
       "      <td>1613</td>\n",
       "      <td>50</td>\n",
       "      <td>Mar 21, 2008</td>\n",
       "      <td>The Hammer</td>\n",
       "      <td>$850,000</td>\n",
       "      <td>$442,638</td>\n",
       "      <td>$442,638</td>\n",
       "      <td>0.85</td>\n",
       "    </tr>\n",
       "    <tr>\n",
       "      <th>3</th>\n",
       "      <td>Baggage Claim</td>\n",
       "      <td>Baggage Claim</td>\n",
       "      <td>5.1</td>\n",
       "      <td>8296</td>\n",
       "      <td>38</td>\n",
       "      <td>Sep 27, 2013</td>\n",
       "      <td>Baggage Claim</td>\n",
       "      <td>$8,500,000</td>\n",
       "      <td>$21,569,509</td>\n",
       "      <td>$22,885,836</td>\n",
       "      <td>8.50</td>\n",
       "    </tr>\n",
       "    <tr>\n",
       "      <th>4</th>\n",
       "      <td>Moneyball</td>\n",
       "      <td>Moneyball</td>\n",
       "      <td>7.6</td>\n",
       "      <td>326657</td>\n",
       "      <td>15</td>\n",
       "      <td>Sep 23, 2011</td>\n",
       "      <td>Moneyball</td>\n",
       "      <td>$50,000,000</td>\n",
       "      <td>$75,605,492</td>\n",
       "      <td>$111,300,835</td>\n",
       "      <td>50.00</td>\n",
       "    </tr>\n",
       "    <tr>\n",
       "      <th>5</th>\n",
       "      <td>Hereafter</td>\n",
       "      <td>Hereafter</td>\n",
       "      <td>6.5</td>\n",
       "      <td>87288</td>\n",
       "      <td>61</td>\n",
       "      <td>Oct 15, 2010</td>\n",
       "      <td>Hereafter</td>\n",
       "      <td>$50,000,000</td>\n",
       "      <td>$32,746,941</td>\n",
       "      <td>$108,660,270</td>\n",
       "      <td>50.00</td>\n",
       "    </tr>\n",
       "  </tbody>\n",
       "</table>\n",
       "</div>"
      ],
      "text/plain": [
       "            Primary_Title          Original_Title  AVG_Rating  Num_Votes  id  \\\n",
       "0  The Legend of Hercules  The Legend of Hercules         4.2      50352  42   \n",
       "1              The Hammer                  Hamill         7.0       1613  50   \n",
       "3           Baggage Claim           Baggage Claim         5.1       8296  38   \n",
       "4               Moneyball               Moneyball         7.6     326657  15   \n",
       "5               Hereafter               Hereafter         6.5      87288  61   \n",
       "\n",
       "   release_date                   movie production_budget domestic_gross  \\\n",
       "0  Jan 10, 2014  The Legend of Hercules       $70,000,000    $18,848,538   \n",
       "1  Mar 21, 2008              The Hammer          $850,000       $442,638   \n",
       "3  Sep 27, 2013           Baggage Claim        $8,500,000    $21,569,509   \n",
       "4  Sep 23, 2011               Moneyball       $50,000,000    $75,605,492   \n",
       "5  Oct 15, 2010               Hereafter       $50,000,000    $32,746,941   \n",
       "\n",
       "  worldwide_gross  budget_millions  \n",
       "0     $58,953,319            70.00  \n",
       "1        $442,638             0.85  \n",
       "3     $22,885,836             8.50  \n",
       "4    $111,300,835            50.00  \n",
       "5    $108,660,270            50.00  "
      ]
     },
     "execution_count": 11,
     "metadata": {},
     "output_type": "execute_result"
    }
   ],
   "source": [
    "df_final.head()"
   ]
  },
  {
   "cell_type": "markdown",
   "metadata": {},
   "source": [
    "## Looking into the statistics and Visualizations"
   ]
  },
  {
   "cell_type": "code",
   "execution_count": 12,
   "metadata": {},
   "outputs": [],
   "source": [
    "import seaborn as sns"
   ]
  },
  {
   "cell_type": "code",
   "execution_count": 13,
   "metadata": {
    "scrolled": true
   },
   "outputs": [
    {
     "data": {
      "text/plain": [
       "AVG_Rating\n",
       "1.6    13.0\n",
       "1.9    45.0\n",
       "2.1    30.0\n",
       "2.2     1.0\n",
       "2.3    12.5\n",
       "       ... \n",
       "8.7    11.5\n",
       "8.8    28.0\n",
       "9.0    20.0\n",
       "9.1     9.2\n",
       "9.2    48.0\n",
       "Name: budget_millions, Length: 72, dtype: float64"
      ]
     },
     "execution_count": 13,
     "metadata": {},
     "output_type": "execute_result"
    }
   ],
   "source": [
    "# df_final.plot(y='budget_millions',\n",
    "#               by='AVG_Rating',\n",
    "#               kind='hist',\n",
    "#               bins=10)\n",
    "\n",
    "x = df_final.groupby(['AVG_Rating'])['budget_millions'].median()\n",
    "x"
   ]
  },
  {
   "cell_type": "code",
   "execution_count": 14,
   "metadata": {},
   "outputs": [
    {
     "data": {
      "text/plain": [
       "<AxesSubplot:xlabel='AVG_Rating', ylabel='budget_millions'>"
      ]
     },
     "execution_count": 14,
     "metadata": {},
     "output_type": "execute_result"
    },
    {
     "data": {
      "image/png": "[encoded data removed]",
      "text/plain": [
       "<Figure size 432x288 with 1 Axes>"
      ]
     },
     "metadata": {
      "needs_background": "light"
     },
     "output_type": "display_data"
    }
   ],
   "source": [
    "sns.histplot(x=df_final.AVG_Rating,\n",
    "             y=df_final.budget_millions)"
   ]
  },
  {
   "cell_type": "code",
   "execution_count": 15,
   "metadata": {
    "scrolled": true
   },
   "outputs": [
    {
     "data": {
      "text/plain": [
       "<AxesSubplot:xlabel='AVG_Rating', ylabel='Count'>"
      ]
     },
     "execution_count": 15,
     "metadata": {},
     "output_type": "execute_result"
    },
    {
     "data": {
      "image/png": "[encoded data removed]",
      "text/plain": [
       "<Figure size 432x288 with 1 Axes>"
      ]
     },
     "metadata": {
      "needs_background": "light"
     },
     "output_type": "display_data"
    }
   ],
   "source": [
    "### Normalize the dataset on AVG_Rating using the mean\n",
    "norm_avgrating = (df_final.AVG_Rating-df_final.AVG_Rating.mean())/df_final.AVG_Rating.std()\n",
    "sns.histplot(norm_avgrating, kde=True)"
   ]
  },
  {
   "cell_type": "markdown",
   "metadata": {},
   "source": [
    "## Try to establish a law of dimishing returns"
   ]
  },
  {
   "cell_type": "code",
   "execution_count": 16,
   "metadata": {},
   "outputs": [
    {
     "data": {
      "text/plain": [
       "<AxesSubplot:xlabel='AVG_Rating', ylabel='budget_millions'>"
      ]
     },
     "execution_count": 16,
     "metadata": {},
     "output_type": "execute_result"
    },
    {
     "data": {
      "image/png": "[encoded data removed]",
      "text/plain": [
       "<Figure size 432x288 with 1 Axes>"
      ]
     },
     "metadata": {
      "needs_background": "light"
     },
     "output_type": "display_data"
    }
   ],
   "source": [
    "sns.stripplot(x=df_final.AVG_Rating,\n",
    "              y=df_final.budget_millions,\n",
    "              alpha=.1)"
   ]
  },
  {
   "cell_type": "code",
   "execution_count": 17,
   "metadata": {},
   "outputs": [
    {
     "data": {
      "text/plain": [
       "count    2126.000000\n",
       "mean       37.163874\n",
       "std        51.129898\n",
       "min         0.001400\n",
       "25%         5.000000\n",
       "50%        18.250000\n",
       "75%        45.000000\n",
       "max       425.000000\n",
       "Name: budget_millions, dtype: float64"
      ]
     },
     "execution_count": 17,
     "metadata": {},
     "output_type": "execute_result"
    }
   ],
   "source": [
    "### Calculate the range of values we have\n",
    "df_final['budget_millions'].describe()"
   ]
  },
  {
   "cell_type": "code",
   "execution_count": 18,
   "metadata": {},
   "outputs": [],
   "source": [
    "### Bin Calculation\n",
    "# How many values are greater than 250?\n",
    "df_final[df_final['budget_millions']>200].count()\n",
    "#212 movies had budgets over 100M\n",
    "#28 had budgets over 200M\n",
    "\n",
    "budget_bins = [1, 2, 4, 8, 16, 32, 64, 108, 216]"
   ]
  },
  {
   "cell_type": "code",
   "execution_count": 19,
   "metadata": {},
   "outputs": [],
   "source": [
    "def binning(x):\n",
    "    if x > 216:\n",
    "        return 216\n",
    "    elif x > 108:\n",
    "        return 108\n",
    "    elif x > 64:\n",
    "        return 64\n",
    "    elif x > 32:\n",
    "        return 32\n",
    "    elif x > 16:\n",
    "        return 16\n",
    "    elif x > 8:\n",
    "        return 8\n",
    "    elif x > 4:\n",
    "        return 4\n",
    "    elif x > 2:\n",
    "        return 2\n",
    "    else:\n",
    "        return 1\n",
    "    \n",
    "        "
   ]
  },
  {
   "cell_type": "code",
   "execution_count": 20,
   "metadata": {
    "scrolled": true
   },
   "outputs": [],
   "source": [
    " x = [binning(x) for x in df_final['budget_millions']]"
   ]
  },
  {
   "cell_type": "code",
   "execution_count": 21,
   "metadata": {
    "scrolled": true
   },
   "outputs": [],
   "source": [
    "pd.options.mode.chained_assignment = None\n",
    "df_final['budget_binning'] = x"
   ]
  },
  {
   "cell_type": "code",
   "execution_count": 29,
   "metadata": {
    "scrolled": true
   },
   "outputs": [],
   "source": [
    "df_final.head()\n",
    "# df_final.to_csv('data/df_budget.csv')"
   ]
  },
  {
   "cell_type": "code",
   "execution_count": 23,
   "metadata": {
    "scrolled": true
   },
   "outputs": [
    {
     "name": "stderr",
     "output_type": "stream",
     "text": [
      "C:\\Users\\samumartin\\Anaconda3\\envs\\learn-env\\lib\\site-packages\\seaborn\\_decorators.py:36: FutureWarning: Pass the following variables as keyword args: x, y. From version 0.12, the only valid positional argument will be `data`, and passing other arguments without an explicit keyword will result in an error or misinterpretation.\n",
      "  warnings.warn(\n"
     ]
    },
    {
     "data": {
      "text/plain": [
       "<matplotlib.lines.Line2D at 0x12f48cf94f0>"
      ]
     },
     "execution_count": 23,
     "metadata": {},
     "output_type": "execute_result"
    },
    {
     "data": {
      "image/png": "[encoded data removed]",
      "text/plain": [
       "<Figure size 864x720 with 1 Axes>"
      ]
     },
     "metadata": {
      "needs_background": "light"
     },
     "output_type": "display_data"
    }
   ],
   "source": [
    "fig, ax = plt.subplots(figsize=(12,10))\n",
    "ax = sns.lineplot(df_final.budget_binning, df_final.AVG_Rating)\n",
    "ax.set(xlabel='Budget Millions', ylabel='Average Rating', title='Diminishing Ratings per Budget')\n",
    "ax.axhline(df_final.AVG_Rating.mean(), color='red')"
   ]
  }
 ],
 "metadata": {
  "kernelspec": {
   "display_name": "Python (learn-env)",
   "language": "python",
   "name": "learn-env"
  },
  "language_info": {
   "codemirror_mode": {
    "name": "ipython",
    "version": 3
   },
   "file_extension": ".py",
   "mimetype": "text/x-python",
   "name": "python",
   "nbconvert_exporter": "python",
   "pygments_lexer": "ipython3",
   "version": "3.8.5"
  }
 },
 "nbformat": 4,
 "nbformat_minor": 4
}
