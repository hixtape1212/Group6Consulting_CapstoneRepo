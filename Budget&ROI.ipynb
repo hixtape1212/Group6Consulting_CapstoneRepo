{
 "cells": [
  {
   "cell_type": "markdown",
   "metadata": {},
   "source": [
    "# Comparing the ROI of movies to their budgets"
   ]
  },
  {
   "cell_type": "markdown",
   "metadata": {},
   "source": [
    "## Importing the Correct Dataset"
   ]
  },
  {
   "cell_type": "code",
   "execution_count": 89,
   "metadata": {},
   "outputs": [],
   "source": [
    "### Import the nessesary libraries\n",
    "import pandas as pd\n",
    "import sqlite3 \n",
    "import matplotlib.pyplot as plt\n",
    "import numpy as np\n",
    "%matplotlib inline\n",
    "import seaborn as sns\n",
    "import scipy.stats as stats"
   ]
  },
  {
   "cell_type": "code",
   "execution_count": 90,
   "metadata": {},
   "outputs": [
    {
     "data": {
      "text/html": [
       "<div>\n",
       "<style scoped>\n",
       "    .dataframe tbody tr th:only-of-type {\n",
       "        vertical-align: middle;\n",
       "    }\n",
       "\n",
       "    .dataframe tbody tr th {\n",
       "        vertical-align: top;\n",
       "    }\n",
       "\n",
       "    .dataframe thead th {\n",
       "        text-align: right;\n",
       "    }\n",
       "</style>\n",
       "<table border=\"1\" class=\"dataframe\">\n",
       "  <thead>\n",
       "    <tr style=\"text-align: right;\">\n",
       "      <th></th>\n",
       "      <th>Primary_Title</th>\n",
       "      <th>Original_Title</th>\n",
       "      <th>AVG_Rating</th>\n",
       "      <th>Num_Votes</th>\n",
       "      <th>id</th>\n",
       "      <th>release_date</th>\n",
       "      <th>movie</th>\n",
       "      <th>production_budget</th>\n",
       "      <th>domestic_gross</th>\n",
       "      <th>worldwide_gross</th>\n",
       "      <th>budget_millions</th>\n",
       "      <th>budget_binning</th>\n",
       "    </tr>\n",
       "  </thead>\n",
       "  <tbody>\n",
       "    <tr>\n",
       "      <th>0</th>\n",
       "      <td>The Legend of Hercules</td>\n",
       "      <td>The Legend of Hercules</td>\n",
       "      <td>4.2</td>\n",
       "      <td>50352</td>\n",
       "      <td>42</td>\n",
       "      <td>Jan 10, 2014</td>\n",
       "      <td>The Legend of Hercules</td>\n",
       "      <td>$70,000,000</td>\n",
       "      <td>$18,848,538</td>\n",
       "      <td>$58,953,319</td>\n",
       "      <td>70.00</td>\n",
       "      <td>64</td>\n",
       "    </tr>\n",
       "    <tr>\n",
       "      <th>1</th>\n",
       "      <td>The Hammer</td>\n",
       "      <td>Hamill</td>\n",
       "      <td>7.0</td>\n",
       "      <td>1613</td>\n",
       "      <td>50</td>\n",
       "      <td>Mar 21, 2008</td>\n",
       "      <td>The Hammer</td>\n",
       "      <td>$850,000</td>\n",
       "      <td>$442,638</td>\n",
       "      <td>$442,638</td>\n",
       "      <td>0.85</td>\n",
       "      <td>1</td>\n",
       "    </tr>\n",
       "    <tr>\n",
       "      <th>3</th>\n",
       "      <td>Baggage Claim</td>\n",
       "      <td>Baggage Claim</td>\n",
       "      <td>5.1</td>\n",
       "      <td>8296</td>\n",
       "      <td>38</td>\n",
       "      <td>Sep 27, 2013</td>\n",
       "      <td>Baggage Claim</td>\n",
       "      <td>$8,500,000</td>\n",
       "      <td>$21,569,509</td>\n",
       "      <td>$22,885,836</td>\n",
       "      <td>8.50</td>\n",
       "      <td>8</td>\n",
       "    </tr>\n",
       "    <tr>\n",
       "      <th>4</th>\n",
       "      <td>Moneyball</td>\n",
       "      <td>Moneyball</td>\n",
       "      <td>7.6</td>\n",
       "      <td>326657</td>\n",
       "      <td>15</td>\n",
       "      <td>Sep 23, 2011</td>\n",
       "      <td>Moneyball</td>\n",
       "      <td>$50,000,000</td>\n",
       "      <td>$75,605,492</td>\n",
       "      <td>$111,300,835</td>\n",
       "      <td>50.00</td>\n",
       "      <td>32</td>\n",
       "    </tr>\n",
       "    <tr>\n",
       "      <th>5</th>\n",
       "      <td>Hereafter</td>\n",
       "      <td>Hereafter</td>\n",
       "      <td>6.5</td>\n",
       "      <td>87288</td>\n",
       "      <td>61</td>\n",
       "      <td>Oct 15, 2010</td>\n",
       "      <td>Hereafter</td>\n",
       "      <td>$50,000,000</td>\n",
       "      <td>$32,746,941</td>\n",
       "      <td>$108,660,270</td>\n",
       "      <td>50.00</td>\n",
       "      <td>32</td>\n",
       "    </tr>\n",
       "  </tbody>\n",
       "</table>\n",
       "</div>"
      ],
      "text/plain": [
       "            Primary_Title          Original_Title  AVG_Rating  Num_Votes  id  \\\n",
       "0  The Legend of Hercules  The Legend of Hercules         4.2      50352  42   \n",
       "1              The Hammer                  Hamill         7.0       1613  50   \n",
       "3           Baggage Claim           Baggage Claim         5.1       8296  38   \n",
       "4               Moneyball               Moneyball         7.6     326657  15   \n",
       "5               Hereafter               Hereafter         6.5      87288  61   \n",
       "\n",
       "   release_date                   movie production_budget domestic_gross  \\\n",
       "0  Jan 10, 2014  The Legend of Hercules       $70,000,000    $18,848,538   \n",
       "1  Mar 21, 2008              The Hammer          $850,000       $442,638   \n",
       "3  Sep 27, 2013           Baggage Claim        $8,500,000    $21,569,509   \n",
       "4  Sep 23, 2011               Moneyball       $50,000,000    $75,605,492   \n",
       "5  Oct 15, 2010               Hereafter       $50,000,000    $32,746,941   \n",
       "\n",
       "  worldwide_gross  budget_millions  budget_binning  \n",
       "0     $58,953,319            70.00              64  \n",
       "1        $442,638             0.85               1  \n",
       "3     $22,885,836             8.50               8  \n",
       "4    $111,300,835            50.00              32  \n",
       "5    $108,660,270            50.00              32  "
      ]
     },
     "execution_count": 90,
     "metadata": {},
     "output_type": "execute_result"
    }
   ],
   "source": [
    "df = pd.read_csv('data/df_budget.csv', index_col=0)\n",
    "df.head()"
   ]
  },
  {
   "cell_type": "markdown",
   "metadata": {},
   "source": [
    "## Clean the data for budget, domestic_gross, worldwide_gross"
   ]
  },
  {
   "cell_type": "code",
   "execution_count": 91,
   "metadata": {},
   "outputs": [
    {
     "name": "stdout",
     "output_type": "stream",
     "text": [
      "<class 'pandas.core.frame.DataFrame'>\n",
      "Int64Index: 2126 entries, 0 to 2874\n",
      "Data columns (total 14 columns):\n",
      " #   Column              Non-Null Count  Dtype  \n",
      "---  ------              --------------  -----  \n",
      " 0   Primary_Title       2126 non-null   object \n",
      " 1   Original_Title      2126 non-null   object \n",
      " 2   AVG_Rating          2126 non-null   float64\n",
      " 3   Num_Votes           2126 non-null   int64  \n",
      " 4   id                  2126 non-null   int64  \n",
      " 5   release_date        2126 non-null   object \n",
      " 6   movie               2126 non-null   object \n",
      " 7   production_budget   2126 non-null   object \n",
      " 8   domestic_gross      2126 non-null   object \n",
      " 9   worldwide_gross     2126 non-null   object \n",
      " 10  budget_millions     2126 non-null   float64\n",
      " 11  budget_binning      2126 non-null   int64  \n",
      " 12  domestic_millions   2126 non-null   float64\n",
      " 13  worldwide_millions  2126 non-null   float64\n",
      "dtypes: float64(4), int64(3), object(7)\n",
      "memory usage: 249.1+ KB\n"
     ]
    }
   ],
   "source": [
    "#Domestic\n",
    "df['domestic_millions'] = df.domestic_gross.str.replace(',','')\n",
    "df['domestic_millions'] = df.domestic_millions.str.replace('$','')\n",
    "df['domestic_millions'] = pd.to_numeric(df.domestic_millions) / 1000000\n",
    "\n",
    "#Worldwide\n",
    "df['worldwide_millions'] = df.worldwide_gross.str.replace(',','')\n",
    "df['worldwide_millions'] = df.worldwide_millions.str.replace('$','')\n",
    "df['worldwide_millions'] = pd.to_numeric(df.worldwide_millions) / 1000000\n",
    "\n",
    "df.info()"
   ]
  },
  {
   "cell_type": "markdown",
   "metadata": {},
   "source": [
    "## Create the ROI Column using budget and worldwide"
   ]
  },
  {
   "cell_type": "code",
   "execution_count": 92,
   "metadata": {},
   "outputs": [
    {
     "data": {
      "text/html": [
       "<div>\n",
       "<style scoped>\n",
       "    .dataframe tbody tr th:only-of-type {\n",
       "        vertical-align: middle;\n",
       "    }\n",
       "\n",
       "    .dataframe tbody tr th {\n",
       "        vertical-align: top;\n",
       "    }\n",
       "\n",
       "    .dataframe thead th {\n",
       "        text-align: right;\n",
       "    }\n",
       "</style>\n",
       "<table border=\"1\" class=\"dataframe\">\n",
       "  <thead>\n",
       "    <tr style=\"text-align: right;\">\n",
       "      <th></th>\n",
       "      <th>Primary_Title</th>\n",
       "      <th>Original_Title</th>\n",
       "      <th>AVG_Rating</th>\n",
       "      <th>Num_Votes</th>\n",
       "      <th>id</th>\n",
       "      <th>release_date</th>\n",
       "      <th>movie</th>\n",
       "      <th>production_budget</th>\n",
       "      <th>domestic_gross</th>\n",
       "      <th>worldwide_gross</th>\n",
       "      <th>budget_millions</th>\n",
       "      <th>budget_binning</th>\n",
       "      <th>domestic_millions</th>\n",
       "      <th>worldwide_millions</th>\n",
       "      <th>roi</th>\n",
       "    </tr>\n",
       "  </thead>\n",
       "  <tbody>\n",
       "    <tr>\n",
       "      <th>0</th>\n",
       "      <td>The Legend of Hercules</td>\n",
       "      <td>The Legend of Hercules</td>\n",
       "      <td>4.2</td>\n",
       "      <td>50352</td>\n",
       "      <td>42</td>\n",
       "      <td>Jan 10, 2014</td>\n",
       "      <td>The Legend of Hercules</td>\n",
       "      <td>$70,000,000</td>\n",
       "      <td>$18,848,538</td>\n",
       "      <td>$58,953,319</td>\n",
       "      <td>70.00</td>\n",
       "      <td>64</td>\n",
       "      <td>18.848538</td>\n",
       "      <td>58.953319</td>\n",
       "      <td>-0.157810</td>\n",
       "    </tr>\n",
       "    <tr>\n",
       "      <th>1</th>\n",
       "      <td>The Hammer</td>\n",
       "      <td>Hamill</td>\n",
       "      <td>7.0</td>\n",
       "      <td>1613</td>\n",
       "      <td>50</td>\n",
       "      <td>Mar 21, 2008</td>\n",
       "      <td>The Hammer</td>\n",
       "      <td>$850,000</td>\n",
       "      <td>$442,638</td>\n",
       "      <td>$442,638</td>\n",
       "      <td>0.85</td>\n",
       "      <td>1</td>\n",
       "      <td>0.442638</td>\n",
       "      <td>0.442638</td>\n",
       "      <td>-0.479249</td>\n",
       "    </tr>\n",
       "    <tr>\n",
       "      <th>3</th>\n",
       "      <td>Baggage Claim</td>\n",
       "      <td>Baggage Claim</td>\n",
       "      <td>5.1</td>\n",
       "      <td>8296</td>\n",
       "      <td>38</td>\n",
       "      <td>Sep 27, 2013</td>\n",
       "      <td>Baggage Claim</td>\n",
       "      <td>$8,500,000</td>\n",
       "      <td>$21,569,509</td>\n",
       "      <td>$22,885,836</td>\n",
       "      <td>8.50</td>\n",
       "      <td>8</td>\n",
       "      <td>21.569509</td>\n",
       "      <td>22.885836</td>\n",
       "      <td>1.692451</td>\n",
       "    </tr>\n",
       "    <tr>\n",
       "      <th>4</th>\n",
       "      <td>Moneyball</td>\n",
       "      <td>Moneyball</td>\n",
       "      <td>7.6</td>\n",
       "      <td>326657</td>\n",
       "      <td>15</td>\n",
       "      <td>Sep 23, 2011</td>\n",
       "      <td>Moneyball</td>\n",
       "      <td>$50,000,000</td>\n",
       "      <td>$75,605,492</td>\n",
       "      <td>$111,300,835</td>\n",
       "      <td>50.00</td>\n",
       "      <td>32</td>\n",
       "      <td>75.605492</td>\n",
       "      <td>111.300835</td>\n",
       "      <td>1.226017</td>\n",
       "    </tr>\n",
       "    <tr>\n",
       "      <th>5</th>\n",
       "      <td>Hereafter</td>\n",
       "      <td>Hereafter</td>\n",
       "      <td>6.5</td>\n",
       "      <td>87288</td>\n",
       "      <td>61</td>\n",
       "      <td>Oct 15, 2010</td>\n",
       "      <td>Hereafter</td>\n",
       "      <td>$50,000,000</td>\n",
       "      <td>$32,746,941</td>\n",
       "      <td>$108,660,270</td>\n",
       "      <td>50.00</td>\n",
       "      <td>32</td>\n",
       "      <td>32.746941</td>\n",
       "      <td>108.660270</td>\n",
       "      <td>1.173205</td>\n",
       "    </tr>\n",
       "  </tbody>\n",
       "</table>\n",
       "</div>"
      ],
      "text/plain": [
       "            Primary_Title          Original_Title  AVG_Rating  Num_Votes  id  \\\n",
       "0  The Legend of Hercules  The Legend of Hercules         4.2      50352  42   \n",
       "1              The Hammer                  Hamill         7.0       1613  50   \n",
       "3           Baggage Claim           Baggage Claim         5.1       8296  38   \n",
       "4               Moneyball               Moneyball         7.6     326657  15   \n",
       "5               Hereafter               Hereafter         6.5      87288  61   \n",
       "\n",
       "   release_date                   movie production_budget domestic_gross  \\\n",
       "0  Jan 10, 2014  The Legend of Hercules       $70,000,000    $18,848,538   \n",
       "1  Mar 21, 2008              The Hammer          $850,000       $442,638   \n",
       "3  Sep 27, 2013           Baggage Claim        $8,500,000    $21,569,509   \n",
       "4  Sep 23, 2011               Moneyball       $50,000,000    $75,605,492   \n",
       "5  Oct 15, 2010               Hereafter       $50,000,000    $32,746,941   \n",
       "\n",
       "  worldwide_gross  budget_millions  budget_binning  domestic_millions  \\\n",
       "0     $58,953,319            70.00              64          18.848538   \n",
       "1        $442,638             0.85               1           0.442638   \n",
       "3     $22,885,836             8.50               8          21.569509   \n",
       "4    $111,300,835            50.00              32          75.605492   \n",
       "5    $108,660,270            50.00              32          32.746941   \n",
       "\n",
       "   worldwide_millions       roi  \n",
       "0           58.953319 -0.157810  \n",
       "1            0.442638 -0.479249  \n",
       "3           22.885836  1.692451  \n",
       "4          111.300835  1.226017  \n",
       "5          108.660270  1.173205  "
      ]
     },
     "execution_count": 92,
     "metadata": {},
     "output_type": "execute_result"
    }
   ],
   "source": [
    "df['roi'] = (df.worldwide_millions - df.budget_millions)/df.budget_millions\n",
    "df.head()"
   ]
  },
  {
   "cell_type": "code",
   "execution_count": 101,
   "metadata": {},
   "outputs": [],
   "source": [
    "# Pushing the cleaned data file to the data folder\n",
    "# df.to_csv('data/df_roi.csv')"
   ]
  },
  {
   "cell_type": "markdown",
   "metadata": {},
   "source": [
    "## Visualizations"
   ]
  },
  {
   "cell_type": "code",
   "execution_count": 93,
   "metadata": {},
   "outputs": [
    {
     "name": "stderr",
     "output_type": "stream",
     "text": [
      "C:\\Users\\samumartin\\Anaconda3\\envs\\learn-env\\lib\\site-packages\\seaborn\\_decorators.py:36: FutureWarning: Pass the following variables as keyword args: x, y. From version 0.12, the only valid positional argument will be `data`, and passing other arguments without an explicit keyword will result in an error or misinterpretation.\n",
      "  warnings.warn(\n"
     ]
    },
    {
     "data": {
      "text/plain": [
       "<matplotlib.lines.Line2D at 0x23360bfbbe0>"
      ]
     },
     "execution_count": 93,
     "metadata": {},
     "output_type": "execute_result"
    },
    {
     "data": {
      "image/png": "[encoded data removed]",
      "text/plain": [
       "<Figure size 864x720 with 1 Axes>"
      ]
     },
     "metadata": {
      "needs_background": "light"
     },
     "output_type": "display_data"
    }
   ],
   "source": [
    "#Cluster Plot of the ROI to budget\n",
    "# sns.histplot(y=df.roi,\n",
    "#              x=df.worldwide_millions)\n",
    "fig, ax = plt.subplots(figsize=(12,10))\n",
    "ax = sns.lineplot(df.budget_binning, df.roi)\n",
    "ax.set(xlabel='Budget Millions', ylabel='ROI', title='Diminishing ROI per Budget')\n",
    "ax.axhline(df.roi.mean(), color='red')"
   ]
  },
  {
   "cell_type": "markdown",
   "metadata": {},
   "source": [
    "## Removing outliers"
   ]
  },
  {
   "cell_type": "code",
   "execution_count": 94,
   "metadata": {},
   "outputs": [
    {
     "data": {
      "text/plain": [
       "count    2126.000000\n",
       "mean        2.627956\n",
       "std        13.627146\n",
       "min        -1.000000\n",
       "25%        -0.635096\n",
       "50%         0.685090\n",
       "75%         2.644018\n",
       "max       415.564740\n",
       "Name: roi, dtype: float64"
      ]
     },
     "execution_count": 94,
     "metadata": {},
     "output_type": "execute_result"
    }
   ],
   "source": [
    "df.roi.describe()"
   ]
  },
  {
   "cell_type": "code",
   "execution_count": 95,
   "metadata": {},
   "outputs": [],
   "source": [
    "dist = stats.norm(df.roi.mean(),df.roi.std())"
   ]
  },
  {
   "cell_type": "code",
   "execution_count": 96,
   "metadata": {},
   "outputs": [
    {
     "data": {
      "text/plain": [
       "28.2578042725374"
      ]
     },
     "execution_count": 96,
     "metadata": {},
     "output_type": "execute_result"
    }
   ],
   "source": [
    "dist.ppf(.97)"
   ]
  },
  {
   "cell_type": "markdown",
   "metadata": {},
   "source": [
    "### Notes from observations of the data\n",
    "- Would only be interested in movies with an ROI under 28 considering that originally would account for 97% of our mass function"
   ]
  },
  {
   "cell_type": "code",
   "execution_count": 97,
   "metadata": {},
   "outputs": [
    {
     "name": "stdout",
     "output_type": "stream",
     "text": [
      "<class 'pandas.core.frame.DataFrame'>\n",
      "Int64Index: 2104 entries, 0 to 2874\n",
      "Data columns (total 15 columns):\n",
      " #   Column              Non-Null Count  Dtype  \n",
      "---  ------              --------------  -----  \n",
      " 0   Primary_Title       2104 non-null   object \n",
      " 1   Original_Title      2104 non-null   object \n",
      " 2   AVG_Rating          2104 non-null   float64\n",
      " 3   Num_Votes           2104 non-null   int64  \n",
      " 4   id                  2104 non-null   int64  \n",
      " 5   release_date        2104 non-null   object \n",
      " 6   movie               2104 non-null   object \n",
      " 7   production_budget   2104 non-null   object \n",
      " 8   domestic_gross      2104 non-null   object \n",
      " 9   worldwide_gross     2104 non-null   object \n",
      " 10  budget_millions     2104 non-null   float64\n",
      " 11  budget_binning      2104 non-null   int64  \n",
      " 12  domestic_millions   2104 non-null   float64\n",
      " 13  worldwide_millions  2104 non-null   float64\n",
      " 14  roi                 2104 non-null   float64\n",
      "dtypes: float64(5), int64(3), object(7)\n",
      "memory usage: 263.0+ KB\n"
     ]
    }
   ],
   "source": [
    "#Drop ROI's where the roi is > 3\n",
    "df.drop(df[df['roi'] > 28].index, inplace=True)\n",
    "df.info()"
   ]
  },
  {
   "cell_type": "code",
   "execution_count": 98,
   "metadata": {},
   "outputs": [
    {
     "name": "stderr",
     "output_type": "stream",
     "text": [
      "C:\\Users\\samumartin\\Anaconda3\\envs\\learn-env\\lib\\site-packages\\seaborn\\_decorators.py:36: FutureWarning: Pass the following variables as keyword args: x, y. From version 0.12, the only valid positional argument will be `data`, and passing other arguments without an explicit keyword will result in an error or misinterpretation.\n",
      "  warnings.warn(\n"
     ]
    },
    {
     "data": {
      "text/plain": [
       "<matplotlib.lines.Line2D at 0x23360d88220>"
      ]
     },
     "execution_count": 98,
     "metadata": {},
     "output_type": "execute_result"
    },
    {
     "data": {
      "image/png": "[encoded data removed]",
      "text/plain": [
       "<Figure size 864x720 with 1 Axes>"
      ]
     },
     "metadata": {
      "needs_background": "light"
     },
     "output_type": "display_data"
    }
   ],
   "source": [
    "fig, ax = plt.subplots(figsize=(12,10))\n",
    "ax = sns.lineplot(df.budget_binning, df.roi)\n",
    "ax.set(xlabel='Budget Millions', ylabel='ROI', title='Diminishing AVG ROI per Budget')\n",
    "ax.axhline(df.roi.mean(), color='red')"
   ]
  }
 ],
 "metadata": {
  "kernelspec": {
   "display_name": "Python (learn-env)",
   "language": "python",
   "name": "learn-env"
  },
  "language_info": {
   "codemirror_mode": {
    "name": "ipython",
    "version": 3
   },
   "file_extension": ".py",
   "mimetype": "text/x-python",
   "name": "python",
   "nbconvert_exporter": "python",
   "pygments_lexer": "ipython3",
   "version": "3.8.5"
  }
 },
 "nbformat": 4,
 "nbformat_minor": 4
}
