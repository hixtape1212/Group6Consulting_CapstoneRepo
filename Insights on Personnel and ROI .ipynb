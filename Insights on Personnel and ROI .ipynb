{
 "cells": [
  {
   "cell_type": "markdown",
   "metadata": {},
   "source": [
    "# Gathering Insights using IMDB Personnel and ROI from The Numbers"
   ]
  },
  {
   "cell_type": "code",
   "execution_count": 1,
   "metadata": {},
   "outputs": [],
   "source": [
    "### Import the nessesary libraries\n",
    "import pandas as pd\n",
    "import sqlite3 \n",
    "import matplotlib.pyplot as plt\n",
    "import numpy as np\n",
    "%matplotlib inline\n",
    "import scipy.stats as stats\n",
    "import seaborn as sns"
   ]
  },
  {
   "cell_type": "code",
   "execution_count": 2,
   "metadata": {},
   "outputs": [],
   "source": [
    "df_IMDB = pd.read_csv('data/IMDBPersonnel_HighRating.csv') \n",
    "df_roi = pd.read_csv('data/df_roi.csv')"
   ]
  },
  {
   "cell_type": "code",
   "execution_count": 5,
   "metadata": {},
   "outputs": [
    {
     "name": "stdout",
     "output_type": "stream",
     "text": [
      "<class 'pandas.core.frame.DataFrame'>\n",
      "RangeIndex: 2104 entries, 0 to 2103\n",
      "Data columns (total 16 columns):\n",
      " #   Column              Non-Null Count  Dtype  \n",
      "---  ------              --------------  -----  \n",
      " 0   Unnamed: 0          2104 non-null   int64  \n",
      " 1   Primary_Title       2104 non-null   object \n",
      " 2   Original_Title      2104 non-null   object \n",
      " 3   AVG_Rating          2104 non-null   float64\n",
      " 4   Num_Votes           2104 non-null   int64  \n",
      " 5   id                  2104 non-null   int64  \n",
      " 6   release_date        2104 non-null   object \n",
      " 7   movie               2104 non-null   object \n",
      " 8   production_budget   2104 non-null   object \n",
      " 9   domestic_gross      2104 non-null   object \n",
      " 10  worldwide_gross     2104 non-null   object \n",
      " 11  budget_millions     2104 non-null   float64\n",
      " 12  budget_binning      2104 non-null   int64  \n",
      " 13  domestic_millions   2104 non-null   float64\n",
      " 14  worldwide_millions  2104 non-null   float64\n",
      " 15  roi                 2104 non-null   float64\n",
      "dtypes: float64(5), int64(4), object(7)\n",
      "memory usage: 263.1+ KB\n"
     ]
    }
   ],
   "source": [
    "df_roi.info()"
   ]
  },
  {
   "cell_type": "markdown",
   "metadata": {},
   "source": [
    "## Merge the two tables together on the primary title"
   ]
  },
  {
   "cell_type": "code",
   "execution_count": 9,
   "metadata": {},
   "outputs": [
    {
     "name": "stdout",
     "output_type": "stream",
     "text": [
      "<class 'pandas.core.frame.DataFrame'>\n",
      "Int64Index: 4314 entries, 0 to 4313\n",
      "Data columns (total 23 columns):\n",
      " #   Column              Non-Null Count  Dtype  \n",
      "---  ------              --------------  -----  \n",
      " 0   Unnamed: 0_x        4314 non-null   int64  \n",
      " 1   name                4314 non-null   object \n",
      " 2   p_title             4314 non-null   object \n",
      " 3   o_title             4314 non-null   object \n",
      " 4   genres              4312 non-null   object \n",
      " 5   job                 4314 non-null   object \n",
      " 6   rating              4314 non-null   float64\n",
      " 7   Unnamed: 0_y        4314 non-null   int64  \n",
      " 8   Primary_Title       4314 non-null   object \n",
      " 9   Original_Title      4314 non-null   object \n",
      " 10  AVG_Rating          4314 non-null   float64\n",
      " 11  Num_Votes           4314 non-null   int64  \n",
      " 12  id                  4314 non-null   int64  \n",
      " 13  release_date        4314 non-null   object \n",
      " 14  movie               4314 non-null   object \n",
      " 15  production_budget   4314 non-null   object \n",
      " 16  domestic_gross      4314 non-null   object \n",
      " 17  worldwide_gross     4314 non-null   object \n",
      " 18  budget_millions     4314 non-null   float64\n",
      " 19  budget_binning      4314 non-null   int64  \n",
      " 20  domestic_millions   4314 non-null   float64\n",
      " 21  worldwide_millions  4314 non-null   float64\n",
      " 22  roi                 4314 non-null   float64\n",
      "dtypes: float64(6), int64(5), object(12)\n",
      "memory usage: 808.9+ KB\n"
     ]
    }
   ],
   "source": [
    "df = pd.merge(df_IMDB, \n",
    "             df_roi, \n",
    "             how='inner', \n",
    "             left_on = 'p_title', \n",
    "             right_on='Primary_Title')\n",
    "df.info()"
   ]
  },
  {
   "cell_type": "code",
   "execution_count": 10,
   "metadata": {},
   "outputs": [
    {
     "data": {
      "text/plain": [
       "Tim Bevan                  15\n",
       "Eric Fellner               14\n",
       "Scott Rudin                14\n",
       "Stan Lee                   13\n",
       "Peter Chernin              10\n",
       "                           ..\n",
       "Charlene Sawit-Esguerra     1\n",
       "Derrick Tseng               1\n",
       "Simon Rich                  1\n",
       "Peter Bouckaert             1\n",
       "Matthew Clayfield           1\n",
       "Name: name, Length: 3226, dtype: int64"
      ]
     },
     "execution_count": 10,
     "metadata": {},
     "output_type": "execute_result"
    }
   ],
   "source": [
    "df.name.value_counts()"
   ]
  },
  {
   "cell_type": "code",
   "execution_count": null,
   "metadata": {},
   "outputs": [],
   "source": []
  }
 ],
 "metadata": {
  "kernelspec": {
   "display_name": "Python (learn-env)",
   "language": "python",
   "name": "learn-env"
  },
  "language_info": {
   "codemirror_mode": {
    "name": "ipython",
    "version": 3
   },
   "file_extension": ".py",
   "mimetype": "text/x-python",
   "name": "python",
   "nbconvert_exporter": "python",
   "pygments_lexer": "ipython3",
   "version": "3.8.5"
  }
 },
 "nbformat": 4,
 "nbformat_minor": 4
}
