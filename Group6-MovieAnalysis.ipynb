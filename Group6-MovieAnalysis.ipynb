{
 "cells": [
  {
   "cell_type": "markdown",
   "metadata": {},
   "source": [
    "## Creating main dataset to standardize for the Final Jupyter Notebook"
   ]
  },
  {
   "cell_type": "markdown",
   "metadata": {},
   "source": [
    "Needs to have ROI, Budgets, and Runntime"
   ]
  },
  {
   "cell_type": "code",
   "execution_count": 23,
   "metadata": {},
   "outputs": [],
   "source": [
    "### Import the nessesary libraries\n",
    "import pandas as pd\n",
    "import sqlite3 \n",
    "import matplotlib.pyplot as plt\n",
    "import numpy as np\n",
    "%matplotlib inline\n",
    "import seaborn as sns\n",
    "import scipy.stats as stats"
   ]
  },
  {
   "cell_type": "code",
   "execution_count": 24,
   "metadata": {},
   "outputs": [],
   "source": [
    "df_num = pd.read_csv('data/tn.movie_budgets.csv')"
   ]
  },
  {
   "cell_type": "code",
   "execution_count": 25,
   "metadata": {},
   "outputs": [],
   "source": [
    "conn = sqlite3.connect('data/im.db')\n",
    "q = \"\"\"\n",
    "SELECT \n",
    "    primary_title AS p_title,\n",
    "    runtime_minutes AS time_min,\n",
    "    averagerating AS avg_rating,\n",
    "    genres\n",
    "FROM movie_basics\n",
    "JOIN movie_ratings\n",
    "    USING(movie_id)\n",
    ";\n",
    "\"\"\"\n",
    "df_IMDB = pd.read_sql(q, conn)"
   ]
  },
  {
   "cell_type": "markdown",
   "metadata": {},
   "source": [
    "Combine the two into a single dataframe"
   ]
  },
  {
   "cell_type": "code",
   "execution_count": 26,
   "metadata": {},
   "outputs": [],
   "source": [
    "### Merge on Primary Title\n",
    "df = pd.merge(df_IMDB, \n",
    "            df_num, \n",
    "            how='inner', \n",
    "            left_on = 'p_title', \n",
    "            right_on = 'movie')\n",
    "#df.info()"
   ]
  },
  {
   "cell_type": "markdown",
   "metadata": {},
   "source": [
    "Cleaning the dataset"
   ]
  },
  {
   "cell_type": "code",
   "execution_count": 27,
   "metadata": {},
   "outputs": [],
   "source": [
    "#Domestic\n",
    "df['domestic_millions'] = df.domestic_gross.str.replace(',','')\n",
    "df['domestic_millions'] = df.domestic_millions.str.replace('$','')\n",
    "df['domestic_millions'] = pd.to_numeric(df.domestic_millions) / 1000000\n",
    "\n",
    "#Worldwide\n",
    "df['worldwide_millions'] = df.worldwide_gross.str.replace(',','')\n",
    "df['worldwide_millions'] = df.worldwide_millions.str.replace('$','')\n",
    "df['worldwide_millions'] = pd.to_numeric(df.worldwide_millions) / 1000000\n",
    "\n",
    "# Get rid of non-numerics in production_budget\n",
    "df['budget_millions'] = df.production_budget.str.replace(',','')\n",
    "df['budget_millions'] = df.budget_millions.str.replace('$','')\n",
    "df['budget_millions'] = pd.to_numeric(df.budget_millions) / 1000000\n",
    "\n",
    "\n",
    "#df.info()"
   ]
  },
  {
   "cell_type": "code",
   "execution_count": 28,
   "metadata": {
    "scrolled": true
   },
   "outputs": [],
   "source": [
    "#Drop duplicates\n",
    "df.drop_duplicates(subset=['movie'], inplace=True)\n",
    "# df.head(10)"
   ]
  },
  {
   "cell_type": "code",
   "execution_count": 7,
   "metadata": {},
   "outputs": [],
   "source": [
    "#df.info()"
   ]
  },
  {
   "cell_type": "markdown",
   "metadata": {},
   "source": [
    "Adding in the correct roi"
   ]
  },
  {
   "cell_type": "code",
   "execution_count": 29,
   "metadata": {},
   "outputs": [],
   "source": [
    "df['roi'] = (df.worldwide_millions - df.budget_millions)/df.budget_millions"
   ]
  },
  {
   "cell_type": "markdown",
   "metadata": {},
   "source": [
    "Add in the binning for the production budget"
   ]
  },
  {
   "cell_type": "code",
   "execution_count": 30,
   "metadata": {},
   "outputs": [],
   "source": [
    "def binning(x):\n",
    "    if x > 216:\n",
    "        return 216\n",
    "    elif x > 108:\n",
    "        return 108\n",
    "    elif x > 64:\n",
    "        return 64\n",
    "    elif x > 32:\n",
    "        return 32\n",
    "    elif x > 16:\n",
    "        return 16\n",
    "    elif x > 8:\n",
    "        return 8\n",
    "    elif x > 4:\n",
    "        return 4\n",
    "    elif x > 2:\n",
    "        return 2\n",
    "    else:\n",
    "        return 1"
   ]
  },
  {
   "cell_type": "code",
   "execution_count": 31,
   "metadata": {},
   "outputs": [],
   "source": [
    "x = [binning(x) for x in df['budget_millions']]"
   ]
  },
  {
   "cell_type": "code",
   "execution_count": 32,
   "metadata": {},
   "outputs": [],
   "source": [
    "pd.options.mode.chained_assignment = None\n",
    "df['budget_binning'] = x"
   ]
  },
  {
   "cell_type": "code",
   "execution_count": 33,
   "metadata": {},
   "outputs": [
    {
     "name": "stdout",
     "output_type": "stream",
     "text": [
      "<class 'pandas.core.frame.DataFrame'>\n",
      "Int64Index: 2126 entries, 0 to 2874\n",
      "Data columns (total 15 columns):\n",
      " #   Column              Non-Null Count  Dtype  \n",
      "---  ------              --------------  -----  \n",
      " 0   p_title             2126 non-null   object \n",
      " 1   time_min            2072 non-null   float64\n",
      " 2   avg_rating          2126 non-null   float64\n",
      " 3   genres              2124 non-null   object \n",
      " 4   id                  2126 non-null   int64  \n",
      " 5   release_date        2126 non-null   object \n",
      " 6   movie               2126 non-null   object \n",
      " 7   production_budget   2126 non-null   object \n",
      " 8   domestic_gross      2126 non-null   object \n",
      " 9   worldwide_gross     2126 non-null   object \n",
      " 10  domestic_millions   2126 non-null   float64\n",
      " 11  worldwide_millions  2126 non-null   float64\n",
      " 12  budget_millions     2126 non-null   float64\n",
      " 13  roi                 2126 non-null   float64\n",
      " 14  budget_binning      2126 non-null   int64  \n",
      "dtypes: float64(6), int64(2), object(7)\n",
      "memory usage: 265.8+ KB\n"
     ]
    }
   ],
   "source": [
    "df.head(10)\n",
    "df.info()"
   ]
  },
  {
   "cell_type": "markdown",
   "metadata": {},
   "source": [
    "# Genre Z-Test Analysis"
   ]
  },
  {
   "cell_type": "code",
   "execution_count": 34,
   "metadata": {},
   "outputs": [],
   "source": [
    "df = df.dropna()\n",
    "myList = df['genres'].tolist()\n",
    "genre_list=[]\n",
    "for i in range(len(myList)):\n",
    "    genre_list.append(myList[i].split(','))\n",
    "#genre_list"
   ]
  },
  {
   "cell_type": "code",
   "execution_count": 35,
   "metadata": {},
   "outputs": [],
   "source": [
    "from itertools import chain\n",
    "genres=list(set(chain(*genre_list)))\n",
    "#print(genres)\n",
    "#print(len(genres))\n",
    "#print(type(genres))"
   ]
  },
  {
   "cell_type": "code",
   "execution_count": 36,
   "metadata": {},
   "outputs": [
    {
     "data": {
      "image/png": "[encoded data removed]",
      "text/plain": [
       "<Figure size 864x288 with 1 Axes>"
      ]
     },
     "metadata": {
      "needs_background": "light"
     },
     "output_type": "display_data"
    }
   ],
   "source": [
    "#Worldwide gross Average profits.\n",
    "wwg_avg=[] \n",
    "for i in range(len(genres)):\n",
    "    wwg = df['genres'].astype(str).str.contains(genres[i], regex = True, na = False)\n",
    "    wwg_avg.append(df['worldwide_millions'][wwg].mean())\n",
    "\n",
    "wwg_avg, genres = zip(*sorted(zip(wwg_avg, genres), reverse=True))  # reverse sort data on 'wwg_avg'\n",
    "c = range(len(wwg_avg))\n",
    "\n",
    "#creating the bar plot\n",
    "fig = plt.figure(figsize = (12, 4))\n",
    "ax = fig.add_subplot(111)\n",
    "ax.bar(c, wwg_avg, color='red' ,width = 0.9)\n",
    "plt.xticks(c, genres, rotation=45)\n",
    "plt.xlabel(\"Genres\")\n",
    "plt.ylabel(\"Worldwide gross\")\n",
    "plt.title(\"Average revenue Worldwide by genre\")\n",
    "plt.show()"
   ]
  },
  {
   "cell_type": "code",
   "execution_count": 37,
   "metadata": {},
   "outputs": [
    {
     "data": {
      "image/png": "[encoded data removed]",
      "text/plain": [
       "<Figure size 864x288 with 1 Axes>"
      ]
     },
     "metadata": {
      "needs_background": "light"
     },
     "output_type": "display_data"
    }
   ],
   "source": [
    "#Domestic gross Average profits.\n",
    "dg_avg=[]\n",
    "for i in range(len(genres)):\n",
    "    dg = df['genres'].astype(str).str.contains(genres[i], regex = True, na = False)\n",
    "    dg_avg.append(df['domestic_millions'][dg].mean())\n",
    "#dg_avg\n",
    "dg_avg, genres = zip(*sorted(zip(dg_avg, genres), reverse=True))  # reverse sort data on 'wwg_avg'\n",
    "c = range(len(dg_avg))\n",
    "\n",
    "#creating the bar plot\n",
    "fig = plt.figure(figsize = (12, 4))\n",
    "ax = fig.add_subplot(111)\n",
    "ax.bar(c, dg_avg, color='orange' ,width = 0.9)\n",
    "plt.xticks(c, genres, rotation=45)\n",
    "plt.xlabel(\"Genres\")\n",
    "plt.ylabel(\"Worldwide gross\")\n",
    "plt.title(\"Average revenue Worldwide by genre\")\n",
    "plt.show()"
   ]
  },
  {
   "cell_type": "code",
   "execution_count": 38,
   "metadata": {},
   "outputs": [
    {
     "data": {
      "image/png": "[encoded data removed]",
      "text/plain": [
       "<Figure size 864x288 with 1 Axes>"
      ]
     },
     "metadata": {
      "needs_background": "light"
     },
     "output_type": "display_data"
    }
   ],
   "source": [
    "#production_budget Average profits.\n",
    "pb_avg=[]\n",
    "for i in range(len(genres)):\n",
    "    pb = df['genres'].astype(str).str.contains(genres[i], regex = True, na = False)\n",
    "    pb_avg.append(df['budget_millions'][pb].mean())\n",
    "#print(pb_avg)\n",
    "\n",
    "pb_avg, genres = zip(*sorted(zip(pb_avg, genres), reverse=True))  # reverse sort data on 'wwg_avg'\n",
    "c = range(len(pb_avg))\n",
    "\n",
    "#creating the bar plot\n",
    "fig = plt.figure(figsize = (12, 4))\n",
    "ax = fig.add_subplot(111)\n",
    "ax.bar(c, pb_avg, color='pink' ,width = 0.9)\n",
    "plt.xticks(c, genres, rotation=45)\n",
    "plt.xlabel(\"Genres\")\n",
    "plt.ylabel(\"Worldwide gross\")\n",
    "plt.title(\"Average revenue Worldwide by genre\")\n",
    "plt.show()"
   ]
  },
  {
   "cell_type": "code",
   "execution_count": 39,
   "metadata": {},
   "outputs": [
    {
     "data": {
      "image/png": "[encoded data removed]",
      "text/plain": [
       "<Figure size 864x288 with 1 Axes>"
      ]
     },
     "metadata": {
      "needs_background": "light"
     },
     "output_type": "display_data"
    }
   ],
   "source": [
    "#Roi Average profits.\n",
    "roi_avg=[]\n",
    "for i in range(len(genres)):\n",
    "    roi = df['genres'].astype(str).str.contains(genres[i], regex = True, na = False)\n",
    "    roi_avg.append(df['roi'][roi].mean())\n",
    "#print(roi_avg)\n",
    "roi_avg, genres = zip(*sorted(zip(roi_avg, genres), reverse=True))  # reverse sort data on 'wwg_avg'\n",
    "c = range(len(roi_avg))\n",
    "\n",
    "#creating the bar plot\n",
    "fig = plt.figure(figsize = (12, 4))\n",
    "ax = fig.add_subplot(111)\n",
    "ax.bar(c, roi_avg, color='blue' ,width = 0.9)\n",
    "plt.xticks(c, genres, rotation=45)\n",
    "plt.xlabel(\"Genres\")\n",
    "plt.ylabel(\"Worldwide gross\")\n",
    "plt.title(\"Average revenue Worldwide by genre\")\n",
    "plt.show()"
   ]
  },
  {
   "cell_type": "markdown",
   "metadata": {},
   "source": [
    "## Hypothesis Testing\n",
    "\n",
    "Our team wanted to see if Mystery, Horror and Thriller movies generete a larger ROI than other genres."
   ]
  },
  {
   "cell_type": "markdown",
   "metadata": {},
   "source": [
    "### State our Hypotheses:\n",
    "H-Alt -> The average ROI for Mystery, Horror and Thriller is higher than other movies  $$\\large H_a\\text{:   }\\mu < \\bar{x}$$\n",
    "\n",
    "H-Null -> There is no difference in the ROI for Mystery, , Horror and Thriller vs. other movies  $$\\large H_o\\text{:   }\\mu \\geq \\bar{x}$$\n",
    "\n",
    "Alpha: 0.05"
   ]
  },
  {
   "cell_type": "code",
   "execution_count": 40,
   "metadata": {},
   "outputs": [
    {
     "data": {
      "text/html": [
       "<div>\n",
       "<style scoped>\n",
       "    .dataframe tbody tr th:only-of-type {\n",
       "        vertical-align: middle;\n",
       "    }\n",
       "\n",
       "    .dataframe tbody tr th {\n",
       "        vertical-align: top;\n",
       "    }\n",
       "\n",
       "    .dataframe thead th {\n",
       "        text-align: right;\n",
       "    }\n",
       "</style>\n",
       "<table border=\"1\" class=\"dataframe\">\n",
       "  <thead>\n",
       "    <tr style=\"text-align: right;\">\n",
       "      <th></th>\n",
       "      <th>time_min</th>\n",
       "      <th>avg_rating</th>\n",
       "      <th>id</th>\n",
       "      <th>domestic_millions</th>\n",
       "      <th>worldwide_millions</th>\n",
       "      <th>budget_millions</th>\n",
       "      <th>roi</th>\n",
       "      <th>budget_binning</th>\n",
       "    </tr>\n",
       "  </thead>\n",
       "  <tbody>\n",
       "    <tr>\n",
       "      <th>count</th>\n",
       "      <td>2070.000000</td>\n",
       "      <td>2070.000000</td>\n",
       "      <td>2070.000000</td>\n",
       "      <td>2070.000000</td>\n",
       "      <td>2070.000000</td>\n",
       "      <td>2070.000000</td>\n",
       "      <td>2070.000000</td>\n",
       "      <td>2070.00000</td>\n",
       "    </tr>\n",
       "    <tr>\n",
       "      <th>mean</th>\n",
       "      <td>103.908213</td>\n",
       "      <td>6.228068</td>\n",
       "      <td>50.533333</td>\n",
       "      <td>46.721206</td>\n",
       "      <td>114.225849</td>\n",
       "      <td>37.497390</td>\n",
       "      <td>2.654110</td>\n",
       "      <td>27.05942</td>\n",
       "    </tr>\n",
       "    <tr>\n",
       "      <th>std</th>\n",
       "      <td>18.747006</td>\n",
       "      <td>1.130268</td>\n",
       "      <td>28.547208</td>\n",
       "      <td>78.051190</td>\n",
       "      <td>216.068937</td>\n",
       "      <td>51.466797</td>\n",
       "      <td>13.790324</td>\n",
       "      <td>37.08651</td>\n",
       "    </tr>\n",
       "    <tr>\n",
       "      <th>min</th>\n",
       "      <td>5.000000</td>\n",
       "      <td>1.600000</td>\n",
       "      <td>1.000000</td>\n",
       "      <td>0.000000</td>\n",
       "      <td>0.000000</td>\n",
       "      <td>0.001400</td>\n",
       "      <td>-1.000000</td>\n",
       "      <td>1.00000</td>\n",
       "    </tr>\n",
       "    <tr>\n",
       "      <th>25%</th>\n",
       "      <td>91.000000</td>\n",
       "      <td>5.600000</td>\n",
       "      <td>26.000000</td>\n",
       "      <td>0.641150</td>\n",
       "      <td>2.507165</td>\n",
       "      <td>5.000000</td>\n",
       "      <td>-0.625003</td>\n",
       "      <td>4.00000</td>\n",
       "    </tr>\n",
       "    <tr>\n",
       "      <th>50%</th>\n",
       "      <td>102.000000</td>\n",
       "      <td>6.300000</td>\n",
       "      <td>50.000000</td>\n",
       "      <td>18.964095</td>\n",
       "      <td>33.204586</td>\n",
       "      <td>19.000000</td>\n",
       "      <td>0.696789</td>\n",
       "      <td>16.00000</td>\n",
       "    </tr>\n",
       "    <tr>\n",
       "      <th>75%</th>\n",
       "      <td>114.000000</td>\n",
       "      <td>7.000000</td>\n",
       "      <td>75.000000</td>\n",
       "      <td>56.449204</td>\n",
       "      <td>116.736437</td>\n",
       "      <td>45.000000</td>\n",
       "      <td>2.644018</td>\n",
       "      <td>32.00000</td>\n",
       "    </tr>\n",
       "    <tr>\n",
       "      <th>max</th>\n",
       "      <td>180.000000</td>\n",
       "      <td>9.200000</td>\n",
       "      <td>100.000000</td>\n",
       "      <td>760.507625</td>\n",
       "      <td>2776.345279</td>\n",
       "      <td>425.000000</td>\n",
       "      <td>415.564740</td>\n",
       "      <td>216.00000</td>\n",
       "    </tr>\n",
       "  </tbody>\n",
       "</table>\n",
       "</div>"
      ],
      "text/plain": [
       "          time_min   avg_rating           id  domestic_millions  \\\n",
       "count  2070.000000  2070.000000  2070.000000        2070.000000   \n",
       "mean    103.908213     6.228068    50.533333          46.721206   \n",
       "std      18.747006     1.130268    28.547208          78.051190   \n",
       "min       5.000000     1.600000     1.000000           0.000000   \n",
       "25%      91.000000     5.600000    26.000000           0.641150   \n",
       "50%     102.000000     6.300000    50.000000          18.964095   \n",
       "75%     114.000000     7.000000    75.000000          56.449204   \n",
       "max     180.000000     9.200000   100.000000         760.507625   \n",
       "\n",
       "       worldwide_millions  budget_millions          roi  budget_binning  \n",
       "count         2070.000000      2070.000000  2070.000000      2070.00000  \n",
       "mean           114.225849        37.497390     2.654110        27.05942  \n",
       "std            216.068937        51.466797    13.790324        37.08651  \n",
       "min              0.000000         0.001400    -1.000000         1.00000  \n",
       "25%              2.507165         5.000000    -0.625003         4.00000  \n",
       "50%             33.204586        19.000000     0.696789        16.00000  \n",
       "75%            116.736437        45.000000     2.644018        32.00000  \n",
       "max           2776.345279       425.000000   415.564740       216.00000  "
      ]
     },
     "execution_count": 40,
     "metadata": {},
     "output_type": "execute_result"
    }
   ],
   "source": [
    "df.describe()"
   ]
  },
  {
   "cell_type": "code",
   "execution_count": 41,
   "metadata": {},
   "outputs": [],
   "source": [
    "#population mean and std\n",
    "\n",
    "roi_mean = df['roi'].mean()\n",
    "roi_std = df['roi'].std()\n",
    "\n",
    "stats.norm(roi_mean, roi_std)\n",
    "plt.style.use('seaborn')"
   ]
  },
  {
   "cell_type": "code",
   "execution_count": 42,
   "metadata": {},
   "outputs": [],
   "source": [
    "#Mystery mean\n",
    "df_mystery = df[df['genres'].str.contains('Mystery')]\n",
    "mystery_mean = df_mystery['roi'].mean()\n",
    "#df_mystery\n",
    "#print(mystery_mean)\n",
    "\n",
    "#Horror mean\n",
    "df_horror = df[df['genres'].str.contains('Horror')]\n",
    "horror_mean = df_horror['roi'].mean()\n",
    "#df_mystery\n",
    "#print(mystery_mean)\n",
    "\n",
    "#Thriller mean\n",
    "df_thriller = df[df['genres'].str.contains('Thriller')]\n",
    "thriller_mean = df_thriller['roi'].mean()\n",
    "#df_mystery\n",
    "#print(mystery_mean)\n",
    "\n",
    "#Documentary mean\n",
    "df_Documentary = df[df['genres'].str.contains('Documentary')]\n",
    "Documentary_mean = df_Documentary['roi'].mean()\n",
    "#df_mystery\n",
    "#print(mystery_mean)"
   ]
  },
  {
   "cell_type": "code",
   "execution_count": 43,
   "metadata": {},
   "outputs": [
    {
     "name": "stdout",
     "output_type": "stream",
     "text": [
      "P-value: 4.619940964678548e-06\n",
      "True\n",
      "Percent area under the curve from Zscore of 4.434237277030223 is 99.99953800590353% \n",
      "\n",
      "P-value: 2.0679048268856803e-05\n",
      "True\n",
      "Percent area under the curve from Zscore of 4.099758791095601 is 99.99793209517311% \n",
      "\n",
      "P-value: 0.008758839449245048\n",
      "True\n",
      "Percent area under the curve from Zscore of 2.3756582508012034 is 99.12411605507549% \n",
      "\n",
      "P-value: 0.1475443516480548\n",
      "False\n",
      "Percent area under the curve from Zscore of 1.047023579203531 is 85.24556483519451% \n",
      "\n"
     ]
    }
   ],
   "source": [
    "# Z score Function\n",
    "from math import sqrt\n",
    "def Zscore(Dataframe, mean):\n",
    "    x_bar= mean\n",
    "    n =  len(Dataframe.id)\n",
    "    sigma = roi_std\n",
    "    mu = roi_mean\n",
    "    z = (x_bar - mu)/(sigma/sqrt(n))\n",
    "\n",
    "    pval= 1-stats.norm.cdf(z)\n",
    "    print(f'P-value: {pval}') \n",
    "    print(pval<0.05)\n",
    "    print(f'Percent area under the curve from Zscore of {z} is {stats.norm.cdf(z)*100}% \\n')\n",
    "   \n",
    "    \n",
    "Zscore(df_mystery, mystery_mean)\n",
    "Zscore(df_horror, horror_mean)\n",
    "Zscore(df_thriller, thriller_mean)\n",
    "Zscore(df_Documentary, Documentary_mean)"
   ]
  },
  {
   "cell_type": "markdown",
   "metadata": {},
   "source": [
    "# Law of Diminishing Returns Analysis"
   ]
  },
  {
   "cell_type": "markdown",
   "metadata": {},
   "source": [
    "# Runtime Analysis"
   ]
  }
 ],
 "metadata": {
  "kernelspec": {
   "display_name": "Python (learn-env)",
   "language": "python",
   "name": "learn-env"
  },
  "language_info": {
   "codemirror_mode": {
    "name": "ipython",
    "version": 3
   },
   "file_extension": ".py",
   "mimetype": "text/x-python",
   "name": "python",
   "nbconvert_exporter": "python",
   "pygments_lexer": "ipython3",
   "version": "3.8.5"
  }
 },
 "nbformat": 4,
 "nbformat_minor": 4
}
