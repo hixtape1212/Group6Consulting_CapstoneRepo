{
 "cells": [
  {
   "cell_type": "markdown",
   "metadata": {},
   "source": [
    "## Creating main dataset to standardize for the Final Jupyter Notebook"
   ]
  },
  {
   "cell_type": "markdown",
   "metadata": {},
   "source": [
    "Needs to have ROI, Budgets, and Runntime"
   ]
  },
  {
   "cell_type": "code",
   "execution_count": 1,
   "metadata": {},
   "outputs": [],
   "source": [
    "### Import the nessesary libraries\n",
    "import pandas as pd\n",
    "import sqlite3 \n",
    "import matplotlib.pyplot as plt\n",
    "import numpy as np\n",
    "%matplotlib inline\n",
    "import seaborn as sns\n",
    "import scipy.stats as stats\n",
    "from math import sqrt"
   ]
  },
  {
   "cell_type": "code",
   "execution_count": 2,
   "metadata": {},
   "outputs": [],
   "source": [
    "df_num = pd.read_csv('data/tn.movie_budgets.csv')"
   ]
  },
  {
   "cell_type": "code",
   "execution_count": 3,
   "metadata": {},
   "outputs": [],
   "source": [
    "conn = sqlite3.connect('data/im.db')\n",
    "q = \"\"\"\n",
    "SELECT \n",
    "    primary_title AS p_title,\n",
    "    runtime_minutes AS time_min,\n",
    "    averagerating AS avg_rating,\n",
    "    genres\n",
    "FROM movie_basics\n",
    "JOIN movie_ratings\n",
    "    USING(movie_id)\n",
    ";\n",
    "\"\"\"\n",
    "df_IMDB = pd.read_sql(q, conn)\n",
    "df_IMDB = df_IMDB.dropna()"
   ]
  },
  {
   "cell_type": "markdown",
   "metadata": {},
   "source": [
    "Combine the two into a single dataframe"
   ]
  },
  {
   "cell_type": "code",
   "execution_count": 4,
   "metadata": {},
   "outputs": [],
   "source": [
    "### Merge on Primary Title\n",
    "df = pd.merge(df_IMDB, \n",
    "            df_num, \n",
    "            how='inner', \n",
    "            left_on = 'p_title', \n",
    "            right_on = 'movie')\n",
    "#df.info()"
   ]
  },
  {
   "cell_type": "markdown",
   "metadata": {},
   "source": [
    "Cleaning the dataset"
   ]
  },
  {
   "cell_type": "code",
   "execution_count": 5,
   "metadata": {},
   "outputs": [],
   "source": [
    "#Domestic\n",
    "df['domestic_millions'] = df.domestic_gross.str.replace(',','')\n",
    "df['domestic_millions'] = df.domestic_millions.str.replace('$','')\n",
    "df['domestic_millions'] = pd.to_numeric(df.domestic_millions) / 1000000\n",
    "\n",
    "#Worldwide\n",
    "df['worldwide_millions'] = df.worldwide_gross.str.replace(',','')\n",
    "df['worldwide_millions'] = df.worldwide_millions.str.replace('$','')\n",
    "df['worldwide_millions'] = pd.to_numeric(df.worldwide_millions) / 1000000\n",
    "\n",
    "# Get rid of non-numerics in production_budget\n",
    "df['budget_millions'] = df.production_budget.str.replace(',','')\n",
    "df['budget_millions'] = df.budget_millions.str.replace('$','')\n",
    "df['budget_millions'] = pd.to_numeric(df.budget_millions) / 1000000\n",
    "\n",
    "\n",
    "#df.info()"
   ]
  },
  {
   "cell_type": "code",
   "execution_count": 6,
   "metadata": {
    "scrolled": true
   },
   "outputs": [],
   "source": [
    "#Drop duplicates\n",
    "df.drop_duplicates(subset=['movie'], keep = 'first', inplace=True)\n",
    "# df.head(10)"
   ]
  },
  {
   "cell_type": "code",
   "execution_count": 7,
   "metadata": {},
   "outputs": [],
   "source": [
    "#df.info()"
   ]
  },
  {
   "cell_type": "markdown",
   "metadata": {},
   "source": [
    "Adding in the correct roi"
   ]
  },
  {
   "cell_type": "code",
   "execution_count": 8,
   "metadata": {},
   "outputs": [],
   "source": [
    "df['roi'] = (df.worldwide_millions - df.budget_millions)/df.budget_millions"
   ]
  },
  {
   "cell_type": "markdown",
   "metadata": {},
   "source": [
    "Add in the binning for the production budget"
   ]
  },
  {
   "cell_type": "code",
   "execution_count": 9,
   "metadata": {},
   "outputs": [],
   "source": [
    "def binning(x):\n",
    "    if x > 216:\n",
    "        return 216\n",
    "    elif x > 108:\n",
    "        return 108\n",
    "    elif x > 64:\n",
    "        return 64\n",
    "    elif x > 32:\n",
    "        return 32\n",
    "    elif x > 16:\n",
    "        return 16\n",
    "    elif x > 8:\n",
    "        return 8\n",
    "    elif x > 4:\n",
    "        return 4\n",
    "    elif x > 2:\n",
    "        return 2\n",
    "    else:\n",
    "        return 1"
   ]
  },
  {
   "cell_type": "code",
   "execution_count": 10,
   "metadata": {},
   "outputs": [],
   "source": [
    "x = [binning(x) for x in df['budget_millions']]"
   ]
  },
  {
   "cell_type": "code",
   "execution_count": 11,
   "metadata": {},
   "outputs": [],
   "source": [
    "pd.options.mode.chained_assignment = None\n",
    "df['budget_binning'] = x"
   ]
  },
  {
   "cell_type": "code",
   "execution_count": 12,
   "metadata": {},
   "outputs": [
    {
     "data": {
      "text/html": [
       "<div>\n",
       "<style scoped>\n",
       "    .dataframe tbody tr th:only-of-type {\n",
       "        vertical-align: middle;\n",
       "    }\n",
       "\n",
       "    .dataframe tbody tr th {\n",
       "        vertical-align: top;\n",
       "    }\n",
       "\n",
       "    .dataframe thead th {\n",
       "        text-align: right;\n",
       "    }\n",
       "</style>\n",
       "<table border=\"1\" class=\"dataframe\">\n",
       "  <thead>\n",
       "    <tr style=\"text-align: right;\">\n",
       "      <th></th>\n",
       "      <th>p_title</th>\n",
       "      <th>time_min</th>\n",
       "      <th>avg_rating</th>\n",
       "      <th>genres</th>\n",
       "      <th>id</th>\n",
       "      <th>release_date</th>\n",
       "      <th>movie</th>\n",
       "      <th>production_budget</th>\n",
       "      <th>domestic_gross</th>\n",
       "      <th>worldwide_gross</th>\n",
       "      <th>domestic_millions</th>\n",
       "      <th>worldwide_millions</th>\n",
       "      <th>budget_millions</th>\n",
       "      <th>roi</th>\n",
       "      <th>budget_binning</th>\n",
       "    </tr>\n",
       "  </thead>\n",
       "  <tbody>\n",
       "    <tr>\n",
       "      <th>0</th>\n",
       "      <td>Foodfight!</td>\n",
       "      <td>91.0</td>\n",
       "      <td>1.9</td>\n",
       "      <td>Action,Animation,Comedy</td>\n",
       "      <td>26</td>\n",
       "      <td>Dec 31, 2012</td>\n",
       "      <td>Foodfight!</td>\n",
       "      <td>$45,000,000</td>\n",
       "      <td>$0</td>\n",
       "      <td>$73,706</td>\n",
       "      <td>0.000000</td>\n",
       "      <td>0.073706</td>\n",
       "      <td>45.0</td>\n",
       "      <td>-0.998362</td>\n",
       "      <td>32</td>\n",
       "    </tr>\n",
       "    <tr>\n",
       "      <th>1</th>\n",
       "      <td>On the Road</td>\n",
       "      <td>124.0</td>\n",
       "      <td>6.1</td>\n",
       "      <td>Adventure,Drama,Romance</td>\n",
       "      <td>17</td>\n",
       "      <td>Mar 22, 2013</td>\n",
       "      <td>On the Road</td>\n",
       "      <td>$25,000,000</td>\n",
       "      <td>$720,828</td>\n",
       "      <td>$9,313,302</td>\n",
       "      <td>0.720828</td>\n",
       "      <td>9.313302</td>\n",
       "      <td>25.0</td>\n",
       "      <td>-0.627468</td>\n",
       "      <td>16</td>\n",
       "    </tr>\n",
       "    <tr>\n",
       "      <th>4</th>\n",
       "      <td>The Secret Life of Walter Mitty</td>\n",
       "      <td>114.0</td>\n",
       "      <td>7.3</td>\n",
       "      <td>Adventure,Comedy,Drama</td>\n",
       "      <td>37</td>\n",
       "      <td>Dec 25, 2013</td>\n",
       "      <td>The Secret Life of Walter Mitty</td>\n",
       "      <td>$91,000,000</td>\n",
       "      <td>$58,236,838</td>\n",
       "      <td>$187,861,183</td>\n",
       "      <td>58.236838</td>\n",
       "      <td>187.861183</td>\n",
       "      <td>91.0</td>\n",
       "      <td>1.064409</td>\n",
       "      <td>64</td>\n",
       "    </tr>\n",
       "    <tr>\n",
       "      <th>5</th>\n",
       "      <td>A Walk Among the Tombstones</td>\n",
       "      <td>114.0</td>\n",
       "      <td>6.5</td>\n",
       "      <td>Action,Crime,Drama</td>\n",
       "      <td>67</td>\n",
       "      <td>Sep 19, 2014</td>\n",
       "      <td>A Walk Among the Tombstones</td>\n",
       "      <td>$28,000,000</td>\n",
       "      <td>$26,017,685</td>\n",
       "      <td>$62,108,587</td>\n",
       "      <td>26.017685</td>\n",
       "      <td>62.108587</td>\n",
       "      <td>28.0</td>\n",
       "      <td>1.218164</td>\n",
       "      <td>16</td>\n",
       "    </tr>\n",
       "    <tr>\n",
       "      <th>6</th>\n",
       "      <td>Jurassic World</td>\n",
       "      <td>124.0</td>\n",
       "      <td>7.0</td>\n",
       "      <td>Action,Adventure,Sci-Fi</td>\n",
       "      <td>34</td>\n",
       "      <td>Jun 12, 2015</td>\n",
       "      <td>Jurassic World</td>\n",
       "      <td>$215,000,000</td>\n",
       "      <td>$652,270,625</td>\n",
       "      <td>$1,648,854,864</td>\n",
       "      <td>652.270625</td>\n",
       "      <td>1648.854864</td>\n",
       "      <td>215.0</td>\n",
       "      <td>6.669092</td>\n",
       "      <td>108</td>\n",
       "    </tr>\n",
       "    <tr>\n",
       "      <th>7</th>\n",
       "      <td>The Rum Diary</td>\n",
       "      <td>119.0</td>\n",
       "      <td>6.2</td>\n",
       "      <td>Comedy,Drama</td>\n",
       "      <td>16</td>\n",
       "      <td>Oct 28, 2011</td>\n",
       "      <td>The Rum Diary</td>\n",
       "      <td>$45,000,000</td>\n",
       "      <td>$13,109,815</td>\n",
       "      <td>$21,544,732</td>\n",
       "      <td>13.109815</td>\n",
       "      <td>21.544732</td>\n",
       "      <td>45.0</td>\n",
       "      <td>-0.521228</td>\n",
       "      <td>32</td>\n",
       "    </tr>\n",
       "    <tr>\n",
       "      <th>8</th>\n",
       "      <td>The Three Stooges</td>\n",
       "      <td>92.0</td>\n",
       "      <td>5.1</td>\n",
       "      <td>Comedy,Family</td>\n",
       "      <td>4</td>\n",
       "      <td>Apr 13, 2012</td>\n",
       "      <td>The Three Stooges</td>\n",
       "      <td>$30,000,000</td>\n",
       "      <td>$44,338,224</td>\n",
       "      <td>$54,052,249</td>\n",
       "      <td>44.338224</td>\n",
       "      <td>54.052249</td>\n",
       "      <td>30.0</td>\n",
       "      <td>0.801742</td>\n",
       "      <td>16</td>\n",
       "    </tr>\n",
       "    <tr>\n",
       "      <th>9</th>\n",
       "      <td>Anderson's Cross</td>\n",
       "      <td>98.0</td>\n",
       "      <td>5.5</td>\n",
       "      <td>Comedy,Drama,Romance</td>\n",
       "      <td>65</td>\n",
       "      <td>Dec 31, 2010</td>\n",
       "      <td>Anderson's Cross</td>\n",
       "      <td>$300,000</td>\n",
       "      <td>$0</td>\n",
       "      <td>$0</td>\n",
       "      <td>0.000000</td>\n",
       "      <td>0.000000</td>\n",
       "      <td>0.3</td>\n",
       "      <td>-1.000000</td>\n",
       "      <td>1</td>\n",
       "    </tr>\n",
       "    <tr>\n",
       "      <th>10</th>\n",
       "      <td>Tangled</td>\n",
       "      <td>100.0</td>\n",
       "      <td>7.8</td>\n",
       "      <td>Adventure,Animation,Comedy</td>\n",
       "      <td>15</td>\n",
       "      <td>Nov 24, 2010</td>\n",
       "      <td>Tangled</td>\n",
       "      <td>$260,000,000</td>\n",
       "      <td>$200,821,936</td>\n",
       "      <td>$586,477,240</td>\n",
       "      <td>200.821936</td>\n",
       "      <td>586.477240</td>\n",
       "      <td>260.0</td>\n",
       "      <td>1.255682</td>\n",
       "      <td>216</td>\n",
       "    </tr>\n",
       "    <tr>\n",
       "      <th>11</th>\n",
       "      <td>John Carter</td>\n",
       "      <td>132.0</td>\n",
       "      <td>6.6</td>\n",
       "      <td>Action,Adventure,Sci-Fi</td>\n",
       "      <td>14</td>\n",
       "      <td>Mar 9, 2012</td>\n",
       "      <td>John Carter</td>\n",
       "      <td>$275,000,000</td>\n",
       "      <td>$73,058,679</td>\n",
       "      <td>$282,778,100</td>\n",
       "      <td>73.058679</td>\n",
       "      <td>282.778100</td>\n",
       "      <td>275.0</td>\n",
       "      <td>0.028284</td>\n",
       "      <td>216</td>\n",
       "    </tr>\n",
       "  </tbody>\n",
       "</table>\n",
       "</div>"
      ],
      "text/plain": [
       "                            p_title  time_min  avg_rating  \\\n",
       "0                        Foodfight!      91.0         1.9   \n",
       "1                       On the Road     124.0         6.1   \n",
       "4   The Secret Life of Walter Mitty     114.0         7.3   \n",
       "5       A Walk Among the Tombstones     114.0         6.5   \n",
       "6                    Jurassic World     124.0         7.0   \n",
       "7                     The Rum Diary     119.0         6.2   \n",
       "8                 The Three Stooges      92.0         5.1   \n",
       "9                  Anderson's Cross      98.0         5.5   \n",
       "10                          Tangled     100.0         7.8   \n",
       "11                      John Carter     132.0         6.6   \n",
       "\n",
       "                        genres  id  release_date  \\\n",
       "0      Action,Animation,Comedy  26  Dec 31, 2012   \n",
       "1      Adventure,Drama,Romance  17  Mar 22, 2013   \n",
       "4       Adventure,Comedy,Drama  37  Dec 25, 2013   \n",
       "5           Action,Crime,Drama  67  Sep 19, 2014   \n",
       "6      Action,Adventure,Sci-Fi  34  Jun 12, 2015   \n",
       "7                 Comedy,Drama  16  Oct 28, 2011   \n",
       "8                Comedy,Family   4  Apr 13, 2012   \n",
       "9         Comedy,Drama,Romance  65  Dec 31, 2010   \n",
       "10  Adventure,Animation,Comedy  15  Nov 24, 2010   \n",
       "11     Action,Adventure,Sci-Fi  14   Mar 9, 2012   \n",
       "\n",
       "                              movie production_budget domestic_gross  \\\n",
       "0                        Foodfight!       $45,000,000             $0   \n",
       "1                       On the Road       $25,000,000       $720,828   \n",
       "4   The Secret Life of Walter Mitty       $91,000,000    $58,236,838   \n",
       "5       A Walk Among the Tombstones       $28,000,000    $26,017,685   \n",
       "6                    Jurassic World      $215,000,000   $652,270,625   \n",
       "7                     The Rum Diary       $45,000,000    $13,109,815   \n",
       "8                 The Three Stooges       $30,000,000    $44,338,224   \n",
       "9                  Anderson's Cross          $300,000             $0   \n",
       "10                          Tangled      $260,000,000   $200,821,936   \n",
       "11                      John Carter      $275,000,000    $73,058,679   \n",
       "\n",
       "   worldwide_gross  domestic_millions  worldwide_millions  budget_millions  \\\n",
       "0          $73,706           0.000000            0.073706             45.0   \n",
       "1       $9,313,302           0.720828            9.313302             25.0   \n",
       "4     $187,861,183          58.236838          187.861183             91.0   \n",
       "5      $62,108,587          26.017685           62.108587             28.0   \n",
       "6   $1,648,854,864         652.270625         1648.854864            215.0   \n",
       "7      $21,544,732          13.109815           21.544732             45.0   \n",
       "8      $54,052,249          44.338224           54.052249             30.0   \n",
       "9               $0           0.000000            0.000000              0.3   \n",
       "10    $586,477,240         200.821936          586.477240            260.0   \n",
       "11    $282,778,100          73.058679          282.778100            275.0   \n",
       "\n",
       "         roi  budget_binning  \n",
       "0  -0.998362              32  \n",
       "1  -0.627468              16  \n",
       "4   1.064409              64  \n",
       "5   1.218164              16  \n",
       "6   6.669092             108  \n",
       "7  -0.521228              32  \n",
       "8   0.801742              16  \n",
       "9  -1.000000               1  \n",
       "10  1.255682             216  \n",
       "11  0.028284             216  "
      ]
     },
     "execution_count": 12,
     "metadata": {},
     "output_type": "execute_result"
    }
   ],
   "source": [
    "df.head(10)"
   ]
  },
  {
   "cell_type": "markdown",
   "metadata": {},
   "source": [
    "# Genre Z-Test Analysis"
   ]
  },
  {
   "cell_type": "code",
   "execution_count": 13,
   "metadata": {},
   "outputs": [],
   "source": [
    "myList = df['genres'].tolist()\n",
    "genre_list=[]\n",
    "for i in range(len(myList)):\n",
    "    genre_list.append(myList[i].split(','))\n",
    "#genre_list"
   ]
  },
  {
   "cell_type": "code",
   "execution_count": 14,
   "metadata": {},
   "outputs": [],
   "source": [
    "from itertools import chain\n",
    "genres=list(set(chain(*genre_list)))\n",
    "#print(genres)\n",
    "#print(len(genres))\n",
    "#print(type(genres))"
   ]
  },
  {
   "cell_type": "code",
   "execution_count": 15,
   "metadata": {},
   "outputs": [
    {
     "data": {
      "image/png": "[encoded data removed]",
      "text/plain": [
       "<Figure size 864x288 with 1 Axes>"
      ]
     },
     "metadata": {
      "needs_background": "light"
     },
     "output_type": "display_data"
    }
   ],
   "source": [
    "#Worldwide gross Average profits.\n",
    "wwg_avg=[] \n",
    "for i in range(len(genres)):\n",
    "    wwg = df['genres'].astype(str).str.contains(genres[i], regex = True, na = False)\n",
    "    wwg_avg.append(df['worldwide_millions'][wwg].mean())\n",
    "    \n",
    "fig = plt.figure(figsize = (12, 4))\n",
    " \n",
    "# creating the bar plot\n",
    "plt.bar(genres, wwg_avg, color = 'red',width = 0.9)\n",
    " \n",
    "plt.xlabel(\"Genres\")\n",
    "plt.xticks(rotation = 55)\n",
    "plt.ylabel(\"Worldwide gross\")\n",
    "plt.title(\"Average revenue Worldwide by genre\")\n",
    "plt.show()"
   ]
  },
  {
   "cell_type": "code",
   "execution_count": 16,
   "metadata": {},
   "outputs": [
    {
     "data": {
      "image/png": "[encoded data removed]",
      "text/plain": [
       "<Figure size 864x288 with 1 Axes>"
      ]
     },
     "metadata": {
      "needs_background": "light"
     },
     "output_type": "display_data"
    }
   ],
   "source": [
    "#Domestic gross Average profits.\n",
    "dg_avg=[]\n",
    "for i in range(len(genres)):\n",
    "    dg = df['genres'].astype(str).str.contains(genres[i], regex = True, na = False)\n",
    "    dg_avg.append(df['domestic_millions'][dg].mean())\n",
    "#dg_avg\n",
    "\n",
    "fig = plt.figure(figsize = (12, 4))\n",
    "plt.bar(genres, dg_avg, color='gold' ,width = 0.9)\n",
    " \n",
    "plt.xlabel(\"Genres\")\n",
    "plt.xticks(rotation = 55)\n",
    "plt.ylabel(\"Domestic gross\")\n",
    "plt.title(\"Average revenue Domestic by genre\")\n",
    "plt.show()"
   ]
  },
  {
   "cell_type": "code",
   "execution_count": 17,
   "metadata": {},
   "outputs": [
    {
     "data": {
      "image/png": "[encoded data removed]",
      "text/plain": [
       "<Figure size 864x288 with 1 Axes>"
      ]
     },
     "metadata": {
      "needs_background": "light"
     },
     "output_type": "display_data"
    }
   ],
   "source": [
    "#production_budget Average profits.\n",
    "pb_avg=[]\n",
    "for i in range(len(genres)):\n",
    "    pb = df['genres'].astype(str).str.contains(genres[i], regex = True, na = False)\n",
    "    pb_avg.append(df['budget_millions'][pb].mean())\n",
    "#print(pb_avg)\n",
    "\n",
    "\n",
    "fig = plt.figure(figsize = (12, 4))\n",
    "plt.bar(genres, pb_avg, color='pink' ,width = 0.9)\n",
    " \n",
    "plt.xlabel(\"Genres\")\n",
    "plt.xticks(rotation = 55)\n",
    "plt.ylabel(\"Production Budget\")\n",
    "plt.title(\"Average Production Budget genre\")\n",
    "plt.show()"
   ]
  },
  {
   "cell_type": "code",
   "execution_count": 18,
   "metadata": {},
   "outputs": [
    {
     "data": {
      "image/png": "[encoded data removed]",
      "text/plain": [
       "<Figure size 864x288 with 1 Axes>"
      ]
     },
     "metadata": {
      "needs_background": "light"
     },
     "output_type": "display_data"
    }
   ],
   "source": [
    "#Roi Average profits.\n",
    "roi_avg=[]\n",
    "for i in range(len(genres)):\n",
    "    roi = df['genres'].astype(str).str.contains(genres[i], regex = True, na = False)\n",
    "    roi_avg.append(df['roi'][roi].mean())\n",
    "#print(roi_avg)\n",
    "\n",
    "\n",
    "fig = plt.figure(figsize = (12, 4))\n",
    "plt.bar(genres, roi_avg, color='blue' ,width = 0.9)\n",
    "\n",
    "plt.xlabel(\"Genres\")\n",
    "plt.xticks(rotation = 55)\n",
    "plt.ylabel(\"ROI\")\n",
    "plt.title(\"Average ROI by genre\")\n",
    "plt.show()"
   ]
  },
  {
   "cell_type": "markdown",
   "metadata": {},
   "source": [
    "## Hypothesis Testing\n",
    "\n",
    "Our team wanted to see if Mystery, Horror and Thriller movies generete a larger ROI than other genres."
   ]
  },
  {
   "cell_type": "markdown",
   "metadata": {},
   "source": [
    "### State our Hypotheses:\n",
    "H-Alt -> The average ROI for Mystery, Horror and Thriller is higher than other movies  $$\\large H_a\\text{:   }\\mu < \\bar{x}$$\n",
    "\n",
    "H-Null -> There is no difference in the ROI for Mystery, , Horror and Thriller vs. other movies  $$\\large H_o\\text{:   }\\mu \\geq \\bar{x}$$\n",
    "\n",
    "Alpha: 0.05"
   ]
  },
  {
   "cell_type": "code",
   "execution_count": 19,
   "metadata": {},
   "outputs": [
    {
     "data": {
      "text/html": [
       "<div>\n",
       "<style scoped>\n",
       "    .dataframe tbody tr th:only-of-type {\n",
       "        vertical-align: middle;\n",
       "    }\n",
       "\n",
       "    .dataframe tbody tr th {\n",
       "        vertical-align: top;\n",
       "    }\n",
       "\n",
       "    .dataframe thead th {\n",
       "        text-align: right;\n",
       "    }\n",
       "</style>\n",
       "<table border=\"1\" class=\"dataframe\">\n",
       "  <thead>\n",
       "    <tr style=\"text-align: right;\">\n",
       "      <th></th>\n",
       "      <th>time_min</th>\n",
       "      <th>avg_rating</th>\n",
       "      <th>id</th>\n",
       "      <th>domestic_millions</th>\n",
       "      <th>worldwide_millions</th>\n",
       "      <th>budget_millions</th>\n",
       "      <th>roi</th>\n",
       "      <th>budget_binning</th>\n",
       "    </tr>\n",
       "  </thead>\n",
       "  <tbody>\n",
       "    <tr>\n",
       "      <th>count</th>\n",
       "      <td>2092.000000</td>\n",
       "      <td>2092.000000</td>\n",
       "      <td>2092.000000</td>\n",
       "      <td>2092.000000</td>\n",
       "      <td>2092.000000</td>\n",
       "      <td>2092.000000</td>\n",
       "      <td>2092.000000</td>\n",
       "      <td>2092.000000</td>\n",
       "    </tr>\n",
       "    <tr>\n",
       "      <th>mean</th>\n",
       "      <td>103.979924</td>\n",
       "      <td>6.232744</td>\n",
       "      <td>50.559751</td>\n",
       "      <td>46.467333</td>\n",
       "      <td>113.635795</td>\n",
       "      <td>37.388168</td>\n",
       "      <td>2.650609</td>\n",
       "      <td>26.987572</td>\n",
       "    </tr>\n",
       "    <tr>\n",
       "      <th>std</th>\n",
       "      <td>18.837816</td>\n",
       "      <td>1.132598</td>\n",
       "      <td>28.536296</td>\n",
       "      <td>77.744015</td>\n",
       "      <td>215.193088</td>\n",
       "      <td>51.319530</td>\n",
       "      <td>13.732268</td>\n",
       "      <td>36.996243</td>\n",
       "    </tr>\n",
       "    <tr>\n",
       "      <th>min</th>\n",
       "      <td>5.000000</td>\n",
       "      <td>1.600000</td>\n",
       "      <td>1.000000</td>\n",
       "      <td>0.000000</td>\n",
       "      <td>0.000000</td>\n",
       "      <td>0.001400</td>\n",
       "      <td>-1.000000</td>\n",
       "      <td>1.000000</td>\n",
       "    </tr>\n",
       "    <tr>\n",
       "      <th>25%</th>\n",
       "      <td>91.000000</td>\n",
       "      <td>5.600000</td>\n",
       "      <td>26.000000</td>\n",
       "      <td>0.631483</td>\n",
       "      <td>2.476599</td>\n",
       "      <td>5.000000</td>\n",
       "      <td>-0.638296</td>\n",
       "      <td>4.000000</td>\n",
       "    </tr>\n",
       "    <tr>\n",
       "      <th>50%</th>\n",
       "      <td>102.000000</td>\n",
       "      <td>6.300000</td>\n",
       "      <td>50.000000</td>\n",
       "      <td>18.837514</td>\n",
       "      <td>33.052520</td>\n",
       "      <td>19.000000</td>\n",
       "      <td>0.691975</td>\n",
       "      <td>16.000000</td>\n",
       "    </tr>\n",
       "    <tr>\n",
       "      <th>75%</th>\n",
       "      <td>114.000000</td>\n",
       "      <td>7.000000</td>\n",
       "      <td>75.000000</td>\n",
       "      <td>56.442063</td>\n",
       "      <td>116.289721</td>\n",
       "      <td>45.000000</td>\n",
       "      <td>2.655065</td>\n",
       "      <td>32.000000</td>\n",
       "    </tr>\n",
       "    <tr>\n",
       "      <th>max</th>\n",
       "      <td>180.000000</td>\n",
       "      <td>9.200000</td>\n",
       "      <td>100.000000</td>\n",
       "      <td>760.507625</td>\n",
       "      <td>2776.345279</td>\n",
       "      <td>425.000000</td>\n",
       "      <td>415.564740</td>\n",
       "      <td>216.000000</td>\n",
       "    </tr>\n",
       "  </tbody>\n",
       "</table>\n",
       "</div>"
      ],
      "text/plain": [
       "          time_min   avg_rating           id  domestic_millions  \\\n",
       "count  2092.000000  2092.000000  2092.000000        2092.000000   \n",
       "mean    103.979924     6.232744    50.559751          46.467333   \n",
       "std      18.837816     1.132598    28.536296          77.744015   \n",
       "min       5.000000     1.600000     1.000000           0.000000   \n",
       "25%      91.000000     5.600000    26.000000           0.631483   \n",
       "50%     102.000000     6.300000    50.000000          18.837514   \n",
       "75%     114.000000     7.000000    75.000000          56.442063   \n",
       "max     180.000000     9.200000   100.000000         760.507625   \n",
       "\n",
       "       worldwide_millions  budget_millions          roi  budget_binning  \n",
       "count         2092.000000      2092.000000  2092.000000     2092.000000  \n",
       "mean           113.635795        37.388168     2.650609       26.987572  \n",
       "std            215.193088        51.319530    13.732268       36.996243  \n",
       "min              0.000000         0.001400    -1.000000        1.000000  \n",
       "25%              2.476599         5.000000    -0.638296        4.000000  \n",
       "50%             33.052520        19.000000     0.691975       16.000000  \n",
       "75%            116.289721        45.000000     2.655065       32.000000  \n",
       "max           2776.345279       425.000000   415.564740      216.000000  "
      ]
     },
     "execution_count": 19,
     "metadata": {},
     "output_type": "execute_result"
    }
   ],
   "source": [
    "df.describe()"
   ]
  },
  {
   "cell_type": "code",
   "execution_count": 20,
   "metadata": {},
   "outputs": [],
   "source": [
    "#population mean and std\n",
    "\n",
    "roi_mean = df['roi'].mean()\n",
    "roi_std = df['roi'].std()\n",
    "\n",
    "stats.norm(roi_mean, roi_std)\n",
    "plt.style.use('seaborn')"
   ]
  },
  {
   "cell_type": "code",
   "execution_count": 21,
   "metadata": {},
   "outputs": [],
   "source": [
    "#Mystery mean\n",
    "df_mystery = df[df['genres'].str.contains('Mystery')]\n",
    "mystery_mean = df_mystery['roi'].mean()\n",
    "#df_mystery\n",
    "#print(mystery_mean)\n",
    "\n",
    "#Horror mean\n",
    "df_horror = df[df['genres'].str.contains('Horror')]\n",
    "horror_mean = df_horror['roi'].mean()\n",
    "#df_mystery\n",
    "#print(mystery_mean)\n",
    "\n",
    "#Thriller mean\n",
    "df_thriller = df[df['genres'].str.contains('Thriller')]\n",
    "thriller_mean = df_thriller['roi'].mean()\n",
    "#df_mystery\n",
    "#print(mystery_mean)\n",
    "\n",
    "#Biography mean\n",
    "df_Biography = df[df['genres'].str.contains('Biography')]\n",
    "Biography_mean = df_Biography['roi'].mean()\n",
    "#df_mystery\n",
    "#print(mystery_mean)"
   ]
  },
  {
   "cell_type": "code",
   "execution_count": 22,
   "metadata": {},
   "outputs": [
    {
     "name": "stdout",
     "output_type": "stream",
     "text": [
      "P-value: 2.6179224713596128e-06\n",
      "True\n",
      "Percent area under the curve from Zscore of 4.555108887058692 is 99.99973820775287% \n",
      "\n",
      "P-value: 1.8842501502303044e-05\n",
      "True\n",
      "Percent area under the curve from Zscore of 4.121233011735249 is 99.99811574984977% \n",
      "\n",
      "P-value: 0.007801558342143355\n",
      "True\n",
      "Percent area under the curve from Zscore of 2.418069025110882 is 99.21984416578566% \n",
      "\n",
      "P-value: 0.11891776733913628\n",
      "False\n",
      "Percent area under the curve from Zscore of 1.180414155426399 is 88.10822326608637% \n",
      "\n"
     ]
    }
   ],
   "source": [
    "# Z score Function\n",
    "\n",
    "def Zscore(Dataframe, mean):\n",
    "    x_bar= mean\n",
    "    n =  len(Dataframe.id)\n",
    "    sigma = roi_std\n",
    "    mu = roi_mean\n",
    "    z = (x_bar - mu)/(sigma/sqrt(n))\n",
    "\n",
    "    pval= 1-stats.norm.cdf(z)\n",
    "    print(f'P-value: {pval}') \n",
    "    print(pval<0.05)\n",
    "    print(f'Percent area under the curve from Zscore of {z} is {stats.norm.cdf(z)*100}% \\n')\n",
    "   \n",
    "    \n",
    "Zscore(df_mystery, mystery_mean)\n",
    "Zscore(df_horror, horror_mean)\n",
    "Zscore(df_thriller, thriller_mean)\n",
    "Zscore(df_Biography, Biography_mean)"
   ]
  },
  {
   "cell_type": "code",
   "execution_count": null,
   "metadata": {},
   "outputs": [],
   "source": []
  },
  {
   "cell_type": "markdown",
   "metadata": {},
   "source": [
    "# Law of Diminishing Returns Analysis"
   ]
  },
  {
   "cell_type": "markdown",
   "metadata": {},
   "source": [
    "# Runtime Analysis"
   ]
  }
 ],
 "metadata": {
  "kernelspec": {
   "display_name": "Python (learn-env)",
   "language": "python",
   "name": "learn-env"
  },
  "language_info": {
   "codemirror_mode": {
    "name": "ipython",
    "version": 3
   },
   "file_extension": ".py",
   "mimetype": "text/x-python",
   "name": "python",
   "nbconvert_exporter": "python",
   "pygments_lexer": "ipython3",
   "version": "3.8.5"
  }
 },
 "nbformat": 4,
 "nbformat_minor": 4
}
