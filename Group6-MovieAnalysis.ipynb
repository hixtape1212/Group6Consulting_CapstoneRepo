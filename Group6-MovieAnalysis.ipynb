{
 "cells": [
  {
   "cell_type": "markdown",
   "metadata": {},
   "source": [
    "## Creating main dataset to standardize for the Final Jupyter Notebook"
   ]
  },
  {
   "cell_type": "markdown",
   "metadata": {},
   "source": [
    "Needs to have ROI, Budgets, and Runntime"
   ]
  },
  {
   "cell_type": "code",
   "execution_count": 2,
   "metadata": {},
   "outputs": [],
   "source": [
    "### Import the nessesary libraries\n",
    "import pandas as pd\n",
    "import sqlite3 \n",
    "import matplotlib.pyplot as plt\n",
    "import numpy as np\n",
    "%matplotlib inline\n",
    "import seaborn as sns\n",
    "import scipy.stats as stats"
   ]
  },
  {
   "cell_type": "code",
   "execution_count": 3,
   "metadata": {},
   "outputs": [],
   "source": [
    "df_num = pd.read_csv('data/tn.movie_budgets.csv.gz')"
   ]
  },
  {
   "cell_type": "code",
   "execution_count": 4,
   "metadata": {},
   "outputs": [],
   "source": [
    "conn = sqlite3.connect('data/sqldata/im.db')\n",
    "q = \"\"\"\n",
    "SELECT \n",
    "    primary_title AS p_title,\n",
    "    runtime_minutes AS time_min,\n",
    "    averagerating AS avg_rating,\n",
    "    genres\n",
    "FROM movie_basics\n",
    "JOIN movie_ratings\n",
    "    USING(movie_id)\n",
    ";\n",
    "\"\"\"\n",
    "df_IMDB = pd.read_sql(q, conn)"
   ]
  },
  {
   "cell_type": "markdown",
   "metadata": {},
   "source": [
    "Combine the two into a single dataframe"
   ]
  },
  {
   "cell_type": "code",
   "execution_count": 5,
   "metadata": {},
   "outputs": [],
   "source": [
    "### Merge on Primary Title\n",
    "df = pd.merge(df_IMDB, \n",
    "            df_num, \n",
    "            how='inner', \n",
    "            left_on = 'p_title', \n",
    "            right_on = 'movie')\n",
    "#df.info()"
   ]
  },
  {
   "cell_type": "markdown",
   "metadata": {},
   "source": [
    "Cleaning the dataset"
   ]
  },
  {
   "cell_type": "code",
   "execution_count": 6,
   "metadata": {},
   "outputs": [],
   "source": [
    "#Domestic\n",
    "df['domestic_millions'] = df.domestic_gross.str.replace(',','')\n",
    "df['domestic_millions'] = df.domestic_millions.str.replace('$','')\n",
    "df['domestic_millions'] = pd.to_numeric(df.domestic_millions) / 1000000\n",
    "\n",
    "#Worldwide\n",
    "df['worldwide_millions'] = df.worldwide_gross.str.replace(',','')\n",
    "df['worldwide_millions'] = df.worldwide_millions.str.replace('$','')\n",
    "df['worldwide_millions'] = pd.to_numeric(df.worldwide_millions) / 1000000\n",
    "\n",
    "# Get rid of non-numerics in production_budget\n",
    "df['budget_millions'] = df.production_budget.str.replace(',','')\n",
    "df['budget_millions'] = df.budget_millions.str.replace('$','')\n",
    "df['budget_millions'] = pd.to_numeric(df.budget_millions) / 1000000\n",
    "\n",
    "#df.info()"
   ]
  },
  {
   "cell_type": "code",
   "execution_count": 7,
   "metadata": {
    "scrolled": true
   },
   "outputs": [],
   "source": [
    "#Drop duplicates\n",
    "df.drop_duplicates(subset=['movie'],inplace=True)\n",
    "# df.head(10)"
   ]
  },
  {
   "cell_type": "code",
   "execution_count": 8,
   "metadata": {},
   "outputs": [],
   "source": [
    "#df.info()"
   ]
  },
  {
   "cell_type": "markdown",
   "metadata": {},
   "source": [
    "Adding in the correct roi"
   ]
  },
  {
   "cell_type": "code",
   "execution_count": 9,
   "metadata": {},
   "outputs": [],
   "source": [
    "df['roi'] = (df.worldwide_millions - df.budget_millions)/df.budget_millions\n",
    "#df.head()"
   ]
  },
  {
   "cell_type": "markdown",
   "metadata": {},
   "source": [
    "Add in the binning for the production budget"
   ]
  },
  {
   "cell_type": "code",
   "execution_count": 10,
   "metadata": {},
   "outputs": [],
   "source": [
    "def binning(x):\n",
    "    if x > 216:\n",
    "        return 216\n",
    "    elif x > 108:\n",
    "        return 108\n",
    "    elif x > 64:\n",
    "        return 64\n",
    "    elif x > 32:\n",
    "        return 32\n",
    "    elif x > 16:\n",
    "        return 16\n",
    "    elif x > 8:\n",
    "        return 8\n",
    "    elif x > 4:\n",
    "        return 4\n",
    "    elif x > 2:\n",
    "        return 2\n",
    "    else:\n",
    "        return 1"
   ]
  },
  {
   "cell_type": "code",
   "execution_count": 11,
   "metadata": {},
   "outputs": [],
   "source": [
    "x = [binning(x) for x in df['budget_millions']]"
   ]
  },
  {
   "cell_type": "code",
   "execution_count": 12,
   "metadata": {},
   "outputs": [],
   "source": [
    "pd.options.mode.chained_assignment = None\n",
    "df['budget_binning'] = x"
   ]
  },
  {
   "cell_type": "code",
   "execution_count": 13,
   "metadata": {},
   "outputs": [
    {
     "data": {
      "text/html": [
       "<div>\n",
       "<style scoped>\n",
       "    .dataframe tbody tr th:only-of-type {\n",
       "        vertical-align: middle;\n",
       "    }\n",
       "\n",
       "    .dataframe tbody tr th {\n",
       "        vertical-align: top;\n",
       "    }\n",
       "\n",
       "    .dataframe thead th {\n",
       "        text-align: right;\n",
       "    }\n",
       "</style>\n",
       "<table border=\"1\" class=\"dataframe\">\n",
       "  <thead>\n",
       "    <tr style=\"text-align: right;\">\n",
       "      <th></th>\n",
       "      <th>p_title</th>\n",
       "      <th>time_min</th>\n",
       "      <th>avg_rating</th>\n",
       "      <th>genres</th>\n",
       "      <th>id</th>\n",
       "      <th>release_date</th>\n",
       "      <th>movie</th>\n",
       "      <th>production_budget</th>\n",
       "      <th>domestic_gross</th>\n",
       "      <th>worldwide_gross</th>\n",
       "      <th>domestic_millions</th>\n",
       "      <th>worldwide_millions</th>\n",
       "      <th>budget_millions</th>\n",
       "      <th>roi</th>\n",
       "      <th>budget_binning</th>\n",
       "    </tr>\n",
       "  </thead>\n",
       "  <tbody>\n",
       "    <tr>\n",
       "      <th>0</th>\n",
       "      <td>Foodfight!</td>\n",
       "      <td>91.0</td>\n",
       "      <td>1.9</td>\n",
       "      <td>Action,Animation,Comedy</td>\n",
       "      <td>26</td>\n",
       "      <td>Dec 31, 2012</td>\n",
       "      <td>Foodfight!</td>\n",
       "      <td>$45,000,000</td>\n",
       "      <td>$0</td>\n",
       "      <td>$73,706</td>\n",
       "      <td>0.000000</td>\n",
       "      <td>0.073706</td>\n",
       "      <td>45.0</td>\n",
       "      <td>-0.998362</td>\n",
       "      <td>32</td>\n",
       "    </tr>\n",
       "    <tr>\n",
       "      <th>1</th>\n",
       "      <td>The Overnight</td>\n",
       "      <td>88.0</td>\n",
       "      <td>7.5</td>\n",
       "      <td>None</td>\n",
       "      <td>21</td>\n",
       "      <td>Jun 19, 2015</td>\n",
       "      <td>The Overnight</td>\n",
       "      <td>$200,000</td>\n",
       "      <td>$1,109,808</td>\n",
       "      <td>$1,165,996</td>\n",
       "      <td>1.109808</td>\n",
       "      <td>1.165996</td>\n",
       "      <td>0.2</td>\n",
       "      <td>4.829980</td>\n",
       "      <td>1</td>\n",
       "    </tr>\n",
       "    <tr>\n",
       "      <th>3</th>\n",
       "      <td>On the Road</td>\n",
       "      <td>124.0</td>\n",
       "      <td>6.1</td>\n",
       "      <td>Adventure,Drama,Romance</td>\n",
       "      <td>17</td>\n",
       "      <td>Mar 22, 2013</td>\n",
       "      <td>On the Road</td>\n",
       "      <td>$25,000,000</td>\n",
       "      <td>$720,828</td>\n",
       "      <td>$9,313,302</td>\n",
       "      <td>0.720828</td>\n",
       "      <td>9.313302</td>\n",
       "      <td>25.0</td>\n",
       "      <td>-0.627468</td>\n",
       "      <td>16</td>\n",
       "    </tr>\n",
       "    <tr>\n",
       "      <th>6</th>\n",
       "      <td>The Secret Life of Walter Mitty</td>\n",
       "      <td>114.0</td>\n",
       "      <td>7.3</td>\n",
       "      <td>Adventure,Comedy,Drama</td>\n",
       "      <td>37</td>\n",
       "      <td>Dec 25, 2013</td>\n",
       "      <td>The Secret Life of Walter Mitty</td>\n",
       "      <td>$91,000,000</td>\n",
       "      <td>$58,236,838</td>\n",
       "      <td>$187,861,183</td>\n",
       "      <td>58.236838</td>\n",
       "      <td>187.861183</td>\n",
       "      <td>91.0</td>\n",
       "      <td>1.064409</td>\n",
       "      <td>64</td>\n",
       "    </tr>\n",
       "    <tr>\n",
       "      <th>7</th>\n",
       "      <td>A Walk Among the Tombstones</td>\n",
       "      <td>114.0</td>\n",
       "      <td>6.5</td>\n",
       "      <td>Action,Crime,Drama</td>\n",
       "      <td>67</td>\n",
       "      <td>Sep 19, 2014</td>\n",
       "      <td>A Walk Among the Tombstones</td>\n",
       "      <td>$28,000,000</td>\n",
       "      <td>$26,017,685</td>\n",
       "      <td>$62,108,587</td>\n",
       "      <td>26.017685</td>\n",
       "      <td>62.108587</td>\n",
       "      <td>28.0</td>\n",
       "      <td>1.218164</td>\n",
       "      <td>16</td>\n",
       "    </tr>\n",
       "    <tr>\n",
       "      <th>8</th>\n",
       "      <td>Jurassic World</td>\n",
       "      <td>124.0</td>\n",
       "      <td>7.0</td>\n",
       "      <td>Action,Adventure,Sci-Fi</td>\n",
       "      <td>34</td>\n",
       "      <td>Jun 12, 2015</td>\n",
       "      <td>Jurassic World</td>\n",
       "      <td>$215,000,000</td>\n",
       "      <td>$652,270,625</td>\n",
       "      <td>$1,648,854,864</td>\n",
       "      <td>652.270625</td>\n",
       "      <td>1648.854864</td>\n",
       "      <td>215.0</td>\n",
       "      <td>6.669092</td>\n",
       "      <td>108</td>\n",
       "    </tr>\n",
       "    <tr>\n",
       "      <th>9</th>\n",
       "      <td>The Rum Diary</td>\n",
       "      <td>119.0</td>\n",
       "      <td>6.2</td>\n",
       "      <td>Comedy,Drama</td>\n",
       "      <td>16</td>\n",
       "      <td>Oct 28, 2011</td>\n",
       "      <td>The Rum Diary</td>\n",
       "      <td>$45,000,000</td>\n",
       "      <td>$13,109,815</td>\n",
       "      <td>$21,544,732</td>\n",
       "      <td>13.109815</td>\n",
       "      <td>21.544732</td>\n",
       "      <td>45.0</td>\n",
       "      <td>-0.521228</td>\n",
       "      <td>32</td>\n",
       "    </tr>\n",
       "    <tr>\n",
       "      <th>10</th>\n",
       "      <td>The Three Stooges</td>\n",
       "      <td>92.0</td>\n",
       "      <td>5.1</td>\n",
       "      <td>Comedy,Family</td>\n",
       "      <td>4</td>\n",
       "      <td>Apr 13, 2012</td>\n",
       "      <td>The Three Stooges</td>\n",
       "      <td>$30,000,000</td>\n",
       "      <td>$44,338,224</td>\n",
       "      <td>$54,052,249</td>\n",
       "      <td>44.338224</td>\n",
       "      <td>54.052249</td>\n",
       "      <td>30.0</td>\n",
       "      <td>0.801742</td>\n",
       "      <td>16</td>\n",
       "    </tr>\n",
       "    <tr>\n",
       "      <th>11</th>\n",
       "      <td>Anderson's Cross</td>\n",
       "      <td>98.0</td>\n",
       "      <td>5.5</td>\n",
       "      <td>Comedy,Drama,Romance</td>\n",
       "      <td>65</td>\n",
       "      <td>Dec 31, 2010</td>\n",
       "      <td>Anderson's Cross</td>\n",
       "      <td>$300,000</td>\n",
       "      <td>$0</td>\n",
       "      <td>$0</td>\n",
       "      <td>0.000000</td>\n",
       "      <td>0.000000</td>\n",
       "      <td>0.3</td>\n",
       "      <td>-1.000000</td>\n",
       "      <td>1</td>\n",
       "    </tr>\n",
       "    <tr>\n",
       "      <th>12</th>\n",
       "      <td>Tangled</td>\n",
       "      <td>100.0</td>\n",
       "      <td>7.8</td>\n",
       "      <td>Adventure,Animation,Comedy</td>\n",
       "      <td>15</td>\n",
       "      <td>Nov 24, 2010</td>\n",
       "      <td>Tangled</td>\n",
       "      <td>$260,000,000</td>\n",
       "      <td>$200,821,936</td>\n",
       "      <td>$586,477,240</td>\n",
       "      <td>200.821936</td>\n",
       "      <td>586.477240</td>\n",
       "      <td>260.0</td>\n",
       "      <td>1.255682</td>\n",
       "      <td>216</td>\n",
       "    </tr>\n",
       "  </tbody>\n",
       "</table>\n",
       "</div>"
      ],
      "text/plain": [
       "                            p_title  time_min  avg_rating  \\\n",
       "0                        Foodfight!      91.0         1.9   \n",
       "1                     The Overnight      88.0         7.5   \n",
       "3                       On the Road     124.0         6.1   \n",
       "6   The Secret Life of Walter Mitty     114.0         7.3   \n",
       "7       A Walk Among the Tombstones     114.0         6.5   \n",
       "8                    Jurassic World     124.0         7.0   \n",
       "9                     The Rum Diary     119.0         6.2   \n",
       "10                The Three Stooges      92.0         5.1   \n",
       "11                 Anderson's Cross      98.0         5.5   \n",
       "12                          Tangled     100.0         7.8   \n",
       "\n",
       "                        genres  id  release_date  \\\n",
       "0      Action,Animation,Comedy  26  Dec 31, 2012   \n",
       "1                         None  21  Jun 19, 2015   \n",
       "3      Adventure,Drama,Romance  17  Mar 22, 2013   \n",
       "6       Adventure,Comedy,Drama  37  Dec 25, 2013   \n",
       "7           Action,Crime,Drama  67  Sep 19, 2014   \n",
       "8      Action,Adventure,Sci-Fi  34  Jun 12, 2015   \n",
       "9                 Comedy,Drama  16  Oct 28, 2011   \n",
       "10               Comedy,Family   4  Apr 13, 2012   \n",
       "11        Comedy,Drama,Romance  65  Dec 31, 2010   \n",
       "12  Adventure,Animation,Comedy  15  Nov 24, 2010   \n",
       "\n",
       "                              movie production_budget domestic_gross  \\\n",
       "0                        Foodfight!       $45,000,000             $0   \n",
       "1                     The Overnight          $200,000     $1,109,808   \n",
       "3                       On the Road       $25,000,000       $720,828   \n",
       "6   The Secret Life of Walter Mitty       $91,000,000    $58,236,838   \n",
       "7       A Walk Among the Tombstones       $28,000,000    $26,017,685   \n",
       "8                    Jurassic World      $215,000,000   $652,270,625   \n",
       "9                     The Rum Diary       $45,000,000    $13,109,815   \n",
       "10                The Three Stooges       $30,000,000    $44,338,224   \n",
       "11                 Anderson's Cross          $300,000             $0   \n",
       "12                          Tangled      $260,000,000   $200,821,936   \n",
       "\n",
       "   worldwide_gross  domestic_millions  worldwide_millions  budget_millions  \\\n",
       "0          $73,706           0.000000            0.073706             45.0   \n",
       "1       $1,165,996           1.109808            1.165996              0.2   \n",
       "3       $9,313,302           0.720828            9.313302             25.0   \n",
       "6     $187,861,183          58.236838          187.861183             91.0   \n",
       "7      $62,108,587          26.017685           62.108587             28.0   \n",
       "8   $1,648,854,864         652.270625         1648.854864            215.0   \n",
       "9      $21,544,732          13.109815           21.544732             45.0   \n",
       "10     $54,052,249          44.338224           54.052249             30.0   \n",
       "11              $0           0.000000            0.000000              0.3   \n",
       "12    $586,477,240         200.821936          586.477240            260.0   \n",
       "\n",
       "         roi  budget_binning  \n",
       "0  -0.998362              32  \n",
       "1   4.829980               1  \n",
       "3  -0.627468              16  \n",
       "6   1.064409              64  \n",
       "7   1.218164              16  \n",
       "8   6.669092             108  \n",
       "9  -0.521228              32  \n",
       "10  0.801742              16  \n",
       "11 -1.000000               1  \n",
       "12  1.255682             216  "
      ]
     },
     "execution_count": 13,
     "metadata": {},
     "output_type": "execute_result"
    }
   ],
   "source": [
    "df.head(10)"
   ]
  },
  {
   "cell_type": "markdown",
   "metadata": {},
   "source": [
    "# Genre Z-Test Analysis"
   ]
  },
  {
   "cell_type": "markdown",
   "metadata": {},
   "source": [
    "# Law of Diminishing Returns Analysis"
   ]
  },
  {
   "cell_type": "markdown",
   "metadata": {},
   "source": [
    "The objective with this analysis is to visualize the law of dimishing returns comparing production budget (our group will assume that production budget is cost) to the overall rating and ROI of the film. "
   ]
  },
  {
   "cell_type": "markdown",
   "metadata": {},
   "source": [
    "Starting with Production budget vs. Overall Rating"
   ]
  },
  {
   "cell_type": "code",
   "execution_count": 14,
   "metadata": {},
   "outputs": [
    {
     "data": {
      "text/plain": [
       "<AxesSubplot:xlabel='avg_rating', ylabel='budget_millions'>"
      ]
     },
     "execution_count": 14,
     "metadata": {},
     "output_type": "execute_result"
    },
    {
     "data": {
      "image/png": "[encoded data removed]",
      "text/plain": [
       "<Figure size 432x288 with 1 Axes>"
      ]
     },
     "metadata": {
      "needs_background": "light"
     },
     "output_type": "display_data"
    }
   ],
   "source": [
    "#First a simple viuslization\n",
    "sns.histplot(x=df.avg_rating,\n",
    "             y=df.budget_millions)"
   ]
  },
  {
   "cell_type": "markdown",
   "metadata": {},
   "source": [
    "From this visual we can see that the average ratings are concentrated around the mean, as well as there are many outliers in budget upward of 200 Million. Using the binning already added into the dataframe, we can bin the production budgets for a visualization showing the increase in budget vs the average rating. This will demonstrate the rate and variance of ratings as production budget (Movie Costs) increase."
   ]
  },
  {
   "cell_type": "code",
   "execution_count": 18,
   "metadata": {},
   "outputs": [
    {
     "name": "stderr",
     "output_type": "stream",
     "text": [
      "C:\\Users\\samumartin\\Anaconda3\\envs\\learn-env\\lib\\site-packages\\seaborn\\_decorators.py:36: FutureWarning: Pass the following variables as keyword args: x, y. From version 0.12, the only valid positional argument will be `data`, and passing other arguments without an explicit keyword will result in an error or misinterpretation.\n",
      "  warnings.warn(\n"
     ]
    },
    {
     "data": {
      "text/plain": [
       "[Text(0.5, 0, 'Budget Millions'),\n",
       " Text(0, 0.5, 'Average Rating'),\n",
       " Text(0.5, 1.0, 'Diminishing Ratings as Budget Increases')]"
      ]
     },
     "execution_count": 18,
     "metadata": {},
     "output_type": "execute_result"
    },
    {
     "data": {
      "image/png": "[encoded data removed]",
      "text/plain": [
       "<Figure size 576x432 with 1 Axes>"
      ]
     },
     "metadata": {
      "needs_background": "light"
     },
     "output_type": "display_data"
    }
   ],
   "source": [
    "# Use matplotlib to set the figure size and shape\n",
    "fig, ax = plt.subplots(figsize=(8,6))\n",
    "\n",
    "#Create a lineplot of both using seaborn\n",
    "ax = sns.lineplot(df.budget_binning, df.avg_rating)\n",
    "ax.set(xlabel='Budget Millions', ylabel='Average Rating', title='Diminishing Ratings as Budget Increases')\n",
    "# ax.axhline(df.avg_rating.mean(), color='red')"
   ]
  },
  {
   "cell_type": "markdown",
   "metadata": {},
   "source": [
    "Based on the plot above, we can see that after budgets start to excede 100 million, returns start to diminish as well as become more volitile. It shows that ratings will tend to show less improvement in ratings as the production budget increases. Now let's try the same thing but for ROI."
   ]
  },
  {
   "cell_type": "code",
   "execution_count": 19,
   "metadata": {},
   "outputs": [
    {
     "name": "stderr",
     "output_type": "stream",
     "text": [
      "C:\\Users\\samumartin\\Anaconda3\\envs\\learn-env\\lib\\site-packages\\seaborn\\_decorators.py:36: FutureWarning: Pass the following variables as keyword args: x, y. From version 0.12, the only valid positional argument will be `data`, and passing other arguments without an explicit keyword will result in an error or misinterpretation.\n",
      "  warnings.warn(\n"
     ]
    },
    {
     "data": {
      "text/plain": [
       "<matplotlib.lines.Line2D at 0x1fdbe4fcac0>"
      ]
     },
     "execution_count": 19,
     "metadata": {},
     "output_type": "execute_result"
    },
    {
     "data": {
      "image/png": "[encoded data removed]",
      "text/plain": [
       "<Figure size 576x432 with 1 Axes>"
      ]
     },
     "metadata": {
      "needs_background": "light"
     },
     "output_type": "display_data"
    }
   ],
   "source": [
    "fig, ax = plt.subplots(figsize=(8,6))\n",
    "ax = sns.lineplot(df.budget_binning, df.roi)\n",
    "ax.set(xlabel='Budget Millions', ylabel='ROI', title='Diminishing ROI per Budget')\n",
    "ax.axhline(df.roi.mean(), color='red')"
   ]
  },
  {
   "cell_type": "markdown",
   "metadata": {},
   "source": [
    "Based on the graph above, there seem to be a large amount of outliers on the upper end of ROI skewing our data. To get rid of that we're going to make a normal distribution using the ROI data points, and keep the lower 99% of those values as to not deal with large and unlikely ROI's."
   ]
  },
  {
   "cell_type": "code",
   "execution_count": 21,
   "metadata": {},
   "outputs": [
    {
     "data": {
      "text/plain": [
       "34.32943718308409"
      ]
     },
     "execution_count": 21,
     "metadata": {},
     "output_type": "execute_result"
    }
   ],
   "source": [
    "dist = stats.norm(df.roi.mean(),df.roi.std())\n",
    "dist.ppf(.99)\n",
    "#This now identifies the new cutoff for ROI values. We can use this to drop rows with ROI's greater than that"
   ]
  },
  {
   "cell_type": "code",
   "execution_count": 22,
   "metadata": {},
   "outputs": [
    {
     "name": "stdout",
     "output_type": "stream",
     "text": [
      "<class 'pandas.core.frame.DataFrame'>\n",
      "Int64Index: 2109 entries, 0 to 2874\n",
      "Data columns (total 15 columns):\n",
      " #   Column              Non-Null Count  Dtype  \n",
      "---  ------              --------------  -----  \n",
      " 0   p_title             2109 non-null   object \n",
      " 1   time_min            2055 non-null   float64\n",
      " 2   avg_rating          2109 non-null   float64\n",
      " 3   genres              2107 non-null   object \n",
      " 4   id                  2109 non-null   int64  \n",
      " 5   release_date        2109 non-null   object \n",
      " 6   movie               2109 non-null   object \n",
      " 7   production_budget   2109 non-null   object \n",
      " 8   domestic_gross      2109 non-null   object \n",
      " 9   worldwide_gross     2109 non-null   object \n",
      " 10  domestic_millions   2109 non-null   float64\n",
      " 11  worldwide_millions  2109 non-null   float64\n",
      " 12  budget_millions     2109 non-null   float64\n",
      " 13  roi                 2109 non-null   float64\n",
      " 14  budget_binning      2109 non-null   int64  \n",
      "dtypes: float64(6), int64(2), object(7)\n",
      "memory usage: 263.6+ KB\n"
     ]
    }
   ],
   "source": [
    "#Drop ROI's where the roi is > 3\n",
    "df_dropped34 = df.drop(df[df['roi'] > 34].index, inplace=False)\n",
    "df_dropped34.info()"
   ]
  },
  {
   "cell_type": "markdown",
   "metadata": {},
   "source": [
    "Let's run the graph again, this time without the large outliers on ROI."
   ]
  },
  {
   "cell_type": "code",
   "execution_count": 24,
   "metadata": {},
   "outputs": [
    {
     "name": "stderr",
     "output_type": "stream",
     "text": [
      "C:\\Users\\samumartin\\Anaconda3\\envs\\learn-env\\lib\\site-packages\\seaborn\\_decorators.py:36: FutureWarning: Pass the following variables as keyword args: x, y. From version 0.12, the only valid positional argument will be `data`, and passing other arguments without an explicit keyword will result in an error or misinterpretation.\n",
      "  warnings.warn(\n"
     ]
    },
    {
     "data": {
      "text/plain": [
       "<matplotlib.lines.Line2D at 0x1fdbe4a06a0>"
      ]
     },
     "execution_count": 24,
     "metadata": {},
     "output_type": "execute_result"
    },
    {
     "data": {
      "image/png": "[encoded data removed]",
      "text/plain": [
       "<Figure size 576x432 with 1 Axes>"
      ]
     },
     "metadata": {
      "needs_background": "light"
     },
     "output_type": "display_data"
    }
   ],
   "source": [
    "fig, ax = plt.subplots(figsize=(8,6))\n",
    "ax = sns.lineplot(df_dropped34.budget_binning, df_dropped34.roi)\n",
    "ax.set(xlabel='Budget Millions', ylabel='ROI', title='Diminishing AVG ROI per Budget')\n",
    "ax.axhline(df_dropped34.roi.mean(), color='red')"
   ]
  },
  {
   "cell_type": "markdown",
   "metadata": {},
   "source": [
    "From the graph above, we can now see that returns on investment virtually flatline after 100 million in production budget, with an increase in volatility. From both average ROI and average rating, we can say that returns diminish substantially after an investment of 100 million."
   ]
  },
  {
   "cell_type": "markdown",
   "metadata": {},
   "source": [
    "# Runtime Analysis"
   ]
  }
 ],
 "metadata": {
  "kernelspec": {
   "display_name": "Python (learn-env)",
   "language": "python",
   "name": "learn-env"
  },
  "language_info": {
   "codemirror_mode": {
    "name": "ipython",
    "version": 3
   },
   "file_extension": ".py",
   "mimetype": "text/x-python",
   "name": "python",
   "nbconvert_exporter": "python",
   "pygments_lexer": "ipython3",
   "version": "3.8.5"
  }
 },
 "nbformat": 4,
 "nbformat_minor": 4
}
