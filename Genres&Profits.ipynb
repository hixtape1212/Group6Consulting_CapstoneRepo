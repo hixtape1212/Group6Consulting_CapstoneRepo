{
 "cells": [
  {
   "cell_type": "markdown",
   "metadata": {},
   "source": [
    "# Genres&Profits\n",
    "\n",
    "We'll use IMDB and The Numbers data sets to identify which movie genres we can recommend based on analysis\n",
    "\n",
    "Notes:\n",
    "- IMDB has a column for genres\n",
    "- The Numbers has a column for the production budget and worldwide gross\n",
    "- Combine both using the movie title as an index"
   ]
  },
  {
   "cell_type": "markdown",
   "metadata": {},
   "source": [
    "### Importing Libraries"
   ]
  },
  {
   "cell_type": "code",
   "execution_count": 55,
   "metadata": {},
   "outputs": [],
   "source": [
    "import pandas as pd\n",
    "import numpy as np\n",
    "import seaborn as sns\n",
    "import matplotlib.pyplot as plt\n",
    "%matplotlib inline"
   ]
  },
  {
   "cell_type": "markdown",
   "metadata": {},
   "source": [
    "## The Numbers *"
   ]
  },
  {
   "cell_type": "code",
   "execution_count": 56,
   "metadata": {},
   "outputs": [
    {
     "data": {
      "text/html": [
       "<div>\n",
       "<style scoped>\n",
       "    .dataframe tbody tr th:only-of-type {\n",
       "        vertical-align: middle;\n",
       "    }\n",
       "\n",
       "    .dataframe tbody tr th {\n",
       "        vertical-align: top;\n",
       "    }\n",
       "\n",
       "    .dataframe thead th {\n",
       "        text-align: right;\n",
       "    }\n",
       "</style>\n",
       "<table border=\"1\" class=\"dataframe\">\n",
       "  <thead>\n",
       "    <tr style=\"text-align: right;\">\n",
       "      <th></th>\n",
       "      <th>id</th>\n",
       "      <th>release_date</th>\n",
       "      <th>movie</th>\n",
       "      <th>production_budget</th>\n",
       "      <th>domestic_gross</th>\n",
       "      <th>worldwide_gross</th>\n",
       "    </tr>\n",
       "  </thead>\n",
       "  <tbody>\n",
       "    <tr>\n",
       "      <th>0</th>\n",
       "      <td>1</td>\n",
       "      <td>Dec 18, 2009</td>\n",
       "      <td>Avatar</td>\n",
       "      <td>$425,000,000</td>\n",
       "      <td>$760,507,625</td>\n",
       "      <td>$2,776,345,279</td>\n",
       "    </tr>\n",
       "    <tr>\n",
       "      <th>1</th>\n",
       "      <td>2</td>\n",
       "      <td>May 20, 2011</td>\n",
       "      <td>Pirates of the Caribbean: On Stranger Tides</td>\n",
       "      <td>$410,600,000</td>\n",
       "      <td>$241,063,875</td>\n",
       "      <td>$1,045,663,875</td>\n",
       "    </tr>\n",
       "    <tr>\n",
       "      <th>2</th>\n",
       "      <td>3</td>\n",
       "      <td>Jun 7, 2019</td>\n",
       "      <td>Dark Phoenix</td>\n",
       "      <td>$350,000,000</td>\n",
       "      <td>$42,762,350</td>\n",
       "      <td>$149,762,350</td>\n",
       "    </tr>\n",
       "    <tr>\n",
       "      <th>3</th>\n",
       "      <td>4</td>\n",
       "      <td>May 1, 2015</td>\n",
       "      <td>Avengers: Age of Ultron</td>\n",
       "      <td>$330,600,000</td>\n",
       "      <td>$459,005,868</td>\n",
       "      <td>$1,403,013,963</td>\n",
       "    </tr>\n",
       "    <tr>\n",
       "      <th>4</th>\n",
       "      <td>5</td>\n",
       "      <td>Dec 15, 2017</td>\n",
       "      <td>Star Wars Ep. VIII: The Last Jedi</td>\n",
       "      <td>$317,000,000</td>\n",
       "      <td>$620,181,382</td>\n",
       "      <td>$1,316,721,747</td>\n",
       "    </tr>\n",
       "    <tr>\n",
       "      <th>5</th>\n",
       "      <td>6</td>\n",
       "      <td>Dec 18, 2015</td>\n",
       "      <td>Star Wars Ep. VII: The Force Awakens</td>\n",
       "      <td>$306,000,000</td>\n",
       "      <td>$936,662,225</td>\n",
       "      <td>$2,053,311,220</td>\n",
       "    </tr>\n",
       "    <tr>\n",
       "      <th>6</th>\n",
       "      <td>7</td>\n",
       "      <td>Apr 27, 2018</td>\n",
       "      <td>Avengers: Infinity War</td>\n",
       "      <td>$300,000,000</td>\n",
       "      <td>$678,815,482</td>\n",
       "      <td>$2,048,134,200</td>\n",
       "    </tr>\n",
       "    <tr>\n",
       "      <th>7</th>\n",
       "      <td>8</td>\n",
       "      <td>May 24, 2007</td>\n",
       "      <td>Pirates of the Caribbean: At Worldâs End</td>\n",
       "      <td>$300,000,000</td>\n",
       "      <td>$309,420,425</td>\n",
       "      <td>$963,420,425</td>\n",
       "    </tr>\n",
       "    <tr>\n",
       "      <th>8</th>\n",
       "      <td>9</td>\n",
       "      <td>Nov 17, 2017</td>\n",
       "      <td>Justice League</td>\n",
       "      <td>$300,000,000</td>\n",
       "      <td>$229,024,295</td>\n",
       "      <td>$655,945,209</td>\n",
       "    </tr>\n",
       "    <tr>\n",
       "      <th>9</th>\n",
       "      <td>10</td>\n",
       "      <td>Nov 6, 2015</td>\n",
       "      <td>Spectre</td>\n",
       "      <td>$300,000,000</td>\n",
       "      <td>$200,074,175</td>\n",
       "      <td>$879,620,923</td>\n",
       "    </tr>\n",
       "  </tbody>\n",
       "</table>\n",
       "</div>"
      ],
      "text/plain": [
       "   id  release_date                                        movie  \\\n",
       "0   1  Dec 18, 2009                                       Avatar   \n",
       "1   2  May 20, 2011  Pirates of the Caribbean: On Stranger Tides   \n",
       "2   3   Jun 7, 2019                                 Dark Phoenix   \n",
       "3   4   May 1, 2015                      Avengers: Age of Ultron   \n",
       "4   5  Dec 15, 2017            Star Wars Ep. VIII: The Last Jedi   \n",
       "5   6  Dec 18, 2015         Star Wars Ep. VII: The Force Awakens   \n",
       "6   7  Apr 27, 2018                       Avengers: Infinity War   \n",
       "7   8  May 24, 2007   Pirates of the Caribbean: At Worldâs End   \n",
       "8   9  Nov 17, 2017                               Justice League   \n",
       "9  10   Nov 6, 2015                                      Spectre   \n",
       "\n",
       "  production_budget domestic_gross worldwide_gross  \n",
       "0      $425,000,000   $760,507,625  $2,776,345,279  \n",
       "1      $410,600,000   $241,063,875  $1,045,663,875  \n",
       "2      $350,000,000    $42,762,350    $149,762,350  \n",
       "3      $330,600,000   $459,005,868  $1,403,013,963  \n",
       "4      $317,000,000   $620,181,382  $1,316,721,747  \n",
       "5      $306,000,000   $936,662,225  $2,053,311,220  \n",
       "6      $300,000,000   $678,815,482  $2,048,134,200  \n",
       "7      $300,000,000   $309,420,425    $963,420,425  \n",
       "8      $300,000,000   $229,024,295    $655,945,209  \n",
       "9      $300,000,000   $200,074,175    $879,620,923  "
      ]
     },
     "execution_count": 56,
     "metadata": {},
     "output_type": "execute_result"
    }
   ],
   "source": [
    "tn = pd.read_csv('tn.movie_budgets.csv')\n",
    "tn.head(10)"
   ]
  },
  {
   "cell_type": "code",
   "execution_count": 57,
   "metadata": {},
   "outputs": [],
   "source": [
    "#tn['domestic_gross'] = pd.to_numeric(tn['domestic_gross'])\n",
    "#tn['domestic_gross'] = tn['domestic_gross'].astype(str).astype(int)\n",
    "tn[tn.columns[3:]] = (tn[tn.columns[3:]].replace('[\\$,]', '', regex=True).astype(float))/1000000\n",
    "#tn.info()"
   ]
  },
  {
   "cell_type": "code",
   "execution_count": 58,
   "metadata": {},
   "outputs": [
    {
     "data": {
      "text/html": [
       "<div>\n",
       "<style scoped>\n",
       "    .dataframe tbody tr th:only-of-type {\n",
       "        vertical-align: middle;\n",
       "    }\n",
       "\n",
       "    .dataframe tbody tr th {\n",
       "        vertical-align: top;\n",
       "    }\n",
       "\n",
       "    .dataframe thead th {\n",
       "        text-align: right;\n",
       "    }\n",
       "</style>\n",
       "<table border=\"1\" class=\"dataframe\">\n",
       "  <thead>\n",
       "    <tr style=\"text-align: right;\">\n",
       "      <th></th>\n",
       "      <th>id</th>\n",
       "      <th>release_date</th>\n",
       "      <th>movie</th>\n",
       "      <th>production_budget</th>\n",
       "      <th>domestic_gross</th>\n",
       "      <th>worldwide_gross</th>\n",
       "      <th>roi</th>\n",
       "    </tr>\n",
       "  </thead>\n",
       "  <tbody>\n",
       "    <tr>\n",
       "      <th>0</th>\n",
       "      <td>1</td>\n",
       "      <td>Dec 18, 2009</td>\n",
       "      <td>Avatar</td>\n",
       "      <td>425.0</td>\n",
       "      <td>760.507625</td>\n",
       "      <td>2776.345279</td>\n",
       "      <td>553.257713</td>\n",
       "    </tr>\n",
       "    <tr>\n",
       "      <th>1</th>\n",
       "      <td>2</td>\n",
       "      <td>May 20, 2011</td>\n",
       "      <td>Pirates of the Caribbean: On Stranger Tides</td>\n",
       "      <td>410.6</td>\n",
       "      <td>241.063875</td>\n",
       "      <td>1045.663875</td>\n",
       "      <td>154.667286</td>\n",
       "    </tr>\n",
       "    <tr>\n",
       "      <th>2</th>\n",
       "      <td>3</td>\n",
       "      <td>Jun 7, 2019</td>\n",
       "      <td>Dark Phoenix</td>\n",
       "      <td>350.0</td>\n",
       "      <td>42.762350</td>\n",
       "      <td>149.762350</td>\n",
       "      <td>-57.210757</td>\n",
       "    </tr>\n",
       "  </tbody>\n",
       "</table>\n",
       "</div>"
      ],
      "text/plain": [
       "   id  release_date                                        movie  \\\n",
       "0   1  Dec 18, 2009                                       Avatar   \n",
       "1   2  May 20, 2011  Pirates of the Caribbean: On Stranger Tides   \n",
       "2   3   Jun 7, 2019                                 Dark Phoenix   \n",
       "\n",
       "   production_budget  domestic_gross  worldwide_gross         roi  \n",
       "0              425.0      760.507625      2776.345279  553.257713  \n",
       "1              410.6      241.063875      1045.663875  154.667286  \n",
       "2              350.0       42.762350       149.762350  -57.210757  "
      ]
     },
     "execution_count": 58,
     "metadata": {},
     "output_type": "execute_result"
    }
   ],
   "source": [
    "tn['roi'] = ((tn.worldwide_gross - tn.production_budget)/tn.production_budget)*100\n",
    "tn.head(3)\n",
    "# ROI : Profit earned from investment"
   ]
  },
  {
   "cell_type": "code",
   "execution_count": 59,
   "metadata": {},
   "outputs": [
    {
     "data": {
      "text/html": [
       "<div>\n",
       "<style scoped>\n",
       "    .dataframe tbody tr th:only-of-type {\n",
       "        vertical-align: middle;\n",
       "    }\n",
       "\n",
       "    .dataframe tbody tr th {\n",
       "        vertical-align: top;\n",
       "    }\n",
       "\n",
       "    .dataframe thead th {\n",
       "        text-align: right;\n",
       "    }\n",
       "</style>\n",
       "<table border=\"1\" class=\"dataframe\">\n",
       "  <thead>\n",
       "    <tr style=\"text-align: right;\">\n",
       "      <th></th>\n",
       "      <th>movie</th>\n",
       "      <th>release_date</th>\n",
       "      <th>worldwide_gross</th>\n",
       "    </tr>\n",
       "  </thead>\n",
       "  <tbody>\n",
       "    <tr>\n",
       "      <th>0</th>\n",
       "      <td>Avatar</td>\n",
       "      <td>Dec 18, 2009</td>\n",
       "      <td>2776.345279</td>\n",
       "    </tr>\n",
       "    <tr>\n",
       "      <th>1</th>\n",
       "      <td>Titanic</td>\n",
       "      <td>Dec 19, 1997</td>\n",
       "      <td>2208.208395</td>\n",
       "    </tr>\n",
       "    <tr>\n",
       "      <th>2</th>\n",
       "      <td>Star Wars Ep. VII: The Force Awakens</td>\n",
       "      <td>Dec 18, 2015</td>\n",
       "      <td>2053.311220</td>\n",
       "    </tr>\n",
       "    <tr>\n",
       "      <th>3</th>\n",
       "      <td>Avengers: Infinity War</td>\n",
       "      <td>Apr 27, 2018</td>\n",
       "      <td>2048.134200</td>\n",
       "    </tr>\n",
       "    <tr>\n",
       "      <th>4</th>\n",
       "      <td>Jurassic World</td>\n",
       "      <td>Jun 12, 2015</td>\n",
       "      <td>1648.854864</td>\n",
       "    </tr>\n",
       "    <tr>\n",
       "      <th>5</th>\n",
       "      <td>Furious 7</td>\n",
       "      <td>Apr 3, 2015</td>\n",
       "      <td>1518.722794</td>\n",
       "    </tr>\n",
       "    <tr>\n",
       "      <th>6</th>\n",
       "      <td>The Avengers</td>\n",
       "      <td>May 4, 2012</td>\n",
       "      <td>1517.935897</td>\n",
       "    </tr>\n",
       "    <tr>\n",
       "      <th>7</th>\n",
       "      <td>Avengers: Age of Ultron</td>\n",
       "      <td>May 1, 2015</td>\n",
       "      <td>1403.013963</td>\n",
       "    </tr>\n",
       "    <tr>\n",
       "      <th>8</th>\n",
       "      <td>Black Panther</td>\n",
       "      <td>Feb 16, 2018</td>\n",
       "      <td>1348.258224</td>\n",
       "    </tr>\n",
       "    <tr>\n",
       "      <th>9</th>\n",
       "      <td>Harry Potter and the Deathly Hallows: Part II</td>\n",
       "      <td>Jul 15, 2011</td>\n",
       "      <td>1341.693157</td>\n",
       "    </tr>\n",
       "  </tbody>\n",
       "</table>\n",
       "</div>"
      ],
      "text/plain": [
       "                                           movie  release_date  \\\n",
       "0                                         Avatar  Dec 18, 2009   \n",
       "1                                        Titanic  Dec 19, 1997   \n",
       "2           Star Wars Ep. VII: The Force Awakens  Dec 18, 2015   \n",
       "3                         Avengers: Infinity War  Apr 27, 2018   \n",
       "4                                 Jurassic World  Jun 12, 2015   \n",
       "5                                      Furious 7   Apr 3, 2015   \n",
       "6                                   The Avengers   May 4, 2012   \n",
       "7                        Avengers: Age of Ultron   May 1, 2015   \n",
       "8                                  Black Panther  Feb 16, 2018   \n",
       "9  Harry Potter and the Deathly Hallows: Part II  Jul 15, 2011   \n",
       "\n",
       "   worldwide_gross  \n",
       "0      2776.345279  \n",
       "1      2208.208395  \n",
       "2      2053.311220  \n",
       "3      2048.134200  \n",
       "4      1648.854864  \n",
       "5      1518.722794  \n",
       "6      1517.935897  \n",
       "7      1403.013963  \n",
       "8      1348.258224  \n",
       "9      1341.693157  "
      ]
     },
     "execution_count": 59,
     "metadata": {},
     "output_type": "execute_result"
    }
   ],
   "source": [
    "from pandasql import sqldf\n",
    "pysqldf = lambda q: sqldf(q, globals())\n",
    "q = \"\"\"SELECT movie, release_date, worldwide_gross\n",
    "     FROM tn\n",
    "     ORDER BY worldwide_gross DESC\n",
    "     LIMIT 10;\"\"\"\n",
    "\n",
    "movies = pysqldf(q)\n",
    "movies"
   ]
  },
  {
   "cell_type": "markdown",
   "metadata": {},
   "source": [
    "## IMBD (SQL) *"
   ]
  },
  {
   "cell_type": "code",
   "execution_count": 60,
   "metadata": {},
   "outputs": [
    {
     "data": {
      "text/html": [
       "<div>\n",
       "<style scoped>\n",
       "    .dataframe tbody tr th:only-of-type {\n",
       "        vertical-align: middle;\n",
       "    }\n",
       "\n",
       "    .dataframe tbody tr th {\n",
       "        vertical-align: top;\n",
       "    }\n",
       "\n",
       "    .dataframe thead th {\n",
       "        text-align: right;\n",
       "    }\n",
       "</style>\n",
       "<table border=\"1\" class=\"dataframe\">\n",
       "  <thead>\n",
       "    <tr style=\"text-align: right;\">\n",
       "      <th></th>\n",
       "      <th>movie</th>\n",
       "      <th>start_year</th>\n",
       "      <th>genres</th>\n",
       "    </tr>\n",
       "  </thead>\n",
       "  <tbody>\n",
       "    <tr>\n",
       "      <th>0</th>\n",
       "      <td>Sunghursh</td>\n",
       "      <td>2013</td>\n",
       "      <td>Action,Crime,Drama</td>\n",
       "    </tr>\n",
       "    <tr>\n",
       "      <th>1</th>\n",
       "      <td>Ashad Ka Ek Din</td>\n",
       "      <td>2019</td>\n",
       "      <td>Biography,Drama</td>\n",
       "    </tr>\n",
       "    <tr>\n",
       "      <th>2</th>\n",
       "      <td>The Other Side of the Wind</td>\n",
       "      <td>2018</td>\n",
       "      <td>Drama</td>\n",
       "    </tr>\n",
       "    <tr>\n",
       "      <th>3</th>\n",
       "      <td>Sabse Bada Sukh</td>\n",
       "      <td>2018</td>\n",
       "      <td>Comedy,Drama</td>\n",
       "    </tr>\n",
       "    <tr>\n",
       "      <th>4</th>\n",
       "      <td>La Telenovela Errante</td>\n",
       "      <td>2017</td>\n",
       "      <td>Comedy,Drama,Fantasy</td>\n",
       "    </tr>\n",
       "  </tbody>\n",
       "</table>\n",
       "</div>"
      ],
      "text/plain": [
       "                        movie  start_year                genres\n",
       "0                   Sunghursh        2013    Action,Crime,Drama\n",
       "1             Ashad Ka Ek Din        2019       Biography,Drama\n",
       "2  The Other Side of the Wind        2018                 Drama\n",
       "3             Sabse Bada Sukh        2018          Comedy,Drama\n",
       "4       La Telenovela Errante        2017  Comedy,Drama,Fantasy"
      ]
     },
     "execution_count": 60,
     "metadata": {},
     "output_type": "execute_result"
    }
   ],
   "source": [
    "import sqlite3 \n",
    "conn = sqlite3.connect('im.db')\n",
    "q= \"\"\"\n",
    "SELECT original_title AS movie, start_year, genres\n",
    "FROM movie_basics\n",
    "\"\"\"\n",
    "im = pd.read_sql(q, conn)\n",
    "im.head()\n",
    "#im.info()"
   ]
  },
  {
   "cell_type": "code",
   "execution_count": 10,
   "metadata": {},
   "outputs": [],
   "source": [
    "#im[im['genres']] = (im['genres']).astype(str)"
   ]
  },
  {
   "cell_type": "code",
   "execution_count": 61,
   "metadata": {},
   "outputs": [
    {
     "name": "stdout",
     "output_type": "stream",
     "text": [
      "<class 'pandas.core.frame.DataFrame'>\n",
      "Int64Index: 140734 entries, 0 to 146143\n",
      "Data columns (total 3 columns):\n",
      " #   Column      Non-Null Count   Dtype \n",
      "---  ------      --------------   ----- \n",
      " 0   movie       140734 non-null  object\n",
      " 1   start_year  140734 non-null  int64 \n",
      " 2   genres      140734 non-null  object\n",
      "dtypes: int64(1), object(2)\n",
      "memory usage: 4.3+ MB\n"
     ]
    }
   ],
   "source": [
    "im=im.dropna()\n",
    "im.info()"
   ]
  },
  {
   "cell_type": "code",
   "execution_count": 120,
   "metadata": {},
   "outputs": [],
   "source": [
    "#pd.read_sql(\"\"\"\n",
    "#SELECT *\n",
    "#FROM movie_basics\n",
    "#WHERE original_title LIKE '%Avatar%'\n",
    "#\"\"\", conn)"
   ]
  },
  {
   "cell_type": "markdown",
   "metadata": {},
   "source": [
    "# Merging IMBD with The Numbers"
   ]
  },
  {
   "cell_type": "code",
   "execution_count": 63,
   "metadata": {},
   "outputs": [
    {
     "data": {
      "text/html": [
       "<div>\n",
       "<style scoped>\n",
       "    .dataframe tbody tr th:only-of-type {\n",
       "        vertical-align: middle;\n",
       "    }\n",
       "\n",
       "    .dataframe tbody tr th {\n",
       "        vertical-align: top;\n",
       "    }\n",
       "\n",
       "    .dataframe thead th {\n",
       "        text-align: right;\n",
       "    }\n",
       "</style>\n",
       "<table border=\"1\" class=\"dataframe\">\n",
       "  <thead>\n",
       "    <tr style=\"text-align: right;\">\n",
       "      <th></th>\n",
       "      <th>id</th>\n",
       "      <th>release_date</th>\n",
       "      <th>production_budget</th>\n",
       "      <th>domestic_gross</th>\n",
       "      <th>worldwide_gross</th>\n",
       "      <th>roi</th>\n",
       "      <th>start_year</th>\n",
       "      <th>genres</th>\n",
       "    </tr>\n",
       "    <tr>\n",
       "      <th>movie</th>\n",
       "      <th></th>\n",
       "      <th></th>\n",
       "      <th></th>\n",
       "      <th></th>\n",
       "      <th></th>\n",
       "      <th></th>\n",
       "      <th></th>\n",
       "      <th></th>\n",
       "    </tr>\n",
       "  </thead>\n",
       "  <tbody>\n",
       "    <tr>\n",
       "      <th>Titanic</th>\n",
       "      <td>43</td>\n",
       "      <td>Dec 19, 1997</td>\n",
       "      <td>200.0</td>\n",
       "      <td>659.363944</td>\n",
       "      <td>2208.208395</td>\n",
       "      <td>1004.104198</td>\n",
       "      <td>2012</td>\n",
       "      <td>Adventure</td>\n",
       "    </tr>\n",
       "    <tr>\n",
       "      <th>Titanic</th>\n",
       "      <td>43</td>\n",
       "      <td>Dec 19, 1997</td>\n",
       "      <td>200.0</td>\n",
       "      <td>659.363944</td>\n",
       "      <td>2208.208395</td>\n",
       "      <td>1004.104198</td>\n",
       "      <td>2018</td>\n",
       "      <td>Family</td>\n",
       "    </tr>\n",
       "    <tr>\n",
       "      <th>Avengers: Infinity War</th>\n",
       "      <td>7</td>\n",
       "      <td>Apr 27, 2018</td>\n",
       "      <td>300.0</td>\n",
       "      <td>678.815482</td>\n",
       "      <td>2048.134200</td>\n",
       "      <td>582.711400</td>\n",
       "      <td>2018</td>\n",
       "      <td>Action,Adventure,Sci-Fi</td>\n",
       "    </tr>\n",
       "    <tr>\n",
       "      <th>Jurassic World</th>\n",
       "      <td>34</td>\n",
       "      <td>Jun 12, 2015</td>\n",
       "      <td>215.0</td>\n",
       "      <td>652.270625</td>\n",
       "      <td>1648.854864</td>\n",
       "      <td>666.909239</td>\n",
       "      <td>2015</td>\n",
       "      <td>Action,Adventure,Sci-Fi</td>\n",
       "    </tr>\n",
       "    <tr>\n",
       "      <th>The Avengers</th>\n",
       "      <td>27</td>\n",
       "      <td>May 4, 2012</td>\n",
       "      <td>225.0</td>\n",
       "      <td>623.279547</td>\n",
       "      <td>1517.935897</td>\n",
       "      <td>574.638176</td>\n",
       "      <td>2012</td>\n",
       "      <td>Action,Adventure,Sci-Fi</td>\n",
       "    </tr>\n",
       "    <tr>\n",
       "      <th>Avengers: Age of Ultron</th>\n",
       "      <td>4</td>\n",
       "      <td>May 1, 2015</td>\n",
       "      <td>330.6</td>\n",
       "      <td>459.005868</td>\n",
       "      <td>1403.013963</td>\n",
       "      <td>324.384139</td>\n",
       "      <td>2015</td>\n",
       "      <td>Action,Adventure,Sci-Fi</td>\n",
       "    </tr>\n",
       "    <tr>\n",
       "      <th>Black Panther</th>\n",
       "      <td>42</td>\n",
       "      <td>Feb 16, 2018</td>\n",
       "      <td>200.0</td>\n",
       "      <td>700.059566</td>\n",
       "      <td>1348.258224</td>\n",
       "      <td>574.129112</td>\n",
       "      <td>2018</td>\n",
       "      <td>Action,Adventure,Sci-Fi</td>\n",
       "    </tr>\n",
       "    <tr>\n",
       "      <th>Jurassic World: Fallen Kingdom</th>\n",
       "      <td>13</td>\n",
       "      <td>Jun 22, 2018</td>\n",
       "      <td>170.0</td>\n",
       "      <td>417.719760</td>\n",
       "      <td>1305.772799</td>\n",
       "      <td>668.101646</td>\n",
       "      <td>2018</td>\n",
       "      <td>Action,Adventure,Sci-Fi</td>\n",
       "    </tr>\n",
       "    <tr>\n",
       "      <th>Frozen</th>\n",
       "      <td>56</td>\n",
       "      <td>Nov 22, 2013</td>\n",
       "      <td>150.0</td>\n",
       "      <td>400.738009</td>\n",
       "      <td>1272.469910</td>\n",
       "      <td>748.313273</td>\n",
       "      <td>2010</td>\n",
       "      <td>Adventure,Drama,Sport</td>\n",
       "    </tr>\n",
       "    <tr>\n",
       "      <th>Frozen</th>\n",
       "      <td>56</td>\n",
       "      <td>Nov 22, 2013</td>\n",
       "      <td>150.0</td>\n",
       "      <td>400.738009</td>\n",
       "      <td>1272.469910</td>\n",
       "      <td>748.313273</td>\n",
       "      <td>2013</td>\n",
       "      <td>Adventure,Animation,Comedy</td>\n",
       "    </tr>\n",
       "  </tbody>\n",
       "</table>\n",
       "</div>"
      ],
      "text/plain": [
       "                                id  release_date  production_budget  \\\n",
       "movie                                                                 \n",
       "Titanic                         43  Dec 19, 1997              200.0   \n",
       "Titanic                         43  Dec 19, 1997              200.0   \n",
       "Avengers: Infinity War           7  Apr 27, 2018              300.0   \n",
       "Jurassic World                  34  Jun 12, 2015              215.0   \n",
       "The Avengers                    27   May 4, 2012              225.0   \n",
       "Avengers: Age of Ultron          4   May 1, 2015              330.6   \n",
       "Black Panther                   42  Feb 16, 2018              200.0   \n",
       "Jurassic World: Fallen Kingdom  13  Jun 22, 2018              170.0   \n",
       "Frozen                          56  Nov 22, 2013              150.0   \n",
       "Frozen                          56  Nov 22, 2013              150.0   \n",
       "\n",
       "                                domestic_gross  worldwide_gross          roi  \\\n",
       "movie                                                                          \n",
       "Titanic                             659.363944      2208.208395  1004.104198   \n",
       "Titanic                             659.363944      2208.208395  1004.104198   \n",
       "Avengers: Infinity War              678.815482      2048.134200   582.711400   \n",
       "Jurassic World                      652.270625      1648.854864   666.909239   \n",
       "The Avengers                        623.279547      1517.935897   574.638176   \n",
       "Avengers: Age of Ultron             459.005868      1403.013963   324.384139   \n",
       "Black Panther                       700.059566      1348.258224   574.129112   \n",
       "Jurassic World: Fallen Kingdom      417.719760      1305.772799   668.101646   \n",
       "Frozen                              400.738009      1272.469910   748.313273   \n",
       "Frozen                              400.738009      1272.469910   748.313273   \n",
       "\n",
       "                                start_year                      genres  \n",
       "movie                                                                   \n",
       "Titanic                               2012                   Adventure  \n",
       "Titanic                               2018                      Family  \n",
       "Avengers: Infinity War                2018     Action,Adventure,Sci-Fi  \n",
       "Jurassic World                        2015     Action,Adventure,Sci-Fi  \n",
       "The Avengers                          2012     Action,Adventure,Sci-Fi  \n",
       "Avengers: Age of Ultron               2015     Action,Adventure,Sci-Fi  \n",
       "Black Panther                         2018     Action,Adventure,Sci-Fi  \n",
       "Jurassic World: Fallen Kingdom        2018     Action,Adventure,Sci-Fi  \n",
       "Frozen                                2010       Adventure,Drama,Sport  \n",
       "Frozen                                2013  Adventure,Animation,Comedy  "
      ]
     },
     "execution_count": 63,
     "metadata": {},
     "output_type": "execute_result"
    }
   ],
   "source": [
    "df_combine_genres = pd.merge(tn, im, how = 'inner')\n",
    "df_combine_genres.sort_values(['worldwide_gross'], ascending=[False], inplace= True)\n",
    "df_combine_genres.set_index('movie',  inplace= True)\n",
    "df_combine_genres.head(10)"
   ]
  },
  {
   "cell_type": "code",
   "execution_count": 64,
   "metadata": {},
   "outputs": [
    {
     "data": {
      "text/plain": [
       "(3473, 8)"
      ]
     },
     "execution_count": 64,
     "metadata": {},
     "output_type": "execute_result"
    }
   ],
   "source": [
    "df_combine_genres.shape"
   ]
  },
  {
   "cell_type": "markdown",
   "metadata": {},
   "source": [
    "## Find every type unique genre"
   ]
  },
  {
   "cell_type": "code",
   "execution_count": 65,
   "metadata": {},
   "outputs": [],
   "source": [
    "myList = df_combine_genres['genres'].tolist()\n",
    "#myList\n",
    "#myList[4].split(',')"
   ]
  },
  {
   "cell_type": "code",
   "execution_count": 66,
   "metadata": {},
   "outputs": [],
   "source": [
    "genre_list=[]\n",
    "for i in range(len(myList)):\n",
    "    genre_list.append(myList[i].split(','))\n",
    "#genre_list"
   ]
  },
  {
   "cell_type": "code",
   "execution_count": 67,
   "metadata": {},
   "outputs": [
    {
     "name": "stdout",
     "output_type": "stream",
     "text": [
      "23\n",
      "<class 'list'>\n"
     ]
    }
   ],
   "source": [
    "from itertools import chain\n",
    "genres=list(set(chain(*genre_list)))\n",
    "#print(genres)\n",
    "print(len(genres))\n",
    "print(type(genres))"
   ]
  },
  {
   "cell_type": "code",
   "execution_count": 50,
   "metadata": {},
   "outputs": [],
   "source": [
    "#df_combine_genres.str.contains('Sci-Fi', case=True)\n",
    "#'Sci-Fi' in df_combine_genres.index"
   ]
  },
  {
   "cell_type": "markdown",
   "metadata": {},
   "source": [
    "### Data Analysis"
   ]
  },
  {
   "cell_type": "code",
   "execution_count": 68,
   "metadata": {},
   "outputs": [
    {
     "data": {
      "image/png": "[encoded data removed]",
      "text/plain": [
       "<Figure size 864x288 with 1 Axes>"
      ]
     },
     "metadata": {
      "needs_background": "light"
     },
     "output_type": "display_data"
    }
   ],
   "source": [
    "#sns.barplot(x=genres,y=Gsums)\n",
    "#sns.histplot(df_combine_genres, kde=True)\n",
    "\n",
    "\n",
    "wwg_avg=[] #Worldwide gross Average profits.\n",
    "for i in range(len(genres)):\n",
    "    wwg = df_combine_genres['genres'].astype(str).str.contains(genres[i], regex = True, na = False)\n",
    "    wwg_avg.append(df_combine_genres['worldwide_gross'][wwg].mean())\n",
    "#wwg_avg\n",
    "\n",
    "fig = plt.figure(figsize = (12, 4))\n",
    " \n",
    "# creating the bar plot\n",
    "plt.bar(genres, wwg_avg, color = 'red',width = 0.9)\n",
    " \n",
    "plt.xlabel(\"Genres\")\n",
    "plt.xticks(rotation = 55)\n",
    "plt.ylabel(\"Worldwide gross\")\n",
    "plt.title(\"Every genre profit Worldwide\")\n",
    "plt.show()"
   ]
  },
  {
   "cell_type": "markdown",
   "metadata": {},
   "source": [
    "##### My conclusions:\n",
    "It seems that the movie genres that generate the most money worldwide are Animation, Adventure, Musical, Sci-fi, Fantasy and Action, respectively in that order being like the top 6.\n",
    "\n",
    "There may be different reasons why this happens and we could do more exploratory analysis or perhaps this question is out of our scope."
   ]
  },
  {
   "cell_type": "code",
   "execution_count": 69,
   "metadata": {},
   "outputs": [
    {
     "data": {
      "image/png": "[encoded data removed]",
      "text/plain": [
       "<Figure size 864x288 with 1 Axes>"
      ]
     },
     "metadata": {
      "needs_background": "light"
     },
     "output_type": "display_data"
    }
   ],
   "source": [
    "dg_avg=[] #Domestic gross Average profits.\n",
    "for i in range(len(genres)):\n",
    "    dg = df_combine_genres['genres'].astype(str).str.contains(genres[i], regex = True, na = False)\n",
    "    dg_avg.append(df_combine_genres['domestic_gross'][dg].mean())\n",
    "#dg_avg\n",
    "\n",
    "\n",
    "fig = plt.figure(figsize = (12, 4))\n",
    "plt.bar(genres, dg_avg, color='gold' ,width = 0.9)\n",
    " \n",
    "plt.xlabel(\"Genres\")\n",
    "plt.xticks(rotation = 55)\n",
    "plt.ylabel(\"Domestic gross\")\n",
    "plt.title(\"Every genre Domestic profit\")\n",
    "plt.show()"
   ]
  },
  {
   "cell_type": "markdown",
   "metadata": {},
   "source": [
    "By country of origin earnings are similar for each genre. Animation, Musical, Adventure, Science Fiction, Fantasy and Family as the top 6."
   ]
  },
  {
   "cell_type": "code",
   "execution_count": 70,
   "metadata": {},
   "outputs": [
    {
     "data": {
      "image/png": "[encoded data removed]",
      "text/plain": [
       "<Figure size 864x288 with 1 Axes>"
      ]
     },
     "metadata": {
      "needs_background": "light"
     },
     "output_type": "display_data"
    }
   ],
   "source": [
    "pb_avg=[] #production_budget Average profits.\n",
    "for i in range(len(genres)):\n",
    "    pb = df_combine_genres['genres'].astype(str).str.contains(genres[i], regex = True, na = False)\n",
    "    pb_avg.append(df_combine_genres['production_budget'][pb].mean())\n",
    "#print(pb_avg)\n",
    "\n",
    "\n",
    "fig = plt.figure(figsize = (12, 4))\n",
    "plt.bar(genres, pb_avg, color='pink' ,width = 0.9)\n",
    " \n",
    "plt.xlabel(\"Genres\")\n",
    "plt.xticks(rotation = 55)\n",
    "plt.ylabel(\"Production Budget\")\n",
    "plt.title(\"Every genre Production Budget\")\n",
    "plt.show()"
   ]
  },
  {
   "cell_type": "markdown",
   "metadata": {},
   "source": [
    "On the other hand we have that the most expensive films to produce are precisely Animation, Adventure, Action, Fantasy and Sci-Fi, in that order, given the equipment and technology that is needed to create these films such as visual effects, computers or tools and labor in order to Make the movie."
   ]
  },
  {
   "cell_type": "code",
   "execution_count": 71,
   "metadata": {},
   "outputs": [
    {
     "data": {
      "image/png": "[encoded data removed]",
      "text/plain": [
       "<Figure size 864x288 with 1 Axes>"
      ]
     },
     "metadata": {
      "needs_background": "light"
     },
     "output_type": "display_data"
    }
   ],
   "source": [
    "roi_avg=[] #Roi Average profits.\n",
    "for i in range(len(genres)):\n",
    "    roi = df_combine_genres['genres'].astype(str).str.contains(genres[i], regex = True, na = False)\n",
    "    roi_avg.append(df_combine_genres['roi'][roi].mean())\n",
    "#print(roi_avg)\n",
    "\n",
    "\n",
    "fig = plt.figure(figsize = (12, 4))\n",
    "plt.bar(genres, roi_avg, color='blue' ,width = 0.9)\n",
    " \n",
    "plt.xlabel(\"Genres\")\n",
    "plt.xticks(rotation = 55)\n",
    "plt.ylabel(\"ROI\")\n",
    "plt.title(\"Every genre ROI profit\")\n",
    "plt.show()"
   ]
  },
  {
   "cell_type": "markdown",
   "metadata": {},
   "source": [
    "Regarding the ROI we can clearly see that the genre that stands out the most is Musical, then Horror, Mystery, Family, Fantasy and Animation in that order without much difference."
   ]
  },
  {
   "cell_type": "code",
   "execution_count": 72,
   "metadata": {},
   "outputs": [
    {
     "data": {
      "image/png": "[encoded data removed]",
      "text/plain": [
       "<Figure size 864x288 with 1 Axes>"
      ]
     },
     "metadata": {
      "needs_background": "light"
     },
     "output_type": "display_data"
    }
   ],
   "source": [
    "#Worldwide gross sum profits.\n",
    "wwg_sum=[]\n",
    "for i in range(len(genres)):\n",
    "    Gsum = df_combine_genres['genres'].astype(str).str.contains(genres[i], regex = True, na = False)\n",
    "    wwg_sum.append(df_combine_genres['worldwide_gross'][Gsum].sum())\n",
    "#wwg_sum\n",
    "\n",
    "fig = plt.figure(figsize = (12, 4))\n",
    " \n",
    "# creating the bar plot\n",
    "plt.bar(genres, wwg_sum, color = 'green', width = 0.9)\n",
    " \n",
    "plt.xlabel(\"Genres\")\n",
    "plt.xticks(rotation = 55)\n",
    "plt.ylabel(\"Worldwide gross\")\n",
    "plt.title(\"Every genre profit Worldwide\")\n",
    "plt.show()"
   ]
  },
  {
   "cell_type": "code",
   "execution_count": 73,
   "metadata": {},
   "outputs": [
    {
     "data": {
      "text/html": [
       "<div>\n",
       "<style scoped>\n",
       "    .dataframe tbody tr th:only-of-type {\n",
       "        vertical-align: middle;\n",
       "    }\n",
       "\n",
       "    .dataframe tbody tr th {\n",
       "        vertical-align: top;\n",
       "    }\n",
       "\n",
       "    .dataframe thead th {\n",
       "        text-align: right;\n",
       "    }\n",
       "</style>\n",
       "<table border=\"1\" class=\"dataframe\">\n",
       "  <thead>\n",
       "    <tr style=\"text-align: right;\">\n",
       "      <th></th>\n",
       "      <th>movie</th>\n",
       "      <th>worldwide_gross</th>\n",
       "      <th>genres</th>\n",
       "    </tr>\n",
       "  </thead>\n",
       "  <tbody>\n",
       "    <tr>\n",
       "      <th>0</th>\n",
       "      <td>Avengers: Infinity War</td>\n",
       "      <td>2048.134200</td>\n",
       "      <td>Action,Adventure,Sci-Fi</td>\n",
       "    </tr>\n",
       "    <tr>\n",
       "      <th>1</th>\n",
       "      <td>Jurassic World</td>\n",
       "      <td>1648.854864</td>\n",
       "      <td>Action,Adventure,Sci-Fi</td>\n",
       "    </tr>\n",
       "    <tr>\n",
       "      <th>2</th>\n",
       "      <td>The Avengers</td>\n",
       "      <td>1517.935897</td>\n",
       "      <td>Action,Adventure,Sci-Fi</td>\n",
       "    </tr>\n",
       "    <tr>\n",
       "      <th>3</th>\n",
       "      <td>Avengers: Age of Ultron</td>\n",
       "      <td>1403.013963</td>\n",
       "      <td>Action,Adventure,Sci-Fi</td>\n",
       "    </tr>\n",
       "    <tr>\n",
       "      <th>4</th>\n",
       "      <td>Black Panther</td>\n",
       "      <td>1348.258224</td>\n",
       "      <td>Action,Adventure,Sci-Fi</td>\n",
       "    </tr>\n",
       "    <tr>\n",
       "      <th>...</th>\n",
       "      <td>...</td>\n",
       "      <td>...</td>\n",
       "      <td>...</td>\n",
       "    </tr>\n",
       "    <tr>\n",
       "      <th>211</th>\n",
       "      <td>The Dead Undead</td>\n",
       "      <td>0.000000</td>\n",
       "      <td>Action,Horror,Sci-Fi</td>\n",
       "    </tr>\n",
       "    <tr>\n",
       "      <th>212</th>\n",
       "      <td>Vessel</td>\n",
       "      <td>0.000000</td>\n",
       "      <td>Sci-Fi</td>\n",
       "    </tr>\n",
       "    <tr>\n",
       "      <th>213</th>\n",
       "      <td>Infected</td>\n",
       "      <td>0.000000</td>\n",
       "      <td>Action,Horror,Sci-Fi</td>\n",
       "    </tr>\n",
       "    <tr>\n",
       "      <th>214</th>\n",
       "      <td>Mutant World</td>\n",
       "      <td>0.000000</td>\n",
       "      <td>Sci-Fi</td>\n",
       "    </tr>\n",
       "    <tr>\n",
       "      <th>215</th>\n",
       "      <td>Independence Daysaster</td>\n",
       "      <td>0.000000</td>\n",
       "      <td>Action,Adventure,Sci-Fi</td>\n",
       "    </tr>\n",
       "  </tbody>\n",
       "</table>\n",
       "<p>216 rows × 3 columns</p>\n",
       "</div>"
      ],
      "text/plain": [
       "                       movie  worldwide_gross                   genres\n",
       "0     Avengers: Infinity War      2048.134200  Action,Adventure,Sci-Fi\n",
       "1             Jurassic World      1648.854864  Action,Adventure,Sci-Fi\n",
       "2               The Avengers      1517.935897  Action,Adventure,Sci-Fi\n",
       "3    Avengers: Age of Ultron      1403.013963  Action,Adventure,Sci-Fi\n",
       "4              Black Panther      1348.258224  Action,Adventure,Sci-Fi\n",
       "..                       ...              ...                      ...\n",
       "211          The Dead Undead         0.000000     Action,Horror,Sci-Fi\n",
       "212                   Vessel         0.000000                   Sci-Fi\n",
       "213                 Infected         0.000000     Action,Horror,Sci-Fi\n",
       "214             Mutant World         0.000000                   Sci-Fi\n",
       "215   Independence Daysaster         0.000000  Action,Adventure,Sci-Fi\n",
       "\n",
       "[216 rows x 3 columns]"
      ]
     },
     "execution_count": 73,
     "metadata": {},
     "output_type": "execute_result"
    }
   ],
   "source": [
    "from pandasql import sqldf\n",
    "pysqldf = lambda q: sqldf(q, globals())\n",
    "\n",
    "q = \"\"\"SELECT movie, worldwide_gross, genres\n",
    "     FROM df_combine_genres\n",
    "     WHERE genres LIKE '%Sci-Fi%'\n",
    "     ;\"\"\"\n",
    "gen = pysqldf(q)\n",
    "gen"
   ]
  },
  {
   "cell_type": "code",
   "execution_count": 74,
   "metadata": {},
   "outputs": [
    {
     "data": {
      "text/html": [
       "<div>\n",
       "<style scoped>\n",
       "    .dataframe tbody tr th:only-of-type {\n",
       "        vertical-align: middle;\n",
       "    }\n",
       "\n",
       "    .dataframe tbody tr th {\n",
       "        vertical-align: top;\n",
       "    }\n",
       "\n",
       "    .dataframe thead th {\n",
       "        text-align: right;\n",
       "    }\n",
       "</style>\n",
       "<table border=\"1\" class=\"dataframe\">\n",
       "  <thead>\n",
       "    <tr style=\"text-align: right;\">\n",
       "      <th></th>\n",
       "      <th>SciFi</th>\n",
       "    </tr>\n",
       "  </thead>\n",
       "  <tbody>\n",
       "    <tr>\n",
       "      <th>0</th>\n",
       "      <td>47951.932641</td>\n",
       "    </tr>\n",
       "  </tbody>\n",
       "</table>\n",
       "</div>"
      ],
      "text/plain": [
       "          SciFi\n",
       "0  47951.932641"
      ]
     },
     "execution_count": 74,
     "metadata": {},
     "output_type": "execute_result"
    }
   ],
   "source": [
    "from pandasql import sqldf                   #sum of every movie that is at least Sci-fi\n",
    "pysqldf = lambda f: sqldf(f, globals())\n",
    "f = \"\"\"\n",
    "     SELECT SUM(worldwide_gross) SciFi \n",
    "     FROM df_combine_genres\n",
    "     WHERE genres LIKE '%Sci-Fi%'\n",
    "     ;\"\"\"\n",
    "\n",
    "Ugen = pysqldf(f)\n",
    "Ugen"
   ]
  },
  {
   "cell_type": "code",
   "execution_count": null,
   "metadata": {},
   "outputs": [],
   "source": []
  },
  {
   "cell_type": "code",
   "execution_count": null,
   "metadata": {},
   "outputs": [],
   "source": []
  },
  {
   "cell_type": "code",
   "execution_count": null,
   "metadata": {},
   "outputs": [],
   "source": []
  },
  {
   "cell_type": "code",
   "execution_count": null,
   "metadata": {},
   "outputs": [],
   "source": []
  }
 ],
 "metadata": {
  "kernelspec": {
   "display_name": "Python (learn-env)",
   "language": "python",
   "name": "learn-env"
  },
  "language_info": {
   "codemirror_mode": {
    "name": "ipython",
    "version": 3
   },
   "file_extension": ".py",
   "mimetype": "text/x-python",
   "name": "python",
   "nbconvert_exporter": "python",
   "pygments_lexer": "ipython3",
   "version": "3.8.5"
  }
 },
 "nbformat": 4,
 "nbformat_minor": 4
}
